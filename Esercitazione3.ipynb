{
 "cells": [
  {
   "cell_type": "markdown",
   "id": "2f16cd51-b728-47c0-b39e-f22777b738f3",
   "metadata": {},
   "source": [
    "# Esercitazione 4 Marzo 2025"
   ]
  },
  {
   "cell_type": "code",
   "execution_count": 1,
   "id": "ddad91e5",
   "metadata": {},
   "outputs": [],
   "source": [
    "import numpy as np\n",
    "import math\n",
    "import time\n",
    "import matplotlib.pyplot as plt"
   ]
  },
  {
   "cell_type": "markdown",
   "id": "cea7be83-908f-4132-b3df-6eb9633855a9",
   "metadata": {},
   "source": [
    "## Esercizio 1\n",
    "- Costruire due array numpy-array 2d di dimensione 5000x5000 i cui valori sono campionati da una distribuzione gaussiana con media 0 e varianza 1.\n",
    "- Effetuare la somma tra le due matrici con due metodi:\n",
    "\n",
    "        -  utilizzando le operazioni vettoriali \n",
    "        -  considerando due cicli espliciti annidati, su righe e colonne\n",
    "- Confrontare le prestazioni in termini di tempo di esecuzione.\n",
    "        \n"
   ]
  },
  {
   "cell_type": "code",
   "execution_count": 12,
   "id": "b0e5c575",
   "metadata": {},
   "outputs": [
    {
     "name": "stdout",
     "output_type": "stream",
     "text": [
      "[[ True  True  True ...  True  True  True]\n",
      " [ True  True  True ...  True  True  True]\n",
      " [ True  True  True ...  True  True  True]\n",
      " ...\n",
      " [ True  True  True ...  True  True  True]\n",
      " [ True  True  True ...  True  True  True]\n",
      " [ True  True  True ...  True  True  True]]\n",
      "0.06585025787353516\n",
      "24.594940423965454\n"
     ]
    }
   ],
   "source": [
    "lenght = 5000\n",
    "\n",
    "arr1 = np.random.randn(lenght,lenght)\n",
    "arr2 = np.random.randn(lenght,lenght)\n",
    "\n",
    "np_time1 = time.time()\n",
    "arr3 = arr1 + arr2\n",
    "np_time2 = time.time()\n",
    "\n",
    "delta_np = np_time2 - np_time1\n",
    "\n",
    "arr4 = np.zeros_like(arr3)\n",
    "\n",
    "mat_time1 = time.time()\n",
    "\n",
    "for x in range(0,lenght):\n",
    "    for y in range(0,lenght):\n",
    "        arr4[x][y]=arr1[x][y]+arr2[x][y]\n",
    "\n",
    "mat_time2 = time.time()\n",
    "\n",
    "delta_np = np_time2 - np_time1\n",
    "delta_mat = mat_time2 - mat_time1\n",
    "\n",
    "\n",
    "print(arr3 == arr4)\n",
    "\n",
    "print(delta_np)\n",
    "print(delta_mat)"
   ]
  },
  {
   "cell_type": "markdown",
   "id": "2cc104af-5376-4b18-9945-9316885a30ed",
   "metadata": {},
   "source": [
    "## Esercizio 2\n",
    "-      Costruire il numpy array  s  formato da 40 valori equidistanti in  [0,20],\n",
    "-      considerarne il reshape in un array 2d che ha 4 righe con un numero opportuno di colonne e dire se il reshape crea una vista o una copia"
   ]
  },
  {
   "cell_type": "code",
   "execution_count": 15,
   "id": "03c6edf8",
   "metadata": {},
   "outputs": [
    {
     "name": "stdout",
     "output_type": "stream",
     "text": [
      "[ 0.          0.51282051  1.02564103  1.53846154  2.05128205  2.56410256\n",
      "  3.07692308  3.58974359  4.1025641   4.61538462  5.12820513  5.64102564\n",
      "  6.15384615  6.66666667  7.17948718  7.69230769  8.20512821  8.71794872\n",
      "  9.23076923  9.74358974 10.25641026 10.76923077 11.28205128 11.79487179\n",
      " 12.30769231 12.82051282 13.33333333 13.84615385 14.35897436 14.87179487\n",
      " 15.38461538 15.8974359  16.41025641 16.92307692 17.43589744 17.94871795\n",
      " 18.46153846 18.97435897 19.48717949 20.        ]\n"
     ]
    }
   ],
   "source": [
    "s = np.linspace(0,20,40)\n",
    "\n",
    "k = s.reshape(10,4)\n",
    "\n",
    "print(k.base)"
   ]
  },
  {
   "cell_type": "markdown",
   "id": "8984c411-28fa-4590-9942-3d6d5bc5c665",
   "metadata": {},
   "source": [
    "## Esercizio 3\n",
    "-     Costruire il numpy array t formato da 100 valori equidistanti in  [0,4]\n",
    "-     considerarne il reshape in un array 2d che ha 4 colonne con un numero opportuno di righe"
   ]
  },
  {
   "cell_type": "code",
   "execution_count": 17,
   "id": "e1269b9e",
   "metadata": {},
   "outputs": [
    {
     "name": "stdout",
     "output_type": "stream",
     "text": [
      "[0.         0.04040404 0.08080808 0.12121212 0.16161616 0.2020202\n",
      " 0.24242424 0.28282828 0.32323232 0.36363636 0.4040404  0.44444444\n",
      " 0.48484848 0.52525253 0.56565657 0.60606061 0.64646465 0.68686869\n",
      " 0.72727273 0.76767677 0.80808081 0.84848485 0.88888889 0.92929293\n",
      " 0.96969697 1.01010101 1.05050505 1.09090909 1.13131313 1.17171717\n",
      " 1.21212121 1.25252525 1.29292929 1.33333333 1.37373737 1.41414141\n",
      " 1.45454545 1.49494949 1.53535354 1.57575758 1.61616162 1.65656566\n",
      " 1.6969697  1.73737374 1.77777778 1.81818182 1.85858586 1.8989899\n",
      " 1.93939394 1.97979798 2.02020202 2.06060606 2.1010101  2.14141414\n",
      " 2.18181818 2.22222222 2.26262626 2.3030303  2.34343434 2.38383838\n",
      " 2.42424242 2.46464646 2.50505051 2.54545455 2.58585859 2.62626263\n",
      " 2.66666667 2.70707071 2.74747475 2.78787879 2.82828283 2.86868687\n",
      " 2.90909091 2.94949495 2.98989899 3.03030303 3.07070707 3.11111111\n",
      " 3.15151515 3.19191919 3.23232323 3.27272727 3.31313131 3.35353535\n",
      " 3.39393939 3.43434343 3.47474747 3.51515152 3.55555556 3.5959596\n",
      " 3.63636364 3.67676768 3.71717172 3.75757576 3.7979798  3.83838384\n",
      " 3.87878788 3.91919192 3.95959596 4.        ]\n",
      "[[0.         0.04040404 0.08080808 0.12121212]\n",
      " [0.16161616 0.2020202  0.24242424 0.28282828]\n",
      " [0.32323232 0.36363636 0.4040404  0.44444444]\n",
      " [0.48484848 0.52525253 0.56565657 0.60606061]\n",
      " [0.64646465 0.68686869 0.72727273 0.76767677]\n",
      " [0.80808081 0.84848485 0.88888889 0.92929293]\n",
      " [0.96969697 1.01010101 1.05050505 1.09090909]\n",
      " [1.13131313 1.17171717 1.21212121 1.25252525]\n",
      " [1.29292929 1.33333333 1.37373737 1.41414141]\n",
      " [1.45454545 1.49494949 1.53535354 1.57575758]\n",
      " [1.61616162 1.65656566 1.6969697  1.73737374]\n",
      " [1.77777778 1.81818182 1.85858586 1.8989899 ]\n",
      " [1.93939394 1.97979798 2.02020202 2.06060606]\n",
      " [2.1010101  2.14141414 2.18181818 2.22222222]\n",
      " [2.26262626 2.3030303  2.34343434 2.38383838]\n",
      " [2.42424242 2.46464646 2.50505051 2.54545455]\n",
      " [2.58585859 2.62626263 2.66666667 2.70707071]\n",
      " [2.74747475 2.78787879 2.82828283 2.86868687]\n",
      " [2.90909091 2.94949495 2.98989899 3.03030303]\n",
      " [3.07070707 3.11111111 3.15151515 3.19191919]\n",
      " [3.23232323 3.27272727 3.31313131 3.35353535]\n",
      " [3.39393939 3.43434343 3.47474747 3.51515152]\n",
      " [3.55555556 3.5959596  3.63636364 3.67676768]\n",
      " [3.71717172 3.75757576 3.7979798  3.83838384]\n",
      " [3.87878788 3.91919192 3.95959596 4.        ]]\n"
     ]
    }
   ],
   "source": [
    "t = np.linspace(0,4,100)\n",
    "print (t)\n",
    "t = t.reshape(25,4)\n",
    "print(t)"
   ]
  },
  {
   "cell_type": "markdown",
   "id": "497ccc48-1ab8-4247-8e36-0c61e43c643c",
   "metadata": {},
   "source": [
    "## Esercizio 4\n",
    "Costruire il numpy array 1d C  di valori che variano tra 15 e 41 con step 2\n",
    "\n",
    "-     Trasformarlo in un numpy array 2d con shape(7,2) usando il metodo . resize(7,2)  che lavora in-place,  (cioè  modifica l'array esistente).  "
   ]
  },
  {
   "cell_type": "code",
   "execution_count": 22,
   "id": "0017d744",
   "metadata": {},
   "outputs": [
    {
     "name": "stdout",
     "output_type": "stream",
     "text": [
      "[[15 17]\n",
      " [19 21]\n",
      " [23 25]\n",
      " [27 29]\n",
      " [31 33]\n",
      " [35 37]\n",
      " [39  0]]\n"
     ]
    }
   ],
   "source": [
    "arr1 = np.arange(15,41,2)\n",
    "arr1.resize(7,2)\n",
    "print(arr1) "
   ]
  },
  {
   "cell_type": "markdown",
   "id": "222a582d-184b-47b9-804b-72673a42102e",
   "metadata": {},
   "source": [
    " ## Esercizio 5\n",
    " Creare un array NumPy di 10 numeri interi casuali tra 1 e 100.\n",
    " "
   ]
  },
  {
   "cell_type": "code",
   "execution_count": 28,
   "id": "25d988a6",
   "metadata": {},
   "outputs": [
    {
     "name": "stdout",
     "output_type": "stream",
     "text": [
      "[89 92 12 77 44  5 25 19 75 66]\n"
     ]
    }
   ],
   "source": [
    "arr1 = np.random.randint(1,100,10)\n",
    "print(arr1)"
   ]
  },
  {
   "cell_type": "markdown",
   "id": "26b0aef0-fa88-4ec5-923f-8fa9d0664044",
   "metadata": {},
   "source": [
    " ## Esercizio 6\n",
    " Eseguire uno shuffle degli elementi di un numpy-array di 30 numeri interi casuali tra 100 e 200.\n"
   ]
  },
  {
   "cell_type": "code",
   "execution_count": 33,
   "id": "583a2363",
   "metadata": {},
   "outputs": [
    {
     "name": "stdout",
     "output_type": "stream",
     "text": [
      "[143 138 185 102 133 102 190 113 105 193 103 156 163 120 113 169 137 113\n",
      " 158 127 102 115 145 141 133 107 102 196 138 149]\n"
     ]
    }
   ],
   "source": [
    "arr1 = np.random.randint(100,200,30)\n",
    "np.random.shuffle(arr1)\n",
    "print(arr1)"
   ]
  },
  {
   "cell_type": "markdown",
   "id": "9e1c800f-6ae8-41cc-94c0-c36445e2ea55",
   "metadata": {},
   "source": [
    "  ## Esercizio 7\n",
    " Creare una permutazione casuale degli elementi di un numpy-array di 20 valori campionati da una distribuzione  gaussiana con media zero e varianza 1, senza modificarlo."
   ]
  },
  {
   "cell_type": "code",
   "execution_count": 41,
   "id": "ce116c0e",
   "metadata": {},
   "outputs": [
    {
     "name": "stdout",
     "output_type": "stream",
     "text": [
      "[[-2.19956144  0.46400118  0.37390441 -0.35073371  0.31103738  0.21865519\n",
      "   1.11384613  0.94757966  1.39863941 -0.33765669 -0.56935262 -1.91591303\n",
      "  -1.77690126 -0.28670188  0.63018764  0.63558495 -1.12460852  0.30244114\n",
      "  -0.37557133 -0.65298164]]\n",
      "None\n"
     ]
    }
   ],
   "source": [
    "arr1 = np.random.randn(1,20)\n",
    "print (arr1)\n",
    "arr2 = np.random.permutation(arr1)\n",
    "print(arr2.base)"
   ]
  },
  {
   "cell_type": "markdown",
   "id": "14fa94ab-ffd5-425a-8a18-f1b6d53bc87b",
   "metadata": {},
   "source": [
    " ## Esercizio 8\n",
    "-     Scrivere il numpy  array 2d, A, [[10,11,12],[13,14,15],[16,17,18]] \n",
    "-     trasformarlo in un numpy array 1d usando il metodo .ravel()  \n",
    "-     Si tratta di una copia o di una vista?"
   ]
  },
  {
   "cell_type": "code",
   "execution_count": 52,
   "id": "955300b9",
   "metadata": {},
   "outputs": [
    {
     "name": "stdout",
     "output_type": "stream",
     "text": [
      "[[10 11 12]\n",
      " [13 27 15]\n",
      " [16 17 18]]\n"
     ]
    }
   ],
   "source": [
    "arr1 = np.arange(10,19)\n",
    "arr1.resize(3,3)\n",
    "arr2 = arr1.ravel()\n",
    "arr2 [4] = 27\n",
    "print(arr1)"
   ]
  },
  {
   "cell_type": "markdown",
   "id": "8cef420c-3ee7-487a-b872-83c1460e11fe",
   "metadata": {},
   "source": [
    "## Esercizio 9\n",
    "-     Scrivere il numpy  array 2d, A, [[10,11,12],[13,14,15],[16,17,18]] \n",
    "-     trasformarlo in un numpy array 1d usando il metodo  .flatten().\n",
    "-     Si tratta di una copia o di una vista?"
   ]
  },
  {
   "cell_type": "code",
   "execution_count": 54,
   "id": "c4d3b0b6",
   "metadata": {},
   "outputs": [
    {
     "name": "stdout",
     "output_type": "stream",
     "text": [
      "None\n"
     ]
    }
   ],
   "source": [
    "arr1 = np.arange(10,19)\n",
    "arr1.resize(3,3)\n",
    "arr2 = arr1.flatten()\n",
    "print(arr2.base)"
   ]
  },
  {
   "cell_type": "markdown",
   "id": "a0b881a4-1836-4e2a-83aa-e03f4398feb5",
   "metadata": {},
   "source": [
    " ## Esercizio 10\n",
    "-     creare i due  numpy array 1d\n",
    "        f1= [ 0  1  2  3  4  5  6  7  8  9 10 11 12 13 14 15]  \n",
    "        f2= [16 17 18 19 20 21 22 23 24 25 26 27 28 29 30 31]\n",
    "-     \"vederli\" come matrici  4x4 ed effettuarne il prodotto scalare, memorizzando in f3 la matrice che nasce dal loro prodotto."
   ]
  },
  {
   "cell_type": "code",
   "execution_count": 61,
   "id": "6afaddc9",
   "metadata": {},
   "outputs": [
    {
     "name": "stdout",
     "output_type": "stream",
     "text": [
      "[[ 152  158  164  170]\n",
      " [ 504  526  548  570]\n",
      " [ 856  894  932  970]\n",
      " [1208 1262 1316 1370]]\n"
     ]
    }
   ],
   "source": [
    "f1 = np.arange(0,16)\n",
    "f2 = np.arange(16,32)\n",
    "\n",
    "f3 = np.dot(f1.reshape(4,4), f2.reshape(4,4))\n",
    "\n",
    "print(f3)"
   ]
  },
  {
   "cell_type": "markdown",
   "id": "681aca16-584c-451f-b9da-cba4b11faa5e",
   "metadata": {},
   "source": [
    "## Esercizio 11\n",
    "Costruire:\n",
    " -     Numpy Array A di shape (2,10) : array di valori random campionati da una distribuzione gaussiana con media 0 e varianza 1.\n",
    " -     Numpy array 1D B di shape (20,) formato dagli interi da 0 a 19.\n",
    " \n",
    " \"Vedere\" A come un array 1D di 20 elementi ed effettuare la somma di A+B\n"
   ]
  },
  {
   "cell_type": "code",
   "execution_count": 65,
   "id": "29cf9810",
   "metadata": {},
   "outputs": [
    {
     "name": "stdout",
     "output_type": "stream",
     "text": [
      "[[-0.40204485  2.13520784  1.49629955  4.04082414  3.74906199  5.79443586\n",
      "   5.53006972  6.8702791   8.04417509  8.6228281   9.09220065  9.3888026\n",
      "  12.39945545 12.87864101 16.01224033 13.9092323  17.05094153 15.92338763\n",
      "  17.37091594 19.18353242]]\n"
     ]
    }
   ],
   "source": [
    "A = np.random.randn(2,10)\n",
    "B = np.arange(0,20)\n",
    "\n",
    "print(A.reshape(1,20) + B)"
   ]
  },
  {
   "cell_type": "markdown",
   "id": "020920a7-7554-4815-b6a6-c9579d0b566c",
   "metadata": {},
   "source": [
    "## Esercizio 12\n",
    "-     Costruire f, un numpy array 1D , di shape (10,) costituito da 10 valori equidistanti nell'intervallo [0,1]\n",
    "-     aumentarne la dimensionalità, in maniera tale che abbia shape (10,1)"
   ]
  },
  {
   "cell_type": "code",
   "execution_count": 68,
   "id": "7489b459",
   "metadata": {},
   "outputs": [
    {
     "name": "stdout",
     "output_type": "stream",
     "text": [
      "[[0.        ]\n",
      " [0.11111111]\n",
      " [0.22222222]\n",
      " [0.33333333]\n",
      " [0.44444444]\n",
      " [0.55555556]\n",
      " [0.66666667]\n",
      " [0.77777778]\n",
      " [0.88888889]\n",
      " [1.        ]]\n"
     ]
    }
   ],
   "source": [
    "f = np.linspace(0,1,10)\n",
    "f.resize(10,1)\n",
    "print(f)"
   ]
  },
  {
   "cell_type": "markdown",
   "id": "610f98b2-3f2b-46e0-8a51-ac682a7b46a3",
   "metadata": {},
   "source": [
    "## Esercizio 13\n",
    "-     Costruire i seguenti numpy array\n",
    "      a= np.array([14,13,12,11])\n",
    "      b=np.array([[4,3,2,1],[9,10,11,12]])\n",
    "\n",
    "  Costruire il numpy array che si ottiene concatenando a e b per righe"
   ]
  },
  {
   "cell_type": "code",
   "execution_count": 128,
   "id": "17b341ff",
   "metadata": {},
   "outputs": [
    {
     "name": "stdout",
     "output_type": "stream",
     "text": [
      "(2, 4)\n",
      "[[14 13 12 11]\n",
      " [ 4  3  2  1]\n",
      " [ 9 10 11 12]]\n"
     ]
    }
   ],
   "source": [
    "a = np.arange(14, 10, -1)\n",
    "b=np.array([[4,3,2,1],[9,10,11,12]])\n",
    "\n",
    "print(b.shape)\n",
    "cat = np.concatenate((a.reshape(1,4),b),axis=0)\n",
    "print (cat)"
   ]
  },
  {
   "cell_type": "markdown",
   "id": "51740675-7696-4803-9506-e593431e8a27",
   "metadata": {},
   "source": [
    "## Esercizio 14\n",
    "-     Costruire i seguenti numpy array\n",
    "      a= np.array([14,13,12,11])\n",
    "      b=np.array([[4,3,2,1],[9,10,11,12],[4,3,2,1],[9,10,11,12]])\n",
    "\n",
    "-\n",
    "- Costruire il numpy array che si ottiene concatenando a e b per colonne"
   ]
  },
  {
   "cell_type": "code",
   "execution_count": 117,
   "id": "030cd924",
   "metadata": {},
   "outputs": [
    {
     "name": "stdout",
     "output_type": "stream",
     "text": [
      "(4,) (4, 4)\n",
      "[[14  4  3  2  1]\n",
      " [13  9 10 11 12]\n",
      " [12  4  3  2  1]\n",
      " [11  9 10 11 12]]\n"
     ]
    }
   ],
   "source": [
    "a = np.arange(11,15)\n",
    "a = a[::-1]\n",
    "b = np.arange(1,5)\n",
    "b = b[::-1]\n",
    "b = np.concatenate((b,np.arange(9,13)),axis=0)\n",
    "b = np.concatenate((b,b),axis=0)\n",
    "b.resize(4,4)\n",
    "\n",
    "print(a.shape, b.shape)\n",
    "a = a.reshape(4,1)\n",
    "print(np.concatenate((a,b),axis = 1))"
   ]
  },
  {
   "cell_type": "markdown",
   "id": "0cd10bd7-8d9e-4e99-827e-83cf83393782",
   "metadata": {},
   "source": [
    "## Esercizio 15\n",
    "Costruire, facendo uso di una sola riga di codice, la matrice A di ordine 10, che ha gli unici elementi diversi da zero, sulla diagonale principale, sulla codiagonale inferiore e sulla codiagonale superiore:\n",
    "\n",
    "elementi diagonali $A_{i,i}=10 \\quad$, i=1,20\n",
    "\n",
    "elementi nella codiagonale inferiore $A_{i-1,i}=-12, \\quad$ i=2,..,20, \n",
    "\n",
    "elementi nella codiagonale superiore $A_{i,i+1}=-2 \\quad$ i=1,..,19"
   ]
  },
  {
   "cell_type": "code",
   "execution_count": 182,
   "id": "0cabb720",
   "metadata": {},
   "outputs": [
    {
     "name": "stdout",
     "output_type": "stream",
     "text": [
      "(20, 20)\n",
      "(20, 20)\n",
      "(20, 20)\n",
      "[[ 10 -12   0   0   0   0   0   0   0   0   0   0   0   0   0   0   0   0\n",
      "    0   0]\n",
      " [ -2  10 -12   0   0   0   0   0   0   0   0   0   0   0   0   0   0   0\n",
      "    0   0]\n",
      " [  0  -2  10 -12   0   0   0   0   0   0   0   0   0   0   0   0   0   0\n",
      "    0   0]\n",
      " [  0   0  -2  10 -12   0   0   0   0   0   0   0   0   0   0   0   0   0\n",
      "    0   0]\n",
      " [  0   0   0  -2  10 -12   0   0   0   0   0   0   0   0   0   0   0   0\n",
      "    0   0]\n",
      " [  0   0   0   0  -2  10 -12   0   0   0   0   0   0   0   0   0   0   0\n",
      "    0   0]\n",
      " [  0   0   0   0   0  -2  10 -12   0   0   0   0   0   0   0   0   0   0\n",
      "    0   0]\n",
      " [  0   0   0   0   0   0  -2  10 -12   0   0   0   0   0   0   0   0   0\n",
      "    0   0]\n",
      " [  0   0   0   0   0   0   0  -2  10 -12   0   0   0   0   0   0   0   0\n",
      "    0   0]\n",
      " [  0   0   0   0   0   0   0   0  -2  10 -12   0   0   0   0   0   0   0\n",
      "    0   0]\n",
      " [  0   0   0   0   0   0   0   0   0  -2  10 -12   0   0   0   0   0   0\n",
      "    0   0]\n",
      " [  0   0   0   0   0   0   0   0   0   0  -2  10 -12   0   0   0   0   0\n",
      "    0   0]\n",
      " [  0   0   0   0   0   0   0   0   0   0   0  -2  10 -12   0   0   0   0\n",
      "    0   0]\n",
      " [  0   0   0   0   0   0   0   0   0   0   0   0  -2  10 -12   0   0   0\n",
      "    0   0]\n",
      " [  0   0   0   0   0   0   0   0   0   0   0   0   0  -2  10 -12   0   0\n",
      "    0   0]\n",
      " [  0   0   0   0   0   0   0   0   0   0   0   0   0   0  -2  10 -12   0\n",
      "    0   0]\n",
      " [  0   0   0   0   0   0   0   0   0   0   0   0   0   0   0  -2  10 -12\n",
      "    0   0]\n",
      " [  0   0   0   0   0   0   0   0   0   0   0   0   0   0   0   0  -2  10\n",
      "  -12   0]\n",
      " [  0   0   0   0   0   0   0   0   0   0   0   0   0   0   0   0   0  -2\n",
      "   10 -12]\n",
      " [  0   0   0   0   0   0   0   0   0   0   0   0   0   0   0   0   0   0\n",
      "   -2  10]]\n"
     ]
    }
   ],
   "source": [
    "A = np.diag( np.full(20,10),k=0)\n",
    "A1 = np.diag(np.full(19,-12),k=1)\n",
    "A2 = np.diag(np.full(19,-2),k=-1)\n",
    "print (A.shape)\n",
    "print (A1.shape)\n",
    "print (A2.shape)\n",
    "A = A + A1 + A2\n",
    "print (A)"
   ]
  },
  {
   "cell_type": "markdown",
   "id": "53d3ad23-63ab-4719-b2d2-f2b1cb942063",
   "metadata": {},
   "source": [
    "## Esercizio 16\n",
    "Costruire la matrice identità, denominata *I*,  della stessa dimensione di *A*"
   ]
  },
  {
   "cell_type": "code",
   "execution_count": 178,
   "id": "374112e4",
   "metadata": {},
   "outputs": [
    {
     "name": "stdout",
     "output_type": "stream",
     "text": [
      "(20, 20)\n"
     ]
    }
   ],
   "source": [
    "I = np.identity(A.shape[0])\n",
    "print (I.shape)"
   ]
  },
  {
   "cell_type": "markdown",
   "id": "b5257ffc-b9c9-4d22-a3b4-427b03f2e8dc",
   "metadata": {},
   "source": [
    "## Esercizio 17\n",
    "Facendo uso dell'operatore slicing *:* ,costruire la matrice AA selezionando dalla matrice A le righe che vanno dalla 2 alla 9 con step 2 e le colonne che vanno dalla 3 alla 6 con step 2.\n",
    "La matrice AA è una vista o una copia?"
   ]
  },
  {
   "cell_type": "code",
   "execution_count": 197,
   "id": "73281c15",
   "metadata": {},
   "outputs": [
    {
     "name": "stdout",
     "output_type": "stream",
     "text": [
      "None\n"
     ]
    }
   ],
   "source": [
    "B=A[2:9:2]\n",
    "AA=np.vstack(B)\n",
    "B=A[3:6:2]\n",
    "AA=np.vstack((AA,B))\n",
    "print(AA.base)"
   ]
  },
  {
   "cell_type": "markdown",
   "id": "090aeaa9-fb12-44bc-9560-5b11a0e6f503",
   "metadata": {},
   "source": [
    "## Esercizio 18\n",
    "Facendo uso dell'operatore slicing *:*, costruire la matrice A1 selezionando dalla matrice A le colonne che vanno dalla 1 alla 5 con step 2.  Trasforma la matrice A1 in una copia."
   ]
  },
  {
   "cell_type": "code",
   "execution_count": 203,
   "id": "c0b06ba0",
   "metadata": {},
   "outputs": [
    {
     "name": "stdout",
     "output_type": "stream",
     "text": [
      "None\n"
     ]
    }
   ],
   "source": [
    "A1 = A[1:5:2].copy()\n",
    "print(A1.base)"
   ]
  },
  {
   "cell_type": "markdown",
   "id": "a5449d1f-1232-4ba0-a2d6-4d2e2d9c7a36",
   "metadata": {},
   "source": [
    "## Esercizio 19\n",
    "\n",
    "Costruisci due numpy array A e B di shape (5,5) \n",
    "   - A formata da numeri interi casuali  nell'intervallo [1,20]\n",
    "   - B formata da numeri interi casuali  nell'intervallo [1,6]\n",
    " \n",
    "  Costruisci con una sola riga di codice le seguenti matrici\n",
    "  \n",
    "  C=A+B   dove  $\\quad c_{ij}=a_{ij}+b_{ij} \\quad i=0,..,n, \\quad j=0,...,n$\n",
    "  \n",
    "  D=A-B   dove  $\\quad d_{ij}=a_{ij}-b_{ij} \\quad i=0,..,n, \\quad j=0,...,n$\n",
    "  \n",
    "  E=A*B   dove  $\\quad e_{ij}=a_{ij}*b_{ij} \\quad i=0,..,n, \\quad j=0,...,n$\n",
    "  \n",
    "  F=A/B   dove  $\\quad f_{ij}=a_{ij}/b_{ij} \\quad i=0,..,n, \\quad j=0,...,n$"
   ]
  },
  {
   "cell_type": "code",
   "execution_count": 212,
   "id": "5e203bc6",
   "metadata": {},
   "outputs": [],
   "source": [
    "#A = np.random.randint(1,21,(5,5))\n",
    "#B = np.random.randint(1,7,(5,5))\n",
    "A = np.full((5,5),10)\n",
    "B = np.full((5,5),2)\n",
    "C = A + B\n",
    "D = A - B\n",
    "E = A * B\n",
    "F = A / B"
   ]
  },
  {
   "cell_type": "markdown",
   "id": "5a4ad10c-ccfa-45ce-b6ba-b7ddab44db3d",
   "metadata": {},
   "source": [
    "## Esercizio 20\n",
    "Dato array NumPy che rappresenta le vendite giornaliere di un negozio per un mese,\n",
    "vendite = np.random.randint(50, 200, 30) \n",
    "\n",
    "        Trova tutti i giorni in cui le vendite sono state superiori a 150.\n",
    "\n",
    "        Calcola la media delle vendite solo per i giorni in cui sono state superiori a 150.\n",
    "\n",
    "        Imposta le vendite a 0 per tutti i giorni in cui sono state inferiori a 100.\n"
   ]
  },
  {
   "cell_type": "code",
   "execution_count": 225,
   "id": "06abec95",
   "metadata": {},
   "outputs": [
    {
     "name": "stdout",
     "output_type": "stream",
     "text": [
      "[  0   0 169 137   0   0 151   0 143 140 175 143 183 166 148   0 179   0\n",
      "   0   0   0 129   0   0 160   0 199   0   0 192]\n"
     ]
    }
   ],
   "source": [
    "vendite = np.random.randint(50,200,30)\n",
    "profit=np.where(vendite>150)\n",
    "average=np.mean(vendite[profit])\n",
    "vendite[vendite<100]=0\n",
    "print (vendite)"
   ]
  },
  {
   "cell_type": "markdown",
   "id": "d90da717-8cd5-425f-937e-588d6ccb045a",
   "metadata": {
    "tags": []
   },
   "source": [
    "## Esercizio 21\n",
    "Costruisci A, un numpy array 2d di shape (3,3) e b,  un numpy array 2d di shape (3,1)\n",
    "e somma b ad ogni colonna di A b\n"
   ]
  },
  {
   "cell_type": "code",
   "execution_count": 236,
   "id": "7f4e1a7b",
   "metadata": {},
   "outputs": [
    {
     "name": "stdout",
     "output_type": "stream",
     "text": [
      "[[1 1 4]\n",
      " [2 1 1]\n",
      " [4 3 1]]\n",
      "[[3]\n",
      " [3]\n",
      " [3]]\n",
      "[[4 4 7]\n",
      " [5 4 4]\n",
      " [7 6 4]]\n"
     ]
    }
   ],
   "source": [
    "a = np.random.randint(1,5,(3,3))\n",
    "b = np.random.randint(1,5,(3,1))\n",
    "c = a + np.repeat(b,3,axis=1)\n",
    "print(a)\n",
    "print(b)\n",
    "print (c)"
   ]
  },
  {
   "cell_type": "markdown",
   "id": "ece2f514-aea7-4883-9b5f-8671d698c761",
   "metadata": {},
   "source": [
    "# Esercizio 22\n",
    "dato il numpy array 2d G=np.linspace(0,10,20).reshape(-1,4), scambia in G la seconda riga con la quarta riga"
   ]
  },
  {
   "cell_type": "code",
   "execution_count": 252,
   "id": "648477c3",
   "metadata": {},
   "outputs": [
    {
     "name": "stdout",
     "output_type": "stream",
     "text": [
      "[[ 0.          0.52631579  1.05263158  1.57894737]\n",
      " [ 2.10526316  2.63157895  3.15789474  3.68421053]\n",
      " [ 4.21052632  4.73684211  5.26315789  5.78947368]\n",
      " [ 6.31578947  6.84210526  7.36842105  7.89473684]\n",
      " [ 8.42105263  8.94736842  9.47368421 10.        ]]\n",
      "[[ 0.          0.52631579  1.05263158  1.57894737]\n",
      " [ 6.31578947  6.84210526  7.36842105  7.89473684]\n",
      " [ 4.21052632  4.73684211  5.26315789  5.78947368]\n",
      " [ 2.10526316  2.63157895  3.15789474  3.68421053]\n",
      " [ 8.42105263  8.94736842  9.47368421 10.        ]]\n"
     ]
    }
   ],
   "source": [
    "G = np.linspace(0,10,20).reshape(-1,4)\n",
    "print(G)\n",
    "\n",
    "lin2 = G[1:2].copy()\n",
    "G[1:2]=G[3:4]\n",
    "G[3:4]=lin2\n",
    "\n",
    "print(G)\n"
   ]
  },
  {
   "cell_type": "markdown",
   "id": "6718422b",
   "metadata": {},
   "source": []
  },
  {
   "cell_type": "markdown",
   "id": "a2c733be-fc9f-4a0a-80e0-fa1570468da3",
   "metadata": {},
   "source": [
    "## Esercizio 23\n",
    "Visualizzare il grafico della funzione $f(x)=sin^2(x)/x$ in 200 punti equidistanti nell'intervallo $[0.1,2\\pi]$"
   ]
  },
  {
   "cell_type": "code",
   "execution_count": 260,
   "id": "c250277c",
   "metadata": {},
   "outputs": [
    {
     "data": {
      "image/png": "[encoded data removed]",
      "text/plain": [
       "<Figure size 432x288 with 1 Axes>"
      ]
     },
     "metadata": {
      "needs_background": "light"
     },
     "output_type": "display_data"
    }
   ],
   "source": [
    "f = lambda x: np.sin(x)**2 / x\n",
    "x = np.linspace(0.1,(2*np.pi))\n",
    "\n",
    "plt.plot(x,f(x),'r-')\n",
    "plt.grid('on')\n",
    "plt.show()"
   ]
  },
  {
   "cell_type": "markdown",
   "id": "32f6ae8b-ccce-47f1-b196-820a96c325fd",
   "metadata": {},
   "source": [
    "## Esercizio 24\n",
    "\n",
    "Data il numpy arra2d ottenuto facendo un reshape a (4,4) di un numpy array 1d di 16 valori equidistanti nell'intervallo [0,4]\n",
    "ed un numpy array 1d di 4 valori  interi casuali nell'intervallo [10,60], costruire il prodotto scalare A per b,\n",
    "usando A@b, e vettorizzando solo il ciclo interno.\n"
   ]
  },
  {
   "cell_type": "code",
   "execution_count": 264,
   "id": "c15739b6",
   "metadata": {},
   "outputs": [
    {
     "name": "stdout",
     "output_type": "stream",
     "text": [
      "[187.73333333 222.13333333 256.53333333 290.93333333]\n"
     ]
    }
   ],
   "source": [
    "arr1 = np.linspace(0,4,16).reshape(4,4)\n",
    "arr2 = np.random.randint(10,60,4)\n",
    "\n",
    "print(arr2@arr1)\n"
   ]
  },
  {
   "cell_type": "markdown",
   "id": "fb626777-c3f2-423b-a01b-c9e80032e308",
   "metadata": {},
   "source": [
    "## Esercizio 25\n",
    "Dato g un numpy array 2d, estendilo di una riga in alto ed di una riga in basso, di una colonna a sinistra ed di una colonna a destra, usa la funzione g_est= np.pad(g,(1,1),mode='reflect'). Visualizza 'g_est' e commenta cosa vedi."
   ]
  },
  {
   "cell_type": "code",
   "execution_count": 12,
   "id": "34bf795d",
   "metadata": {},
   "outputs": [
    {
     "name": "stdout",
     "output_type": "stream",
     "text": [
      "[[11 17  5]\n",
      " [14  6  3]\n",
      " [17 18  3]]\n",
      "padding\n",
      "[[11 17  5]\n",
      " [14  6  3]\n",
      " [17 18  3]]\n",
      "padding\n",
      "[[11 17  5 17]\n",
      " [14  6  3  6]\n",
      " [17 18  3 18]\n",
      " [14  6  3  6]]\n",
      "padding\n",
      "[[11 17  5  0]\n",
      " [14  6  3  0]\n",
      " [17 18  3  0]\n",
      " [ 0  0  0  0]]\n",
      "padding\n",
      "[[ 6 14  6  3]\n",
      " [17 11 17  5]\n",
      " [ 6 14  6  3]\n",
      " [18 17 18  3]]\n",
      "padding\n",
      "[[ 6 14  6  3  6]\n",
      " [17 11 17  5 17]\n",
      " [ 6 14  6  3  6]\n",
      " [18 17 18  3 18]\n",
      " [ 6 14  6  3  6]]\n"
     ]
    }
   ],
   "source": [
    "g = np.random.randint(1,20,(3,3))\n",
    "\n",
    "\n",
    "print(g)\n",
    "\n",
    "print('padding')\n",
    "g_est= np.pad(g,(0,0),mode='reflect')\n",
    "print(g_est)\n",
    "print('padding')\n",
    "g_est= np.pad(g,(0,1),mode='reflect')\n",
    "print(g_est)\n",
    "print('padding')\n",
    "g_est= np.pad(g,(0,1))\n",
    "print(g_est)\n",
    "print('padding')\n",
    "g_est= np.pad(g,(1,0),mode='reflect')\n",
    "print(g_est)\n",
    "print('padding')\n",
    "g_est= np.pad(g,(1,1),mode='reflect')\n",
    "print(g_est)"
   ]
  },
  {
   "cell_type": "markdown",
   "id": "958c2100-787e-438b-a162-0aa08465f476",
   "metadata": {},
   "source": [
    "## Esercizio 26\n",
    "Scrivi un programma Python che esegua l'elaborazione di un'immagine utilizzando un filtro di media. \n",
    "\n",
    "Utilizza il padding per gestire i pixel del bordo durante l'applicazione del filtro.\n",
    "\n",
    "Il programma deve seguire questi passaggi:\n",
    "\n",
    "- Carica l'immagine: Carica l'immagine 'cameraman.png' utilizzando la libreria Matplotlib.**image=plt.imread('cameraman.png')**\n",
    "- Visualizza l'immagine originale **plt.imshow(image,cmap='gray')**\n",
    "- definisce la dimensione del filtro, dim_filtro\n",
    "- Applica il padding: Applica un padding costante di dim_filtro//2 pixel a tutti i bordi dell'immagine (utilizzando il metodo di numpy **image_bordered=np.pad(image,(dim_filtro//2,dim_filtro//2),, mode='reflect')**\n",
    "- Crea il filtro di media: Crea un filtro di media di dimensioni *dim_filtroxdim_filtro*, dove tutti gli elementi sono pari a 1/(dim_filtroxdim_filtro)\n",
    "- Applica il filtro: Scorri ogni pixel dell'immagine con padding (escludendo i bordi aggiunti) e applica il filtro di media.\n",
    "\n",
    "   *Per ogni pixel, calcola la somma dei prodotti tra i pixel della sottomatrice dim_filtroxdim_filtro centrata sul pixel corrente e il filtro.*\n",
    "   \n",
    "- Crea l'immagine filtrata: Crea un nuovo array NumPy che rappresenta l'immagine filtrata, dove ogni pixel contiene il risultato dell'applicazione del filtro.\n",
    "- Visualizza l'immagine filtrata: Visualizza l'immagine filtrata utilizzando Matplotlib con la mappa di colori 'gray'.\n",
    "- Aggiungi una colorbar per visualizzare la scala dei valori dell'immagine filtrata.\n",
    "- Mostra l'immagine filtrata con Matplotlib.\n",
    "\n",
    "\n",
    "Requisiti:\n",
    "\n",
    "-  Utilizzare la libreria Matplotlib per caricare e visualizzare l'immagine.\n",
    "-  Utilizzare la libreria NumPy per la manipolazione degli array e per il padding."
   ]
  },
  {
   "cell_type": "code",
   "execution_count": 25,
   "id": "482c9685",
   "metadata": {},
   "outputs": [
    {
     "data": {
      "image/png": "[encoded data removed]",
      "text/plain": [
       "<Figure size 432x288 with 1 Axes>"
      ]
     },
     "metadata": {
      "needs_background": "light"
     },
     "output_type": "display_data"
    }
   ],
   "source": [
    "image = plt.imread('cameraman.png')\n",
    "plt.imshow(image, cmap='gray')\n",
    "dim_filtro = 5\n",
    "padding = dim_filtro // 2\n",
    "image_padded= np.pad(image,(padding,padding),mode='reflect')\n",
    "filtro = np.full((dim_filtro,dim_filtro),1/dim_filtro**2)\n",
    "\n",
    "image_filtered = np.zeros_like(image)\n",
    "\n",
    "for x in range(padding,image.shape[0]-padding):\n",
    "    for y in range(padding,image.shape[1]-padding):\n",
    "        sottomatrice = image_bordered[x-padding:x+padding+1,y-padding:y+padding+1]\n",
    "        image_filtered [x-padding,y-padding]=np.sum(sottomatrice*filtro)\n",
    "\n",
    "plt.subplot(1,2,2)\n",
    "plt.imshow(image_filtered,cmap='gray')\n",
    "plt.show()"
   ]
  },
  {
   "cell_type": "code",
   "execution_count": null,
   "id": "c090c36c",
   "metadata": {},
   "outputs": [],
   "source": []
  }
 ],
 "metadata": {
  "kernelspec": {
   "display_name": "Python 3 (ipykernel)",
   "language": "python",
   "name": "python3"
  },
  "language_info": {
   "codemirror_mode": {
    "name": "ipython",
    "version": 3
   },
   "file_extension": ".py",
   "mimetype": "text/x-python",
   "name": "python",
   "nbconvert_exporter": "python",
   "pygments_lexer": "ipython3",
   "version": "3.10.12"
  }
 },
 "nbformat": 4,
 "nbformat_minor": 5
}
