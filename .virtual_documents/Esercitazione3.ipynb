


import numpy as np
import math
import time
import matplotlib.pyplot as plt





lenght = 5000

arr1 = np.random.randn(lenght,lenght)
arr2 = np.random.randn(lenght,lenght)

np_time1 = time.time()
arr3 = arr1 + arr2
np_time2 = time.time()

delta_np = np_time2 - np_time1

arr4 = np.zeros_like(arr3)

mat_time1 = time.time()

for x in range(0,lenght):
    for y in range(0,lenght):
        arr4[x][y]=arr1[x][y]+arr2[x][y]

mat_time2 = time.time()

delta_np = np_time2 - np_time1
delta_mat = mat_time2 - mat_time1


print(arr3 == arr4)

print(delta_np)
print(delta_mat)





s = np.linspace(0,20,40)

k = s.reshape(10,4)

print(k.base)





t = np.linspace(0,4,100)
print (t)
t = t.reshape(25,4)
print(t)





arr1 = np.arange(15,41,2)
arr1.resize(7,2)
print(arr1) 





arr1 = np.random.randint(1,100,10)
print(arr1)





arr1 = np.random.randint(100,200,30)
np.random.shuffle(arr1)
print(arr1)





arr1 = np.random.randn(1,20)
print (arr1)
arr2 = np.random.permutation(arr1)
print(arr2.base)





arr1 = np.arange(10,19)
arr1.resize(3,3)
arr2 = arr1.ravel()
arr2 [4] = 27
print(arr1)





arr1 = np.arange(10,19)
arr1.resize(3,3)
arr2 = arr1.flatten()
print(arr2.base)





f1 = np.arange(0,16)
f2 = np.arange(16,32)

f3 = np.dot(f1.reshape(4,4), f2.reshape(4,4))

print(f3)





A = np.random.randn(2,10)
B = np.arange(0,20)

print(A.reshape(1,20) + B)





f = np.linspace(0,1,10)
f.resize(10,1)
print(f)





a = np.arange(14, 10, -1)
b=np.array([[4,3,2,1],[9,10,11,12]])

print(b.shape)
cat = np.concatenate((a.reshape(1,4),b),axis=0)
print (cat)





a = np.arange(11,15)
a = a[::-1]
b = np.arange(1,5)
b = b[::-1]
b = np.concatenate((b,np.arange(9,13)),axis=0)
b = np.concatenate((b,b),axis=0)
b.resize(4,4)

print(a.shape, b.shape)
a = a.reshape(4,1)
print(np.concatenate((a,b),axis = 1))





A = np.diag( np.full(20,10),k=0)
A1 = np.diag(np.full(19,-12),k=1)
A2 = np.diag(np.full(19,-2),k=-1)
print (A.shape)
print (A1.shape)
print (A2.shape)
A = A + A1 + A2
print (A)





I = np.identity(A.shape[0])
print (I.shape)





B=A[2:9:2]
AA=np.vstack(B)
B=A[3:6:2]
AA=np.vstack((AA,B))
print(AA.base)





A1 = A[1:5:2].copy()
print(A1.base)





#A = np.random.randint(1,21,(5,5))
#B = np.random.randint(1,7,(5,5))
A = np.full((5,5),10)
B = np.full((5,5),2)
C = A + B
D = A - B
E = A * B
F = A / B





vendite = np.random.randint(50,200,30)
profit=np.where(vendite>150)
average=np.mean(vendite[profit])
vendite[vendite<100]=0
print (vendite)





a = np.random.randint(1,5,(3,3))
b = np.random.randint(1,5,(3,1))
c = a + np.repeat(b,3,axis=1)
print(a)
print(b)
print (c)





G = np.linspace(0,10,20).reshape(-1,4)
print(G)

lin2 = G[1:2].copy()
G[1:2]=G[3:4]
G[3:4]=lin2

print(G)









f = lambda x: np.sin(x)**2 / x
x = np.linspace(0.1,(2*np.pi))

plt.plot(x,f(x),'r-')
plt.grid('on')
plt.show()





arr1 = np.linspace(0,4,16).reshape(4,4)
arr2 = np.random.randint(10,60,4)

print(arr2@arr1)






g = np.random.randint(1,20,(3,3))


print(g)

print('padding')
g_est= np.pad(g,(0,0),mode='reflect')
print(g_est)
print('padding')
g_est= np.pad(g,(0,1),mode='reflect')
print(g_est)
print('padding')
g_est= np.pad(g,(0,1))
print(g_est)
print('padding')
g_est= np.pad(g,(1,0),mode='reflect')
print(g_est)
print('padding')
g_est= np.pad(g,(1,1),mode='reflect')
print(g_est)





image = plt.imread('cameraman.png')
plt.imshow(image, cmap='gray')
dim_filtro = 5
padding = dim_filtro // 2
image_padded= np.pad(image,(padding,padding),mode='reflect')
filtro = np.full((dim_filtro,dim_filtro),1/dim_filtro**2)

image_filtered = np.zeros_like(image)

for x in range(padding,image.shape[0]-padding):
    for y in range(padding,image.shape[1]-padding):
        sottomatrice = image_bordered[x-padding:x+padding+1,y-padding:y+padding+1]
        image_filtered [x-padding,y-padding]=np.sum(sottomatrice*filtro)

plt.subplot(1,2,2)
plt.imshow(image_filtered,cmap='gray')
plt.show()



