{
 "cells": [
  {
   "cell_type": "markdown",
   "id": "d2903ef7-4c36-4b4f-b8dd-01fa2f35dfc5",
   "metadata": {},
   "source": [
    "## Esercitazione 5  del    18 Marzo 2025\n"
   ]
  },
  {
   "cell_type": "code",
   "execution_count": 1,
   "id": "b2a79425",
   "metadata": {},
   "outputs": [],
   "source": [
    "import numpy as np\n",
    "import matplotlib.pyplot as plt\n",
    "import math\n",
    "import time"
   ]
  },
  {
   "cell_type": "markdown",
   "id": "a3f2d7cc-2f95-467a-af5e-d9cd0c4fcad2",
   "metadata": {},
   "source": [
    "## Esercizio 1 \n",
    "Si consideri l'equazione quadratica $x^2 + 2px - q = 0 $ con $p=10^5$ e $q=10^{-i}$, i=0,..,10\n",
    "\n",
    "- Si stabilisca se il problema relativo al calcolo della soluzione $x= -p+\\sqrt{p^2+q}$ risulta essere ben\n",
    "      condizionato per tutti i valori di q assegnati;\n",
    "\n",
    "- Si calcoli la soluzione x dell'equazione mediante la formula risolutiva indicata al punto precedente e si dica se l'algoritmo di calcolo risulta numericamente\n",
    "stabile  per i valori di q assegnati\n",
    "\n",
    "- si individui una forma stabile per il calcolo della soluzione e si verifichi se l'algoritmo di calcolo risulta numericamente stabile per i valori di q assegnati."
   ]
  },
  {
   "cell_type": "code",
   "execution_count": 15,
   "id": "4dd50828",
   "metadata": {},
   "outputs": [
    {
     "name": "stdout",
     "output_type": "stream",
     "text": [
      "Spacing per p**2: 1.9073486328125e-06 \n",
      "valori di q: [1.e+00 1.e-01 1.e-02 1.e-03 1.e-04 1.e-05 1.e-06 1.e-07 1.e-08 1.e-09\n",
      " 1.e-10]\n",
      "[4.99999442e-06 5.00003807e-07 5.00003807e-08 4.99130692e-09\n",
      " 4.94765118e-10 4.36557457e-11 1.45519152e-11 0.00000000e+00\n",
      " 0.00000000e+00 0.00000000e+00 0.00000000e+00]\n",
      "Valori effettivi di x: [5.e-06 5.e-07 5.e-08 5.e-09 5.e-10 5.e-11 5.e-12 5.e-13 5.e-14 5.e-15\n",
      " 5.e-16]\n"
     ]
    }
   ],
   "source": [
    "p = 1e+5\n",
    "q=10.0**(-np.arange(11))\n",
    "x = -p + np.sqrt(p**2 + q)\n",
    "\n",
    "print(\"Spacing per p**2:\", np.spacing(p**2),\"\\nvalori di q:\",q)\n",
    "\n",
    "#L'algoritmo non risulta stabile nel punto in cui q diventa piu piccolo dello spacing dei valori vicini a p**2, \n",
    "#Cosi risultera trascurabile e verra calcolato la formula x = -p + sqrt(p**2)=0\n",
    "print(x)\n",
    "\n",
    "#Per evitare cio dobbiamo mettere il valore di q in rapporto con p ed eliminando anche una operazione pericolosa come la sottrazione\n",
    "#Questo puo essere fatto moltiplicando per (p+sqrt(p**2+q))/(p+sqrt(p**2+q))\n",
    "#E otterremo \n",
    "x = q / (p + np.sqrt(p**2 + q))\n",
    "print(\"Valori effettivi di x:\", x)\n",
    "#Questa funzione risultera molto piu stabile e corretta "
   ]
  },
  {
   "cell_type": "markdown",
   "id": "58c23bc2-9296-4e4f-8104-ef937dc4759c",
   "metadata": {},
   "source": [
    "# Esercizio 2\n",
    "\n",
    "Si stabilisca se il problema relativo al calcolo della funzione $f(x)= \\frac  {(1+x)-1 }  {x }$ per $x= 10^{-i }$ $  i=1,2,...,20$  risulta essere ben\n",
    "condizionato per tutti i valori di x assegnati; verificare sperimentalmente la stabilità numerica dell'algoritmo di valutazione"
   ]
  },
  {
   "cell_type": "code",
   "execution_count": 29,
   "id": "e22eb06c",
   "metadata": {},
   "outputs": [
    {
     "name": "stdout",
     "output_type": "stream",
     "text": [
      "results= [1.000000000000001 1.000000000000001 0.99999999999989  0.99999999999989\n",
      " 1.000000000006551 0.999999999917733 1.000000000583867 0.999999993922529\n",
      " 1.000000082740371 1.000000082740371 1.000000082740371 1.000088900582341\n",
      " 0.999200722162641 0.999200722162641 1.110223024625157 0.\n",
      " 0.                0.                0.                0.               ]\n",
      "Ealgo= [ 8.881784197001252e-16  8.881784197001252e-16 -1.101341240428155e-13\n",
      " -1.101341240428155e-13  6.551204023708124e-12 -8.226663794630440e-11\n",
      "  5.838671768287895e-10 -6.077470970922150e-09  8.274037099909037e-08\n",
      "  8.274037099909037e-08  8.274037099909037e-08  8.890058234101161e-05\n",
      " -7.992778373591136e-04 -7.992778373591136e-04  1.102230246251565e-01\n",
      " -1.000000000000000e+00 -1.000000000000000e+00 -1.000000000000000e+00\n",
      " -1.000000000000000e+00 -1.000000000000000e+00]\n"
     ]
    }
   ],
   "source": [
    "fx = lambda x: ((1+x)-1)/x\n",
    "x = np.array([10**(-x) for x in range(1,21)])\n",
    "\n",
    "results = fx(x)\n",
    "Ealgo = results-1\n",
    "\n",
    "print('results=',results)\n",
    "\n",
    "print('Ealgo=',Ealgo)"
   ]
  },
  {
   "cell_type": "markdown",
   "id": "a4e21560-1013-4ae3-aa74-6b1f27198cf5",
   "metadata": {},
   "source": [
    "## Esercizio 3"
   ]
  },
  {
   "cell_type": "markdown",
   "id": "535f46cb-ded4-4f6f-a9b0-87815d033a30",
   "metadata": {},
   "source": [
    "Realizzate un codice python che implementa il seguente algoritmo. Si tratta dell'implementazione del  metodo di Archimede per l'approssimazione di pi-greco e genera una successione di valori $p_i$, i=1,n, (n scelto dall'utente) che tende a $\\pi$. Verificare se all'aumentare di n, la successione $p_i$ tende a $\\pi$.\n",
    "\n",
    "b[0]=2\n",
    "\n",
    "s[0]=1\n",
    "\n",
    "for i in range(1,n):\n",
    "\n",
    "    p[i]=b[i-1]*s[i-1]\n",
    "    b[i]=2*b[i-1]\n",
    "     s[i]=math.sqrt((1.0-math.sqrt(1-s[i-1]**2))/2.0)\n",
    "\n",
    "- Visualizzate su un grafico gli elementi della successione p[i] calcolata.\n",
    "- Calcolate e visualizzate su un grafico l'errore relativo per ogni componente di p[i], - considerando come valore esatto di pigreco il valore math.pi.\n",
    "\n",
    "- Giustificate i risultati alla luce della teoria.\n",
    "\n",
    "- Proponete una versione stabile dell'algoritmo\n",
    "\n",
    "- Calcolate e visualizzate su un grafico l'errore relativo per ogni componente di p[i] prodotta dall'algoritmo stabilizzato, considerando come valore esatto di\n",
    "pigreco il valore math.pi."
   ]
  },
  {
   "cell_type": "code",
   "execution_count": 57,
   "id": "74ee7c02",
   "metadata": {},
   "outputs": [
    {
     "ename": "ValueError",
     "evalue": "x and y must have same first dimension, but have shapes (8,) and (9,)",
     "output_type": "error",
     "traceback": [
      "\u001b[0;31m---------------------------------------------------------------------------\u001b[0m",
      "\u001b[0;31mValueError\u001b[0m                                Traceback (most recent call last)",
      "\u001b[0;32m/tmp/ipykernel_5308/3072032161.py\u001b[0m in \u001b[0;36m<module>\u001b[0;34m\u001b[0m\n\u001b[1;32m     16\u001b[0m \u001b[0;34m\u001b[0m\u001b[0m\n\u001b[1;32m     17\u001b[0m \u001b[0mplt\u001b[0m\u001b[0;34m.\u001b[0m\u001b[0msubplot\u001b[0m\u001b[0;34m(\u001b[0m\u001b[0;36m1\u001b[0m\u001b[0;34m,\u001b[0m\u001b[0;36m2\u001b[0m\u001b[0;34m,\u001b[0m\u001b[0;36m1\u001b[0m\u001b[0;34m)\u001b[0m\u001b[0;34m\u001b[0m\u001b[0;34m\u001b[0m\u001b[0m\n\u001b[0;32m---> 18\u001b[0;31m \u001b[0mplt\u001b[0m\u001b[0;34m.\u001b[0m\u001b[0mplot\u001b[0m\u001b[0;34m(\u001b[0m\u001b[0mrange\u001b[0m\u001b[0;34m(\u001b[0m\u001b[0;36m1\u001b[0m\u001b[0;34m,\u001b[0m \u001b[0mn\u001b[0m\u001b[0;34m)\u001b[0m\u001b[0;34m,\u001b[0m \u001b[0mp\u001b[0m\u001b[0;34m,\u001b[0m \u001b[0mmarker\u001b[0m\u001b[0;34m=\u001b[0m\u001b[0;34m'o'\u001b[0m\u001b[0;34m,\u001b[0m \u001b[0mlinestyle\u001b[0m\u001b[0;34m=\u001b[0m\u001b[0;34m'-'\u001b[0m\u001b[0;34m,\u001b[0m \u001b[0mcolor\u001b[0m\u001b[0;34m=\u001b[0m\u001b[0;34m'b'\u001b[0m\u001b[0;34m)\u001b[0m\u001b[0;34m\u001b[0m\u001b[0;34m\u001b[0m\u001b[0m\n\u001b[0m\u001b[1;32m     19\u001b[0m \u001b[0mplt\u001b[0m\u001b[0;34m.\u001b[0m\u001b[0mshow\u001b[0m\u001b[0;34m(\u001b[0m\u001b[0;34m)\u001b[0m\u001b[0;34m\u001b[0m\u001b[0;34m\u001b[0m\u001b[0m\n",
      "\u001b[0;32m/usr/lib/python3/dist-packages/matplotlib/pyplot.py\u001b[0m in \u001b[0;36mplot\u001b[0;34m(scalex, scaley, data, *args, **kwargs)\u001b[0m\n\u001b[1;32m   2755\u001b[0m \u001b[0;34m@\u001b[0m\u001b[0m_copy_docstring_and_deprecators\u001b[0m\u001b[0;34m(\u001b[0m\u001b[0mAxes\u001b[0m\u001b[0;34m.\u001b[0m\u001b[0mplot\u001b[0m\u001b[0;34m)\u001b[0m\u001b[0;34m\u001b[0m\u001b[0;34m\u001b[0m\u001b[0m\n\u001b[1;32m   2756\u001b[0m \u001b[0;32mdef\u001b[0m \u001b[0mplot\u001b[0m\u001b[0;34m(\u001b[0m\u001b[0;34m*\u001b[0m\u001b[0margs\u001b[0m\u001b[0;34m,\u001b[0m \u001b[0mscalex\u001b[0m\u001b[0;34m=\u001b[0m\u001b[0;32mTrue\u001b[0m\u001b[0;34m,\u001b[0m \u001b[0mscaley\u001b[0m\u001b[0;34m=\u001b[0m\u001b[0;32mTrue\u001b[0m\u001b[0;34m,\u001b[0m \u001b[0mdata\u001b[0m\u001b[0;34m=\u001b[0m\u001b[0;32mNone\u001b[0m\u001b[0;34m,\u001b[0m \u001b[0;34m**\u001b[0m\u001b[0mkwargs\u001b[0m\u001b[0;34m)\u001b[0m\u001b[0;34m:\u001b[0m\u001b[0;34m\u001b[0m\u001b[0;34m\u001b[0m\u001b[0m\n\u001b[0;32m-> 2757\u001b[0;31m     return gca().plot(\n\u001b[0m\u001b[1;32m   2758\u001b[0m         \u001b[0;34m*\u001b[0m\u001b[0margs\u001b[0m\u001b[0;34m,\u001b[0m \u001b[0mscalex\u001b[0m\u001b[0;34m=\u001b[0m\u001b[0mscalex\u001b[0m\u001b[0;34m,\u001b[0m \u001b[0mscaley\u001b[0m\u001b[0;34m=\u001b[0m\u001b[0mscaley\u001b[0m\u001b[0;34m,\u001b[0m\u001b[0;34m\u001b[0m\u001b[0;34m\u001b[0m\u001b[0m\n\u001b[1;32m   2759\u001b[0m         **({\"data\": data} if data is not None else {}), **kwargs)\n",
      "\u001b[0;32m/usr/lib/python3/dist-packages/matplotlib/axes/_axes.py\u001b[0m in \u001b[0;36mplot\u001b[0;34m(self, scalex, scaley, data, *args, **kwargs)\u001b[0m\n\u001b[1;32m   1630\u001b[0m         \"\"\"\n\u001b[1;32m   1631\u001b[0m         \u001b[0mkwargs\u001b[0m \u001b[0;34m=\u001b[0m \u001b[0mcbook\u001b[0m\u001b[0;34m.\u001b[0m\u001b[0mnormalize_kwargs\u001b[0m\u001b[0;34m(\u001b[0m\u001b[0mkwargs\u001b[0m\u001b[0;34m,\u001b[0m \u001b[0mmlines\u001b[0m\u001b[0;34m.\u001b[0m\u001b[0mLine2D\u001b[0m\u001b[0;34m)\u001b[0m\u001b[0;34m\u001b[0m\u001b[0;34m\u001b[0m\u001b[0m\n\u001b[0;32m-> 1632\u001b[0;31m         \u001b[0mlines\u001b[0m \u001b[0;34m=\u001b[0m \u001b[0;34m[\u001b[0m\u001b[0;34m*\u001b[0m\u001b[0mself\u001b[0m\u001b[0;34m.\u001b[0m\u001b[0m_get_lines\u001b[0m\u001b[0;34m(\u001b[0m\u001b[0;34m*\u001b[0m\u001b[0margs\u001b[0m\u001b[0;34m,\u001b[0m \u001b[0mdata\u001b[0m\u001b[0;34m=\u001b[0m\u001b[0mdata\u001b[0m\u001b[0;34m,\u001b[0m \u001b[0;34m**\u001b[0m\u001b[0mkwargs\u001b[0m\u001b[0;34m)\u001b[0m\u001b[0;34m]\u001b[0m\u001b[0;34m\u001b[0m\u001b[0;34m\u001b[0m\u001b[0m\n\u001b[0m\u001b[1;32m   1633\u001b[0m         \u001b[0;32mfor\u001b[0m \u001b[0mline\u001b[0m \u001b[0;32min\u001b[0m \u001b[0mlines\u001b[0m\u001b[0;34m:\u001b[0m\u001b[0;34m\u001b[0m\u001b[0;34m\u001b[0m\u001b[0m\n\u001b[1;32m   1634\u001b[0m             \u001b[0mself\u001b[0m\u001b[0;34m.\u001b[0m\u001b[0madd_line\u001b[0m\u001b[0;34m(\u001b[0m\u001b[0mline\u001b[0m\u001b[0;34m)\u001b[0m\u001b[0;34m\u001b[0m\u001b[0;34m\u001b[0m\u001b[0m\n",
      "\u001b[0;32m/usr/lib/python3/dist-packages/matplotlib/axes/_base.py\u001b[0m in \u001b[0;36m__call__\u001b[0;34m(self, data, *args, **kwargs)\u001b[0m\n\u001b[1;32m    310\u001b[0m                 \u001b[0mthis\u001b[0m \u001b[0;34m+=\u001b[0m \u001b[0margs\u001b[0m\u001b[0;34m[\u001b[0m\u001b[0;36m0\u001b[0m\u001b[0;34m]\u001b[0m\u001b[0;34m,\u001b[0m\u001b[0;34m\u001b[0m\u001b[0;34m\u001b[0m\u001b[0m\n\u001b[1;32m    311\u001b[0m                 \u001b[0margs\u001b[0m \u001b[0;34m=\u001b[0m \u001b[0margs\u001b[0m\u001b[0;34m[\u001b[0m\u001b[0;36m1\u001b[0m\u001b[0;34m:\u001b[0m\u001b[0;34m]\u001b[0m\u001b[0;34m\u001b[0m\u001b[0;34m\u001b[0m\u001b[0m\n\u001b[0;32m--> 312\u001b[0;31m             \u001b[0;32myield\u001b[0m \u001b[0;32mfrom\u001b[0m \u001b[0mself\u001b[0m\u001b[0;34m.\u001b[0m\u001b[0m_plot_args\u001b[0m\u001b[0;34m(\u001b[0m\u001b[0mthis\u001b[0m\u001b[0;34m,\u001b[0m \u001b[0mkwargs\u001b[0m\u001b[0;34m)\u001b[0m\u001b[0;34m\u001b[0m\u001b[0;34m\u001b[0m\u001b[0m\n\u001b[0m\u001b[1;32m    313\u001b[0m \u001b[0;34m\u001b[0m\u001b[0m\n\u001b[1;32m    314\u001b[0m     \u001b[0;32mdef\u001b[0m \u001b[0mget_next_color\u001b[0m\u001b[0;34m(\u001b[0m\u001b[0mself\u001b[0m\u001b[0;34m)\u001b[0m\u001b[0;34m:\u001b[0m\u001b[0;34m\u001b[0m\u001b[0;34m\u001b[0m\u001b[0m\n",
      "\u001b[0;32m/usr/lib/python3/dist-packages/matplotlib/axes/_base.py\u001b[0m in \u001b[0;36m_plot_args\u001b[0;34m(self, tup, kwargs, return_kwargs)\u001b[0m\n\u001b[1;32m    496\u001b[0m \u001b[0;34m\u001b[0m\u001b[0m\n\u001b[1;32m    497\u001b[0m         \u001b[0;32mif\u001b[0m \u001b[0mx\u001b[0m\u001b[0;34m.\u001b[0m\u001b[0mshape\u001b[0m\u001b[0;34m[\u001b[0m\u001b[0;36m0\u001b[0m\u001b[0;34m]\u001b[0m \u001b[0;34m!=\u001b[0m \u001b[0my\u001b[0m\u001b[0;34m.\u001b[0m\u001b[0mshape\u001b[0m\u001b[0;34m[\u001b[0m\u001b[0;36m0\u001b[0m\u001b[0;34m]\u001b[0m\u001b[0;34m:\u001b[0m\u001b[0;34m\u001b[0m\u001b[0;34m\u001b[0m\u001b[0m\n\u001b[0;32m--> 498\u001b[0;31m             raise ValueError(f\"x and y must have same first dimension, but \"\n\u001b[0m\u001b[1;32m    499\u001b[0m                              f\"have shapes {x.shape} and {y.shape}\")\n\u001b[1;32m    500\u001b[0m         \u001b[0;32mif\u001b[0m \u001b[0mx\u001b[0m\u001b[0;34m.\u001b[0m\u001b[0mndim\u001b[0m \u001b[0;34m>\u001b[0m \u001b[0;36m2\u001b[0m \u001b[0;32mor\u001b[0m \u001b[0my\u001b[0m\u001b[0;34m.\u001b[0m\u001b[0mndim\u001b[0m \u001b[0;34m>\u001b[0m \u001b[0;36m2\u001b[0m\u001b[0;34m:\u001b[0m\u001b[0;34m\u001b[0m\u001b[0;34m\u001b[0m\u001b[0m\n",
      "\u001b[0;31mValueError\u001b[0m: x and y must have same first dimension, but have shapes (8,) and (9,)"
     ]
    },
    {
     "data": {
      "image/png": "[encoded data removed]",
      "text/plain": [
       "<Figure size 864x432 with 1 Axes>"
      ]
     },
     "metadata": {
      "needs_background": "light"
     },
     "output_type": "display_data"
    }
   ],
   "source": [
    "n = 9\n",
    "b = [0 for x in range(0,n)]\n",
    "s = [0 for x in range(0,n)]\n",
    "p = [0 for x in range(0,n)]\n",
    "b[0] = 2\n",
    "s[0] = 1\n",
    "\n",
    "for i in range(1,n):\n",
    "    p[i] = b[i-1]*s[i-1]\n",
    "    b[i] = 2 * b[i-1]\n",
    "    s[i] = math.sqrt((1.0 - math.sqrt(1-s[i-1]**2))/2.0)\n",
    "\n",
    "Err = np.abs(np.array(p) - math.pi)/math.pi\n",
    "\n",
    "plt.figure(figsize=(12, 6))\n",
    "\n",
    "plt.subplot(1,2,1)\n",
    "plt.plot(range(1, n), p, marker='o', linestyle='-', color='b')\n",
    "plt.show()"
   ]
  },
  {
   "cell_type": "code",
   "execution_count": 52,
   "id": "fcce2520",
   "metadata": {},
   "outputs": [
    {
     "data": {
      "image/png": "[encoded data removed]",
      "text/plain": [
       "<Figure size 864x432 with 2 Axes>"
      ]
     },
     "metadata": {
      "needs_background": "light"
     },
     "output_type": "display_data"
    }
   ],
   "source": [
    "import math\n",
    "import matplotlib.pyplot as plt\n",
    "\n",
    "# Funzione per il metodo di Archimede\n",
    "def archimede_pi(n):\n",
    "    # Inizializzazione delle variabili\n",
    "    b = [2.0]  # b[0] = 2\n",
    "    s = [1.0]  # s[0] = 1\n",
    "    p = []     # Successione p_i\n",
    "\n",
    "    for i in range(1, n):\n",
    "        # Calcolo di p[i]\n",
    "        p_i = b[i-1] * s[i-1]\n",
    "        p.append(p_i)\n",
    "\n",
    "        # Aggiornamento di b[i] e s[i]\n",
    "        b_i = 2 * b[i-1]\n",
    "        s_i = math.sqrt((1.0 - math.sqrt(1 - s[i-1]**2)) / 2.0)\n",
    "\n",
    "        b.append(b_i)\n",
    "        s.append(s_i)\n",
    "\n",
    "    return p\n",
    "\n",
    "# Input dell'utente per il numero di iterazioni\n",
    "n = int(input(\"Inserisci il numero di iterazioni (n): \"))\n",
    "\n",
    "# Calcolo della successione p_i\n",
    "p = archimede_pi(n)\n",
    "\n",
    "# Valore esatto di pi greco\n",
    "pi_exact = math.pi\n",
    "\n",
    "# Calcolo dell'errore relativo\n",
    "relative_error = [abs((pi_i - pi_exact) / pi_exact) for pi_i in p]\n",
    "\n",
    "# Visualizzazione dei risultati\n",
    "plt.figure(figsize=(12, 6))\n",
    "\n",
    "# Grafico della successione p_i\n",
    "plt.subplot(1, 2, 1)\n",
    "plt.plot(range(1, n), p, marker='o', linestyle='-', color='b')\n",
    "plt.axhline(y=pi_exact, color='r', linestyle='--', label='π esatto')\n",
    "plt.xlabel('Iterazione (i)')\n",
    "plt.ylabel('p_i')\n",
    "plt.title('Successione p_i')\n",
    "plt.legend()\n",
    "\n",
    "# Grafico dell'errore relativo\n",
    "plt.subplot(1, 2, 2)\n",
    "plt.plot(range(1, n), relative_error, marker='o', linestyle='-', color='g')\n",
    "plt.xlabel('Iterazione (i)')\n",
    "plt.ylabel('Errore relativo')\n",
    "plt.title('Errore relativo della successione p_i')\n",
    "plt.yscale('log')  # Scala logaritmica per visualizzare meglio l'errore\n",
    "\n",
    "plt.tight_layout()\n",
    "plt.show()"
   ]
  },
  {
   "cell_type": "markdown",
   "id": "4cb4eec0-4627-424e-8d0e-ad8462191abe",
   "metadata": {},
   "source": []
  },
  {
   "cell_type": "markdown",
   "id": "b7609125-16d1-4652-8945-8128d7ba1ca4",
   "metadata": {},
   "source": [
    "## Esercizio 4   \n",
    "Si consideri lo sviluppo in serie dell'esponenziale $e^x=1+x+\\frac{1}{2!}x^2+\\frac{1}{3!}x^3+\\cdots =\\sum_{k=0}^\\infty \\frac{x^k}{k!} $. Si calcoli un'approssimazione dell'esponenziale troncando ad N=100 termini la serie, per valori di x che variano da -10 a 10 incluso. Si calcoli  per ogni valore di x l'errore relativo del valore approssimato rispetto al valore esatto, ottenuto mediante la funzione exp della libreria numpy. Cosa si osserva? Pensare ad un algoritmo più stabile ricordando che $e^{-x}=\\frac{1}{e^{|x|}}$.\n",
    "\n"
   ]
  },
  {
   "cell_type": "code",
   "execution_count": null,
   "id": "5ed5fed7-5e9f-44c0-9f5a-98fd0ca23fe2",
   "metadata": {},
   "outputs": [],
   "source": []
  },
  {
   "cell_type": "markdown",
   "id": "0205da67-2ed7-4f56-beb7-33b5e38b8216",
   "metadata": {},
   "source": [
    "## Esercizio 5\n",
    "Calcolare l'approssimazione della derivata prima di f(x) = sin(x) in x = 1\n",
    "mediante l'algoritmo del rapporto incrementale (f(x + h) - f(x))/h per valori decrescenti\n",
    "di h, confrontandolo con il valore fornito dalla funzione di libreria per f'(x)\n",
    "mediante calcolo dell'errore relativo."
   ]
  },
  {
   "cell_type": "code",
   "execution_count": null,
   "id": "c841bbeb-c267-4b7f-ad31-9b10572fc986",
   "metadata": {},
   "outputs": [],
   "source": []
  },
  {
   "cell_type": "markdown",
   "id": "abac6a8f-c24b-4b1b-9a3f-71dc3f44fca5",
   "metadata": {},
   "source": [
    "## Esercizio 6\n",
    "Valutazione di un polinomio in un vettore di punti\n",
    "-   Realizzare una function  che mediante lo schema di Horner  valuti un polinomio in un vettore di punti.\n",
    "-   Realizzare una function  che utilizzi l’algoritmo classico per valutare un polinomio in un vettore di punti.\n",
    "-   Valutare   i seguenti polinomi, con i due metodi implementati nei punti precedenti,  sul vettore di punti specificato  e  rappresentarli graficamente. Confrontarne i tempi \n",
    "\n",
    "         p(x)=x^8-16x^7+112x^6-448x^5+1120x^4-1792x^3+1792x^2-1024x+256  da valutare su vettore di  1000000 punti equidistanti in [1.8,2.2]\n",
    "         p(x)= x^11 –8 x^9 +28 x^6 –7 x^4 +12 x^3 –4 x +1   da valutare su vettore di 1000000  punti in [-5:5]\n",
    "         \n",
    "Cosa conferma questo esperimento?\n"
   ]
  },
  {
   "cell_type": "markdown",
   "id": "eb1590d6-07fb-4447-995d-cfedd5d3a613",
   "metadata": {},
   "source": [
    "## Esercizio 7\n",
    "Realizzare un codice python che calcola il valore del polinomio p(x)=(x-2)^8 utilizzando le formule\n",
    "\n",
    "    p=x^8-16x^7+112x^6-448x^5+1120x^4-1792x^3+1792x^2-1024x+256;\n",
    "    p(x)=(x-2)^8\n",
    "    e lo schema di Horner\n",
    "\n",
    "e ne realizza il grafico in un vettore di 10000 equidistanti nell’intervallo [1.8,2.2], [1.9, 2.1],  [1.92,2.08], [1.93,2.07], [1.94,2.06] Spiegare il comportamento osservato. Cosa succede al restringersi dell’intervallo intorno al valore 2, punto in cui questo polinomio si annulla?\n",
    "\n",
    "\n"
   ]
  },
  {
   "cell_type": "markdown",
   "id": "7daf30b3-1cd4-4530-9f18-d5cdb193de42",
   "metadata": {},
   "source": []
  },
  {
   "cell_type": "markdown",
   "id": "6671d3cd-00ce-4e4b-aed9-203b32a86b2f",
   "metadata": {},
   "source": [
    "Si nota che al restringersi dell'intervallo in torno al punto x=2, \n",
    "in cui la funzione si annulla, si evidenzia l'instabilità dell'algoritmo 1\n",
    "rispetto all' algoritmo di Horner che risulta più stabile. \n"
   ]
  },
  {
   "cell_type": "markdown",
   "id": "6d9994ff-a2b8-44b2-a145-10071ac2cdbf",
   "metadata": {},
   "source": []
  },
  {
   "cell_type": "code",
   "execution_count": null,
   "id": "dafd0330-a4de-4430-851c-1ccaa6eeca71",
   "metadata": {},
   "outputs": [],
   "source": []
  },
  {
   "cell_type": "code",
   "execution_count": null,
   "id": "740c7ed0-7ef1-41f9-880d-c360c6ab704b",
   "metadata": {},
   "outputs": [],
   "source": []
  }
 ],
 "metadata": {
  "kernelspec": {
   "display_name": "Python 3",
   "language": "python",
   "name": "python3"
  },
  "language_info": {
   "codemirror_mode": {
    "name": "ipython",
    "version": 3
   },
   "file_extension": ".py",
   "mimetype": "text/x-python",
   "name": "python",
   "nbconvert_exporter": "python",
   "pygments_lexer": "ipython3",
   "version": "3.10.12"
  }
 },
 "nbformat": 4,
 "nbformat_minor": 5
}
