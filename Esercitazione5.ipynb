{
 "cells": [
  {
   "cell_type": "markdown",
   "id": "d2903ef7-4c36-4b4f-b8dd-01fa2f35dfc5",
   "metadata": {},
   "source": [
    "## Esercitazione 5  del    18 Marzo 2025\n"
   ]
  },
  {
   "cell_type": "code",
   "execution_count": 1,
   "id": "b2a79425",
   "metadata": {},
   "outputs": [],
   "source": [
    "import numpy as np\n",
    "import matplotlib.pyplot as plt\n",
    "import math\n",
    "import time"
   ]
  },
  {
   "cell_type": "markdown",
   "id": "a3f2d7cc-2f95-467a-af5e-d9cd0c4fcad2",
   "metadata": {},
   "source": [
    "## Esercizio 1 \n",
    "Si consideri l'equazione quadratica $x^2 + 2px - q = 0 $ con $p=10^5$ e $q=10^{-i}$, i=0,..,10\n",
    "\n",
    "- Si stabilisca se il problema relativo al calcolo della soluzione $x= -p+\\sqrt{p^2+q}$ risulta essere ben\n",
    "      condizionato per tutti i valori di q assegnati;\n",
    "\n",
    "- Si calcoli la soluzione x dell'equazione mediante la formula risolutiva indicata al punto precedente e si dica se l'algoritmo di calcolo risulta numericamente\n",
    "stabile  per i valori di q assegnati\n",
    "\n",
    "- si individui una forma stabile per il calcolo della soluzione e si verifichi se l'algoritmo di calcolo risulta numericamente stabile per i valori di q assegnati."
   ]
  },
  {
   "cell_type": "code",
   "execution_count": 15,
   "id": "4dd50828",
   "metadata": {},
   "outputs": [
    {
     "name": "stdout",
     "output_type": "stream",
     "text": [
      "Spacing per p**2: 1.9073486328125e-06 \n",
      "valori di q: [1.e+00 1.e-01 1.e-02 1.e-03 1.e-04 1.e-05 1.e-06 1.e-07 1.e-08 1.e-09\n",
      " 1.e-10]\n",
      "[4.99999442e-06 5.00003807e-07 5.00003807e-08 4.99130692e-09\n",
      " 4.94765118e-10 4.36557457e-11 1.45519152e-11 0.00000000e+00\n",
      " 0.00000000e+00 0.00000000e+00 0.00000000e+00]\n",
      "Valori effettivi di x: [5.e-06 5.e-07 5.e-08 5.e-09 5.e-10 5.e-11 5.e-12 5.e-13 5.e-14 5.e-15\n",
      " 5.e-16]\n"
     ]
    }
   ],
   "source": [
    "p = 1e+5\n",
    "q=10.0**(-np.arange(11))\n",
    "x = -p + np.sqrt(p**2 + q)\n",
    "\n",
    "print(\"Spacing per p**2:\", np.spacing(p**2),\"\\nvalori di q:\",q)\n",
    "\n",
    "#L'algoritmo non risulta stabile nel punto in cui q diventa piu piccolo dello spacing dei valori vicini a p**2, \n",
    "#Cosi risultera trascurabile e verra calcolato la formula x = -p + sqrt(p**2)=0\n",
    "print(x)\n",
    "\n",
    "#Per evitare cio dobbiamo mettere il valore di q in rapporto con p ed eliminando anche una operazione pericolosa come la sottrazione\n",
    "#Questo puo essere fatto moltiplicando per (p+sqrt(p**2+q))/(p+sqrt(p**2+q))\n",
    "#E otterremo \n",
    "x = q / (p + np.sqrt(p**2 + q))\n",
    "print(\"Valori effettivi di x:\", x)\n",
    "#Questa funzione risultera molto piu stabile e corretta "
   ]
  },
  {
   "cell_type": "markdown",
   "id": "58c23bc2-9296-4e4f-8104-ef937dc4759c",
   "metadata": {},
   "source": [
    "# Esercizio 2\n",
    "\n",
    "Si stabilisca se il problema relativo al calcolo della funzione $f(x)= \\frac  {(1+x)-1 }  {x }$ per $x= 10^{-i }$ $  i=1,2,...,20$  risulta essere ben\n",
    "condizionato per tutti i valori di x assegnati; verificare sperimentalmente la stabilità numerica dell'algoritmo di valutazione"
   ]
  },
  {
   "cell_type": "code",
   "execution_count": 26,
   "id": "e22eb06c",
   "metadata": {},
   "outputs": [
    {
     "name": "stdout",
     "output_type": "stream",
     "text": [
      "2.220446049250313e-16\n",
      "Per x:\n",
      " [1.e+00 1.e-01 1.e-02 1.e-03 1.e-04 1.e-05 1.e-06 1.e-07 1.e-08 1.e-09\n",
      " 1.e-10 1.e-11 1.e-12 1.e-13 1.e-14 1.e-15 1.e-16 1.e-17 1.e-18 1.e-19\n",
      " 1.e-20] \n",
      "Si ha che f(x) sara:\n",
      " [1.         1.         1.         1.         1.         1.\n",
      " 1.         1.         0.99999999 1.00000008 1.00000008 1.00000008\n",
      " 1.0000889  0.99920072 0.99920072 1.11022302 0.         0.\n",
      " 0.         0.         0.        ]\n"
     ]
    },
    {
     "data": {
      "text/plain": [
       "[<matplotlib.lines.Line2D at 0x7dc3f45e7160>,\n",
       " <matplotlib.lines.Line2D at 0x7dc3f45e71c0>]"
      ]
     },
     "execution_count": 26,
     "metadata": {},
     "output_type": "execute_result"
    },
    {
     "data": {
      "image/png": "[encoded data removed]",
      "text/plain": [
       "<Figure size 432x288 with 1 Axes>"
      ]
     },
     "metadata": {
      "needs_background": "light"
     },
     "output_type": "display_data"
    }
   ],
   "source": [
    "print(np.spacing(1))\n",
    "#Determinato dallo spacing in 1, il problema non e ben condizionato quando l'exp di x va sotto a -16, Infatti:\n",
    "f = lambda x: ((1+x)-1)/x\n",
    "x = 10.0**(-np.arange(21))\n",
    "print(\"Per x:\\n\",x,\"\\nSi ha che f(x) sara:\\n\",f(x))\n",
    "plt.semilogx(x,f(x),np.ones_like(x))"
   ]
  },
  {
   "cell_type": "markdown",
   "id": "a4e21560-1013-4ae3-aa74-6b1f27198cf5",
   "metadata": {},
   "source": [
    "## Esercizio 3"
   ]
  },
  {
   "cell_type": "markdown",
   "id": "535f46cb-ded4-4f6f-a9b0-87815d033a30",
   "metadata": {},
   "source": [
    "Realizzate un codice python che implementa il seguente algoritmo. Si tratta dell'implementazione del  metodo di Archimede per l'approssimazione di pi-greco e genera una successione di valori $p_i$, i=1,n, (n scelto dall'utente) che tende a $\\pi$. Verificare se all'aumentare di n, la successione $p_i$ tende a $\\pi$.\n",
    "\n",
    "b[0]=2\n",
    "\n",
    "s[0]=1\n",
    "\n",
    "for i in range(1,n):\n",
    "\n",
    "    p[i]=b[i-1]*s[i-1]\n",
    "    b[i]=2*b[i-1]\n",
    "     s[i]=math.sqrt((1.0-math.sqrt(1-s[i-1]**2))/2.0)\n",
    "\n",
    "- Visualizzate su un grafico gli elementi della successione p[i] calcolata.\n",
    "- Calcolate e visualizzate su un grafico l'errore relativo per ogni componente di p[i], - considerando come valore esatto di pigreco il valore math.pi.\n",
    "\n",
    "- Giustificate i risultati alla luce della teoria.\n",
    "\n",
    "- Proponete una versione stabile dell'algoritmo\n",
    "\n",
    "- Calcolate e visualizzate su un grafico l'errore relativo per ogni componente di p[i] prodotta dall'algoritmo stabilizzato, considerando come valore esatto di\n",
    "pigreco il valore math.pi."
   ]
  },
  {
   "cell_type": "code",
   "execution_count": 66,
   "id": "74ee7c02",
   "metadata": {},
   "outputs": [
    {
     "name": "stdout",
     "output_type": "stream",
     "text": [
      "1 1.0\n",
      "2 0.5000000000000001\n",
      "3 0.1464466094067263\n",
      "4 0.03806023374435664\n",
      "5 0.009607359798384785\n",
      "6 0.0024076366639015356\n",
      "7 0.0006022718974137975\n",
      "8 0.00015059065189787502\n",
      "9 3.7649080427748505e-05\n",
      "10 9.412358699445457e-06\n",
      "11 2.35309521190441e-06\n",
      "12 5.882741490603749e-07\n",
      "13 1.4706855888668715e-07\n",
      "14 3.676714105393941e-08\n",
      "15 9.191785388384942e-09\n",
      "16 2.2979463332184476e-09\n",
      "17 5.744865694268242e-10\n",
      "18 1.4362167011228166e-10\n",
      "19 3.590544528364603e-11\n",
      "20 8.976375198699316e-12\n",
      "21 2.244093799674829e-12\n",
      "22 5.610512054943229e-13\n",
      "23 1.4027667916138855e-13\n",
      "24 3.5083047578154947e-14\n",
      "25 8.770761894538737e-15\n",
      "26 2.2204460492503135e-15\n",
      "27 5.551115123125784e-16\n",
      "28 1.6653345369377346e-16\n",
      "29 5.551115123125783e-17\n",
      "30 0.0\n",
      "31 0.0\n",
      "32 0.0\n",
      "33 0.0\n"
     ]
    },
    {
     "data": {
      "text/plain": [
       "[<matplotlib.lines.Line2D at 0x7dc3e910a920>,\n",
       " <matplotlib.lines.Line2D at 0x7dc3e910a980>]"
      ]
     },
     "execution_count": 66,
     "metadata": {},
     "output_type": "execute_result"
    },
    {
     "data": {
      "image/png": "[encoded data removed]",
      "text/plain": [
       "<Figure size 432x288 with 1 Axes>"
      ]
     },
     "metadata": {
      "needs_background": "light"
     },
     "output_type": "display_data"
    }
   ],
   "source": [
    "#n = input(\"Inserisci il valore di n:\")\n",
    "n =  34\n",
    "b = np.zeros((int(n),))\n",
    "s=np.zeros((n,))\n",
    "p=np.zeros((n,))\n",
    "#Inizializzazione valori [0]\n",
    "b[0] = 2\n",
    "s[0] = 1\n",
    "\n",
    "#Strutturizzazione algoritmo\n",
    "for i in range(1,n):\n",
    "    p[i] = b [i-1] * s[i-1]\n",
    "    b[i] = 2 * b[i-1]\n",
    "    print(i,s[i-1]**2)\n",
    "    s[i] = math.sqrt((1.0-math.sqrt(1-s[i-1]**2))/2.0)\n",
    "\n",
    "bs=np.zeros((n,))\n",
    "ss=np.zeros((n,))\n",
    "ps=np.zeros((n,))\n",
    "bs[0]=2\n",
    "ss[0]=1\n",
    "for i in range(1,n):\n",
    "     ps[i]=bs[i-1]*ss[i-1]\n",
    "     bs[i]=2*bs[i-1]\n",
    "     ss[i]=ss[i-1]/math.sqrt((2.0*(1.0+math.sqrt(1.0-ss[i-1]**2))))\n",
    "\n",
    "plt.plot(np.arange(1,n),p[1:n],np.arange(1,n),ps[1:n])"
   ]
  },
  {
   "cell_type": "markdown",
   "id": "b7609125-16d1-4652-8945-8128d7ba1ca4",
   "metadata": {},
   "source": [
    "## Esercizio 4   \n",
    "Si consideri lo sviluppo in serie dell'esponenziale $e^x=1+x+\\frac{1}{2!}x^2+\\frac{1}{3!}x^3+\\cdots =\\sum_{k=0}^\\infty \\frac{x^k}{k!} $. Si calcoli un'approssimazione dell'esponenziale troncando ad N=100 termini la serie, per valori di x che variano da -10 a 10 incluso. Si calcoli  per ogni valore di x l'errore relativo del valore approssimato rispetto al valore esatto, ottenuto mediante la funzione exp della libreria numpy. Cosa si osserva? Pensare ad un algoritmo più stabile ricordando che $e^{-x}=\\frac{1}{e^{|x|}}$.\n",
    "\n"
   ]
  },
  {
   "cell_type": "code",
   "execution_count": null,
   "id": "5ed5fed7-5e9f-44c0-9f5a-98fd0ca23fe2",
   "metadata": {},
   "outputs": [],
   "source": []
  },
  {
   "cell_type": "markdown",
   "id": "0205da67-2ed7-4f56-beb7-33b5e38b8216",
   "metadata": {},
   "source": [
    "## Esercizio 5\n",
    "Calcolare l'approssimazione della derivata prima di f(x) = sin(x) in x = 1\n",
    "mediante l'algoritmo del rapporto incrementale (f(x + h) - f(x))/h per valori decrescenti\n",
    "di h, confrontandolo con il valore fornito dalla funzione di libreria per f'(x)\n",
    "mediante calcolo dell'errore relativo."
   ]
  },
  {
   "cell_type": "code",
   "execution_count": null,
   "id": "c841bbeb-c267-4b7f-ad31-9b10572fc986",
   "metadata": {},
   "outputs": [],
   "source": []
  },
  {
   "cell_type": "markdown",
   "id": "abac6a8f-c24b-4b1b-9a3f-71dc3f44fca5",
   "metadata": {},
   "source": [
    "## Esercizio 6\n",
    "Valutazione di un polinomio in un vettore di punti\n",
    "-   Realizzare una function  che mediante lo schema di Horner  valuti un polinomio in un vettore di punti.\n",
    "-   Realizzare una function  che utilizzi l’algoritmo classico per valutare un polinomio in un vettore di punti.\n",
    "-   Valutare   i seguenti polinomi, con i due metodi implementati nei punti precedenti,  sul vettore di punti specificato  e  rappresentarli graficamente. Confrontarne i tempi \n",
    "\n",
    "         p(x)=x^8-16x^7+112x^6-448x^5+1120x^4-1792x^3+1792x^2-1024x+256  da valutare su vettore di  1000000 punti equidistanti in [1.8,2.2]\n",
    "         p(x)= x^11 –8 x^9 +28 x^6 –7 x^4 +12 x^3 –4 x +1   da valutare su vettore di 1000000  punti in [-5:5]\n",
    "         \n",
    "Cosa conferma questo esperimento?\n"
   ]
  },
  {
   "cell_type": "markdown",
   "id": "eb1590d6-07fb-4447-995d-cfedd5d3a613",
   "metadata": {},
   "source": [
    "## Esercizio 7\n",
    "Realizzare un codice python che calcola il valore del polinomio p(x)=(x-2)^8 utilizzando le formule\n",
    "\n",
    "    p=x^8-16x^7+112x^6-448x^5+1120x^4-1792x^3+1792x^2-1024x+256;\n",
    "    p(x)=(x-2)^8\n",
    "    e lo schema di Horner\n",
    "\n",
    "e ne realizza il grafico in un vettore di 10000 equidistanti nell’intervallo [1.8,2.2], [1.9, 2.1],  [1.92,2.08], [1.93,2.07], [1.94,2.06] Spiegare il comportamento osservato. Cosa succede al restringersi dell’intervallo intorno al valore 2, punto in cui questo polinomio si annulla?\n",
    "\n",
    "\n"
   ]
  },
  {
   "cell_type": "markdown",
   "id": "7daf30b3-1cd4-4530-9f18-d5cdb193de42",
   "metadata": {},
   "source": []
  },
  {
   "cell_type": "markdown",
   "id": "6671d3cd-00ce-4e4b-aed9-203b32a86b2f",
   "metadata": {},
   "source": [
    "Si nota che al restringersi dell'intervallo in torno al punto x=2, \n",
    "in cui la funzione si annulla, si evidenzia l'instabilità dell'algoritmo 1\n",
    "rispetto all' algoritmo di Horner che risulta più stabile. \n"
   ]
  },
  {
   "cell_type": "markdown",
   "id": "6d9994ff-a2b8-44b2-a145-10071ac2cdbf",
   "metadata": {},
   "source": []
  },
  {
   "cell_type": "code",
   "execution_count": null,
   "id": "dafd0330-a4de-4430-851c-1ccaa6eeca71",
   "metadata": {},
   "outputs": [],
   "source": []
  },
  {
   "cell_type": "code",
   "execution_count": null,
   "id": "740c7ed0-7ef1-41f9-880d-c360c6ab704b",
   "metadata": {},
   "outputs": [],
   "source": []
  }
 ],
 "metadata": {
  "kernelspec": {
   "display_name": "Python 3",
   "language": "python",
   "name": "python3"
  },
  "language_info": {
   "codemirror_mode": {
    "name": "ipython",
    "version": 3
   },
   "file_extension": ".py",
   "mimetype": "text/x-python",
   "name": "python",
   "nbconvert_exporter": "python",
   "pygments_lexer": "ipython3",
   "version": "3.10.12"
  }
 },
 "nbformat": 4,
 "nbformat_minor": 5
}
