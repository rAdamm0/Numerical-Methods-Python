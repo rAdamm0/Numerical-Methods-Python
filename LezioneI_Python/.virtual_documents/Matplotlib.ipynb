














import matplotlib.pyplot as plt





x = list(range(1,10))
y = [ i ** 2  for i in x]
y3=[i+i**2+i**3 for i in x]


plt.plot(x, y, 'ro')
plt.grid(True)
plt.xlabel('x')
plt.ylabel('y')
plt.title('title')
plt.legend(["Funzione1","Funzione2"])
plt.savefig("filename.jpg")  #Salva la figura in un file con formato grahico jpg
plt.show()



plt.plot(x, y3, 'g*')
plt.xlabel('x')
plt.ylabel('y')
plt.title('title')
plt.legend(["Funzione2"])
plt.show()





plt.plot(x, y3, 'r:o')
plt.plot(x,y,'g*--')
plt.xlabel('x')
plt.ylabel('y')
plt.text(1,400,'Testo Libero',c='r')  #Scrivere testo libero a partire da una coordinata specificata
plt.annotate('Importante',xy=(6,250),xytext=(5.0, 400),arrowprops={'arrowstyle':'->'}) #Annotazione
plt.title('title')
plt.legend(["Funzione1","Funzione2"])
plt.show()



x1=list(range(1,101))
y1 = [ i **(-5.0/3.0)  for i in x1]
plt.plot(x1,y1,'r')
plt.show()






plt.semilogy(x1,y1,'r')  #Scala logaritmica in y
plt.show()





plt.subplot(1,2,1)
plt.plot(x, y, 'r--',linewidth=5.0)
plt.title("Funzione 1")
plt.subplot(1,2,2)
plt.plot( x,y3, 'g^-',linewidth=1.0);
plt.title("Funzione 2")
plt.savefig("filename2.png")
plt.show()








names = ['a', 'b', 'c', 'd']
values = [1, 10, 40, 50]
plt.bar(names, values)
plt.show()





dims=[10.0,30.0,40.0,10.0]
etichette=["dato1","dato2","dato3","dato4"]
colori=['b','r','y','magenta']
plt.pie(dims,labels=etichette,colors=colori)
plt.show()



