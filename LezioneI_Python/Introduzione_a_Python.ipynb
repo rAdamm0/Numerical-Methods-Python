{
 "cells": [
  {
   "cell_type": "markdown",
   "metadata": {
    "tags": []
   },
   "source": [
    "# Introduzione al calcolo scientifico con Python\n",
    "  - [Interprete](#Interprete)\n",
    "  - [IPython](#IPython)\n",
    "  - [Jupyter](#Jupyter)\n",
    "  - [Markdown](#Markdown)\n",
    "  - [JupyterLab](#JupyterLab)\n",
    "  - [Spyder](#Spyder)\n",
    "  - [Installazione di Python](#Installazione)\n",
    "  - [Identazione](#Indentazione)\n",
    "\n"
   ]
  },
  {
   "cell_type": "markdown",
   "metadata": {},
   "source": [
    "# Cosa è Python?"
   ]
  },
  {
   "cell_type": "markdown",
   "metadata": {},
   "source": [
    "- Python è un linguaggio moderno di programmazione **interpretato** ad alto livello, orientato agli oggetti e di uso generale, ideato dall'olandese  Guido Van Rossum all'inizio degli anni '90 e così denominato per la sua passione per il gruppo comico britannico Monty Python.\n",
    "- Versione di Python più recente (3 dicembre  2024: 3.13.1)\n",
    "\n",
    "- **Popolarita'**\n",
    "\n",
    "  Classifica dei linguaggi più popolari secondo il TIOBE Index di Febbraio 2025:\n",
    "\n",
    "1. Python\n",
    "2. JavaScript\n",
    "3. Java\n",
    "4. TypeScript\n",
    "5. PHP\n",
    "6. C#\n",
    "7. Rust\n",
    "8. Go (Golang)\n",
    "9. Kotlin\n",
    "10. Swift\n",
    "\n",
    "**TIOBE Programming Community Index**, o in breve **TPC Index**, è un indicatore della popolarità dei linguaggi di programmazione. La classifica viene compilata mensilmente grazie ai dati ricavati da tre motori di ricerca: Google, MSN e Yahoo! (https://www.tiobe.com/tiobe-index/)"
   ]
  },
  {
   "cell_type": "markdown",
   "metadata": {
    "jp-MarkdownHeadingCollapsed": true
   },
   "source": [
    "# Caratteristiche generali di Python:\n",
    "\n",
    "**Linguaggio pulito e semplice**: codice facile da leggere ed intuitivo, sintassi minimalista facile da apprendere (linguaggio mantenibile), facilita la scrittura di codice leggibile, comprensibile, modificabile e aggiornabile nel tempo. \n",
    "\n",
    "- **Dettagli tecnici**:\n",
    "\n",
    "    **Tipizzazione dinamica**: non è necessario definire il tipo di variabili, argomenti di funzione o tipi di ritorno.\n",
    "    \n",
    "    **Gestione automatica della memoria**: non è necessario allocare e deallocare esplicitamente la memoria per le variabili e gli array di dati. Nessun bug di perdita di memoria.\n",
    "    \n",
    "    **Interpretato**: non è necessario compilare il codice. L'interprete Python legge ed esegue direttamente il codice Python.\n",
    "\n",
    "- **Vantaggi**:\n",
    "\n",
    "    Il principale vantaggio è la **facilità di programmazione**, riducendo il tempo necessario per sviluppare, debuggare e mantenere il codice.\n",
    "    \n",
    "    Linguaggio ben progettato che incoraggia molte buone pratiche di programmazione:\n",
    "    \n",
    "    Programmazione modulare e orientata agli oggetti, buon sistema per l'incapsulamento e il riutilizzo del codice. Ciò spesso porta a codice più trasparente, mantenibile e privo di bug.\n",
    "    \n",
    "    Documentazione strettamente integrata con il codice.\n",
    "    \n",
    "    Una grande libreria standard e una vasta collezione di pacchetti aggiuntivi.\n",
    "    \n",
    "**Il bytecode in Python**\n",
    "\n",
    "In Python, il *bytecode* è una rappresentazione di basso livello delle istruzioni presenti nel codice. Si tratta di un **passo intermedio** tra **il codice sorgente** leggibile dall'uomo e il **codice macchina** direttamente compreso dal computer. \n",
    "\n",
    "Ecco alcuni punti chiave sul bytecode di Python:\n",
    "\n",
    "**Scrittura del codice sorgente**:in un file con estensione .py.\n",
    "\n",
    "**Compilazione in bytecode:** Quando viene eseguito lo script, l'interprete Python (CPython, nel caso più comune) compila il codice sorgente in bytecode. Questo bytecode viene salvato in file con estensione .pyc (o .pyo in caso di ottimizzazione).\n",
    "\n",
    "**Esecuzione del bytecode:** La Python Virtual Machine (PVM) prende il bytecode e lo interpreta, eseguendo le istruzioni in esso contenute. La PVM è un ambiente di esecuzione che simula un computer, consentendo al bytecode di essere eseguito su diverse piattaforme senza bisogno di essere ricompilato.\n",
    "\n",
    "Vantaggi del bytecode\n",
    "\n",
    "**Portabilità:** Il bytecode è indipendente dalla piattaforma. Ciò significa che è possibile  eseguire lo stesso file .pyc su sistemi operativi diversi (Windows, macOS, Linux) senza dover modificare il codice sorgente.\n",
    "\n",
    "**Ottimizzazione:** La compilazione in bytecode consente alcune ottimizzazioni preliminari del codice, migliorando le prestazioni rispetto all'interpretazione diretta del codice sorgente.\n",
    "\n",
    "**Distribuzione:** E' possibile distribuire il bytecode (.pyc) invece del codice sorgente (.py), proteggendo il tuo codice da modifiche indesiderate. Inoltre, diverse strutture dati, funzioni, e moduli di Python sono implementati internamente in C per essere ancora più performanti.\n",
    "\n",
    "\n"
   ]
  },
  {
   "cell_type": "markdown",
   "metadata": {},
   "source": [
    "# Cosa rende Python adatto per il calcolo scientifico?"
   ]
  },
  {
   "cell_type": "markdown",
   "metadata": {},
   "source": [
    "**1. Comunità e documentazione:**\n",
    "\n",
    "La vasta comunità di utenti di Python non solo rende facile trovare aiuto e risorse online, ma contribuisce anche allo sviluppo continuo del linguaggio e delle sue librerie. Questo significa che nuove funzionalità e miglioramenti sono costantemente in fase di sviluppo, mantenendo Python all'avanguardia nel campo del calcolo scientifico.\n",
    "    La documentazione di Python è rinomata per la sua completezza e chiarezza. \n",
    "\n",
    "**2. Prestazioni:**\n",
    "\n",
    "L'integrazione con C e Fortran consente di sfruttare la velocità di questi linguaggi per le parti più intensive dal punto di vista computazionale del codice Python. Questo significa che è possibile ottenere prestazioni elevate anche quando si lavora con grandi quantità di dati o modelli complessi.\n",
    "L'utilizzo di librerie ottimizzate come BLAS, ATLAS BLAS, LAPACK e altre garantisce che le operazioni di base siano eseguite in modo efficiente.\n",
    "\n",
    "**3. Supporto per il calcolo ad alte prestazioni:**\n",
    "\n",
    "Python offre diverse opzioni per il calcolo parallelo, tra cui l'utilizzo di processi e thread, la comunicazione tra processi (MPI) e l'accelerazione tramite GPU (OpenCL e CUDA). Questo permette di sfruttare appieno le risorse hardware disponibili, come cluster di calcolo e schede grafiche, per risolvere problemi scientifici complessi in modo più rapido.\n",
    "\n",
    "**4. Disponibilità e utilizzo su cluster:**\n",
    "\n",
    "Python è un linguaggio open source e multipiattaforma, il che significa che può essere utilizzato su diversi sistemi operativi (Windows, macOS, Linux) e architetture hardware.\n",
    "    La sua facilità di installazione e la disponibilità di strumenti per la gestione di pacchetti (come pip e conda) rendono Python ideale per l'uso su cluster di calcolo ad alte prestazioni.\n",
    "\n",
    "**5. Nessun costo di licenza:**\n",
    "\n",
    "L'assenza di costi di licenza per Python e le sue librerie scientifiche lo rende una scelta ideale per la ricerca scientifica, dove i budget possono essere limitati."
   ]
  },
  {
   "cell_type": "markdown",
   "metadata": {},
   "source": [
    "### Lo Scipy Stack"
   ]
  },
  {
   "cell_type": "markdown",
   "metadata": {},
   "source": [
    "Lo SciPy Stack è un ecosistema di librerie open-source interconnesse, progettate per fornire un ambiente di lavoro completo e potente per il calcolo scientifico in Python. Ogni componente svolge un ruolo specifico, contribuendo a creare una \"pila\" di strumenti indispensabili per ricercatori, ingegneri e data scientist.\n",
    "\n",
    "\n",
    "Componenti principali:\n",
    "\n",
    "    NumPy: Il cuore dello SciPy Stack. NumPy fornisce array multidimensionali ad alte prestazioni e strumenti per manipolare questi array in modo efficiente. Le operazioni vettoriali e l'algebra lineare sono ottimizzate per garantire velocità e prestazioni elevate.\n",
    "\n",
    "    SciPy: Costruita su NumPy, SciPy offre una vasta gamma di funzioni e algoritmi scientifici, tra cui:\n",
    "        Integrazione numerica\n",
    "        Risoluzione di equazioni differenziali\n",
    "        Ottimizzazione\n",
    "        Algebra lineare\n",
    "        Statistica\n",
    "        Elaborazione del segnale\n",
    "        E molto altro\n",
    "\n",
    "    Matplotlib: La libreria di visualizzazione dati standard per Python. Matplotlib consente di creare grafici di alta qualità, diagrammi, istogrammi e altre rappresentazioni visive dei dati. È uno strumento essenziale per l'analisi e la comunicazione dei risultati scientifici.\n",
    "\n",
    "    IPython: Un ambiente interattivo avanzato per Python. IPython offre funzionalità aggiuntive rispetto all'interprete Python standard, come completamento del codice, accesso alla cronologia dei comandi, strumenti di debugging e integrazione con altre librerie.\n",
    "\n",
    "    SymPy: Una libreria per il calcolo simbolico. SymPy consente di manipolare espressioni matematiche in forma simbolica, eseguire calcoli algebrici, risolvere equazioni e molto altro. È uno strumento prezioso per la matematica simbolica e l'ingegneria.\n",
    "\n",
    "    Jupyter Notebook: Un'applicazione web interattiva che consente di creare documenti (notebook) contenenti codice Python eseguibile, testo esplicativo, equazioni, visualizzazioni e altri elementi multimediali. Jupyter Notebook è ideale per l'apprendimento, la sperimentazione e la condivisione di risultati scientifici."
   ]
  },
  {
   "cell_type": "markdown",
   "metadata": {},
   "source": [
    "<img src=\"scipy_ecosystem.png\" width=\"300\">"
   ]
  },
  {
   "cell_type": "markdown",
   "metadata": {},
   "source": [
    "## Interprete "
   ]
  },
  {
   "cell_type": "markdown",
   "metadata": {},
   "source": [
    "Il modo standard per utilizzare il linguaggio di programmazione Python consiste nell'utilizzare l'interprete Python per eseguire il codice Python. L'interprete Python è un programma che legge ed esegue il codice Python scritto nei file che gli vengono passati come argomenti. Al prompt dei comandi, il comando ``python`` viene utilizzato per invocare l'interprete Python.\n",
    "\n",
    "Ad esempio, per eseguire un file ``my_program.py`` che contiene codice python dal *prompt dei comandi anaconda*, usare:\n",
    "\n",
    " python my_program.py\n",
    "\n",
    "Possiamo anche avviare l'interprete semplicemente digitando ``python`` nella riga di comando e digitare interattivamente il codice python nell'interprete.\n",
    "\n",
    "\n",
    "Questo è spesso il modo di  lavorare quando eseguiamo piccoli calcoli. Ma l'interprete Python standard non è molto conveniente per questo tipo di lavoro, a causa di una serie di limitazioni:\n",
    "\n",
    "Mancanza di strumenti di debug avanzati: L'interprete di base offre strumenti di debug limitati. Per progetti più grandi, è fondamentale avere funzionalità di debug più sofisticate, come la possibilità di impostare punti di interruzione, esaminare variabili e seguire l'esecuzione del codice passo dopo passo.\n",
    "\n",
    "Difficoltà nella gestione di progetti complessi: Per progetti con più file e moduli, l'interprete interattivo può diventare rapidamente difficile da gestire. È più efficiente utilizzare un ambiente di sviluppo integrato (IDE) o un editor di codice con funzionalità di gestione dei progetti.\n",
    "\n",
    "Assenza di funzionalità di editing avanzate: L'interprete di base non offre funzionalità di editing avanzate come il completamento automatico del codice, l'evidenziazione della sintassi e la refactoring. Queste funzionalità possono migliorare significativamente la produttività e ridurre gli errori.\n",
    "\n"
   ]
  },
  {
   "cell_type": "markdown",
   "metadata": {},
   "source": [
    "## IPython"
   ]
  },
  {
   "cell_type": "markdown",
   "metadata": {},
   "source": [
    "IPython è una shell interattiva che risolve i limiti dell'interprete Python standard ed è un cavallo di battaglia per l'uso scientifico di Python. Fornisce un prompt interattivo all'interprete Python con una facilità d'uso notevolmente migliorata.\n",
    "\n",
    "<!-- <img src=\"files/images/ipython-screenshot.jpg\" width=\"600\"> -->\n",
    "<img src=\"ipython_screenshot.jpg\" width=\"600\">\n",
    "\n",
    "Tra le funzioni utili di IPython ricordiamo:\n",
    "\n",
    "* Cronologia dei comandi, che può essere sfogliata con le frecce su e giù della tastiera.\n",
    "* Completamento automatico delle schede.\n",
    "* Modifica in linea del codice.\n",
    "* Introspezione degli oggetti ed estrazione automatica delle stringhe di documentazione da oggetti Python come classi e funzioni.\n",
    "* Buona interazione con la shell del sistema operativo.\n",
    "    - _% cd_  -> sposta la shell nella sua directory home (predefinita)\n",
    "    \n",
    "  \n",
    "    - _% pwd_ -> La console restituisce il percorso della directory corrente del computer\n",
    "    \n",
    "  \n",
    "    - _% cd_ .. ->  sposta la shell IPython nella directory superiore nell'albero delle directory\n",
    "    \n",
    "  \n",
    "    - _% ls_   -> la console elenca i nomi dei file e sottodirectory nella directory corrente\n"
   ]
  },
  {
   "cell_type": "markdown",
   "metadata": {},
   "source": [
    "## Jupyter"
   ]
  },
  {
   "cell_type": "markdown",
   "metadata": {},
   "source": [
    "[Jupyter notebook](https://jupyter.org/) È un ambiente notebook basato su HTML per Python, fornisce un ambiente basato su celle con una grande interattività, dove i calcoli possono essere organizzati e documentati in modo strutturato.\n",
    "\n",
    "\n",
    "Sebbene utilizzi un browser Web come interfaccia grafica, i notebook   vengono solitamente eseguiti localmente, dallo stesso computer che esegue il browser. Per avviare una nuova sessione notebook Jupyter Notebook, dopo aver lanciato Anaconda prompt, eseguire il comando seguente :\n",
    "\n",
    "  jupyter notebook\n",
    "\n",
    "da una directory in cui sono archiviati  i notebook. Verrà aperta una nuova finestra del browser (o una nuova scheda in una finestra esistente) con una pagina  da cui è possibile aprire notebook già esistenti oppure crearne di nuovi."
   ]
  },
  {
   "cell_type": "markdown",
   "metadata": {},
   "source": [
    "## Markdown"
   ]
  },
  {
   "cell_type": "markdown",
   "metadata": {},
   "source": [
    "Markdown è un linguaggio di markup leggero che può essere utilizzato per formattare testo, creare elenchi, aggiungere link e immagini, e altro ancora nei notebook Jupyter. Ecco alcune delle regole di base per la sintassi del Markdown in Jupyter:\n",
    "\n",
    "    Per il testo in grassetto: utilizzare due asterischi o due sottolineature : **testo in grassetto** o __testo in grassetto__.\n",
    "\n",
    "    Per il testo in corsivo: utilizzare un asterisco o una sottolineatura: *testo in corsivo* o _testo in corsivo_.\n",
    "\n",
    "    Per creare intestazioni: utilizzare il simbolo #. Ad esempio, # Intestazione di primo livello creerà un'intestazione di primo livello, mentre ## Intestazione di secondo livello creerà un'intestazione di secondo livello.\n",
    "\n",
    "    Liste: utilizzare il simbolo - o * per creare elenchi puntati e il numero seguito da un punto per creare elenchi numerati.\n",
    "    Link: utilizzare la sintassi [testo del link](URL del link) per creare un link. Ad esempio, [Link al sito di Jupyter](https://jupyter.org/) creerà un link al sito di Jupyter"
   ]
  },
  {
   "cell_type": "markdown",
   "metadata": {},
   "source": [
    "## JupyterLab"
   ]
  },
  {
   "cell_type": "markdown",
   "metadata": {},
   "source": [
    "[JupyterLab](https://jupyterlab.readthedocs.io/en/stable/)  ha una struttura modulare che consente agli utenti di personalizzare l'interfaccia utente in base alle proprie esigenze. È possibile organizzare i documenti, i terminali e altri strumenti in schede e aree di lavoro, creando un ambiente di sviluppo su misura.\n",
    "\n",
    "**Supporto per più notebook e altri documenti:** JupyterLab consente di lavorare contemporaneamente con più notebook, editor di testo, console e altri documenti. Questa funzionalità è particolarmente utile per progetti complessi che richiedono l'utilizzo di diversi strumenti contemporaneamente.\n",
    "\n",
    "**Integrazione con estensioni:** JupyterLab supporta un'ampia gamma di estensioni che consentono di aggiungere nuove funzionalità e strumenti all'ambiente di sviluppo. È possibile trovare estensioni per la visualizzazione dei dati, il debug, la gestione dei progetti e molto altro.\n",
    "\n",
    "**Compatibilità con Jupyter Notebook:** JupyterLab è completamente compatibile con i notebook Jupyter esistenti. È possibile aprire e modificare i notebook creati con Jupyter Notebook in JupyterLab senza problemi.\n",
    "\n",
    "Per avviare una nuova sessione notebook Jupyter Notebook, eseguire, dopo aver lanciato Anaconda prompt, il comando seguente:\n",
    "\n",
    "     \n",
    "     jupyter-lab"
   ]
  },
  {
   "cell_type": "markdown",
   "metadata": {},
   "source": [
    "## Spyder"
   ]
  },
  {
   "cell_type": "markdown",
   "metadata": {},
   "source": [
    "[Spyder](http://code.google.com/p/spyderlib/) è un IDE simile a MATLAB per il calcolo scientifico con Python. Presenta i numerosi vantaggi di un ambiente IDE tradizionale, ad esempio che tutto, dalla modifica del codice, all'esecuzione e al debug, viene eseguito in un unico ambiente e il lavoro su diversi calcoli può essere organizzato come progetti nell'ambiente IDE.\n",
    "\n",
    "<!-- <img src=\"files/images/spyder-screenshot.jpg\" width=\"800\"> -->\n",
    "<img src=\"spyder_screenshot.png\" width=\"800\">\n",
    "\n",
    "Alcuni vantaggi di Spyder:\n",
    "\n",
    "* Potente editor di codice, con evidenziazione della sintassi, introspezione dinamica del codice e integrazione con il debugger Python.\n",
    "* Esplora variabili, prompt dei comandi IPython.\n",
    "* Documentazione e aiuto integrati."
   ]
  },
  {
   "cell_type": "markdown",
   "metadata": {},
   "source": [
    "## Installazione"
   ]
  },
  {
   "cell_type": "markdown",
   "metadata": {},
   "source": [
    "### Conda"
   ]
  },
  {
   "cell_type": "raw",
   "metadata": {},
   "source": [
    "Durante questo corso utilizzeremo la **Anaconda Individual Distribution di Python** che include diversi pacchetti utili per il calcolo scientifico e l'analisi di dati. Scaricabile direttamente dal sito (https://www.anaconda.com/products/individual). La versione di Pyhton installata è la 3.12.4."
   ]
  },
  {
   "cell_type": "markdown",
   "metadata": {},
   "source": [
    "<img src=\"Anaconda_Navigator.png\" width=\"800\">"
   ]
  },
  {
   "cell_type": "markdown",
   "metadata": {},
   "source": [
    "## Indentazione\n",
    "A differenza di altri linguaggi che delimitano blocchi di codice con parentesi graffe (come C, C++ e Java) o con parole riservate come begin /end, Python usa l' **indentazione** .\n",
    "Questa scelta ha diversi aspetti positivi, tra cui:\n",
    "\n",
    "- il linguaggio risulta più chiaro e leggibile;\n",
    "\n",
    " - la struttura del programma coincide sempre con quella dell’indentazione;\n",
    "\n",
    "- lo stile di indentazione è necessariamente uniforme in qualsiasi listato.\n",
    "\n",
    "Questo significa che, in Python, l’indentazione è significativa, e che indentare in modo scorretto può portare a comportamenti sbagliati del programma o a errori."
   ]
  },
  {
   "cell_type": "markdown",
   "metadata": {},
   "source": [
    "## Convenzioni\n",
    " La Python Software Foundation ha reso disponibile un documento chiamato PEP 8 (acronimo che sta per Python Enhancement Proposal ), che raccoglie diverse convenzioni e linee guida.\n",
    "La PEP 8 include anche una sezione sull’indentazione , che suggerisce tra le altre cose\n",
    "- usare sempre 4 spazi per livello di indentazione;\n",
    "- evitare l’uso dei caratteri di tabulazione;\n",
    "- non mischiare mai l’uso di tabulazioni e spazi.\n",
    "Anche se la PEP 8 suggerisce di seguire queste convenzioni, è possibile (sebbene fortemente sconsigliato) usare tab o un numero diverso di spazi. Fintanto che i livelli di indentazione sono consistenti, il programma comunque funzionerà.\n",
    "Ci sono tuttavia alcune eccezioni. Se si lavora su codice che usa una convenzione diversa, è meglio adeguarsi ad essa o, in alternativa, adattare tutto il codice esistente alla PEP 8. Inoltre, è comunque possibile (e talvolta consigliato) usare più o meno spazi per allineare elementi all’interno di una lista, o argomenti all’interno di una chiamata a funzione."
   ]
  },
  {
   "cell_type": "code",
   "execution_count": 2,
   "metadata": {
    "vscode": {
     "languageId": "python"
    }
   },
   "outputs": [
    {
     "data": {
      "text/plain": [
       "3"
      ]
     },
     "execution_count": 2,
     "metadata": {},
     "output_type": "execute_result"
    }
   ],
   "source": [
    "a = 1 \n",
    "b = 2\n",
    "a + b"
   ]
  },
  {
   "cell_type": "code",
   "execution_count": null,
   "metadata": {
    "vscode": {
     "languageId": "python"
    }
   },
   "outputs": [],
   "source": []
  }
 ],
 "metadata": {
  "kernelspec": {
   "display_name": "Python 3 (ipykernel)",
   "language": "python",
   "name": "python3"
  }
 },
 "nbformat": 4,
 "nbformat_minor": 4
}
