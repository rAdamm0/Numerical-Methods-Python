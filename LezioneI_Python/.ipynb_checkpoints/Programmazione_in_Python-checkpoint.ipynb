{
 "cells": [
  {
   "cell_type": "markdown",
   "metadata": {},
   "source": [
    "# Introduzione alla programmazione in Pyton"
   ]
  },
  {
   "cell_type": "markdown",
   "metadata": {},
   "source": [
    " "
   ]
  },
  {
   "cell_type": "markdown",
   "metadata": {},
   "source": [
    "## Python: file "
   ]
  },
  {
   "cell_type": "markdown",
   "metadata": {},
   "source": [
    "* Il codice Python è solitamente memorizzato in file di testo con il file che termina con \"`.py`\":\n",
    "\n",
    "         myprogram.py\n",
    "\n",
    "* Si presume che ogni riga in un file di programma Python sia un'istruzione Python o parte di essa.\n",
    "\n",
    "     * L'unica eccezione sono le righe di commento, che iniziano con il carattere `#` (facoltativamente preceduto da un numero arbitrario di spazi bianchi, ad esempio tabulazioni o spazi). Le righe di commento vengono generalmente ignorate dall'interprete Python.\n",
    "\n",
    "Per commenti su pià righe si usa  ''' prima dell'inizio delle righe di commento e dopo.\n"
   ]
  },
  {
   "cell_type": "code",
   "execution_count": null,
   "metadata": {
    "tags": []
   },
   "outputs": [],
   "source": [
    "'''\n",
    "Questi sono commenti su \n",
    "più linee...\n",
    "'''\n",
    "a=4"
   ]
  },
  {
   "cell_type": "markdown",
   "metadata": {},
   "source": [
    "## Moduli"
   ]
  },
  {
   "cell_type": "markdown",
   "metadata": {},
   "source": [
    "La maggior parte delle funzionalità in Python è fornita da *moduli*. La Python Standard Library è una vasta raccolta di moduli che fornisce implementazioni *multipiattaforma* di funzionalità comuni come l'accesso al sistema operativo, l'I/O di file, la gestione delle stringhe, la comunicazione di rete e molto altro."
   ]
  },
  {
   "cell_type": "code",
   "execution_count": null,
   "metadata": {
    "collapsed": false,
    "jupyter": {
     "outputs_hidden": false
    },
    "tags": []
   },
   "outputs": [],
   "source": [
    "import math"
   ]
  },
  {
   "cell_type": "markdown",
   "metadata": {},
   "source": [
    "Questo include l'intero modulo e lo rende disponibile per l'uso successivo nel programma. Ad esempio:"
   ]
  },
  {
   "cell_type": "code",
   "execution_count": null,
   "metadata": {
    "collapsed": false,
    "jupyter": {
     "outputs_hidden": false
    },
    "tags": []
   },
   "outputs": [],
   "source": [
    "import math\n",
    "\n",
    "x = math.cos(2 * math.pi)\n",
    "\n",
    "print(x)"
   ]
  },
  {
   "cell_type": "markdown",
   "metadata": {},
   "source": [
    "In alternativa, possiamo scegliere di importare tutti i simboli (funzioni e variabili) in un modulo nello spazio dei nomi corrente (in modo da non dover usare il prefisso \"`math.`\" ogni volta che usiamo qualcosa dal modulo `math` :"
   ]
  },
  {
   "cell_type": "code",
   "execution_count": null,
   "metadata": {
    "collapsed": false,
    "jupyter": {
     "outputs_hidden": false
    },
    "tags": []
   },
   "outputs": [],
   "source": [
    "from math import *\n",
    "\n",
    "x = cos(2 * pi)\n",
    "\n",
    "print(x)"
   ]
  },
  {
   "cell_type": "markdown",
   "metadata": {},
   "source": [
    "Questo schema può essere molto comodo, ma in programmi di grandi dimensioni che includono molti moduli è spesso una buona idea mantenere i simboli di ciascun modulo nei propri spazi dei nomi, utilizzando lo schema `import math`. Ciò eliminerebbe i problemi potenzialmente di  collisioni nello spazio dei nomi.\n",
    "\n",
    "Come terza alternativa, possiamo scegliere di importare solo alcuni simboli selezionati da un modulo elencando esplicitamente quelli che vogliamo importare invece di usare il carattere jolly `*`:"
   ]
  },
  {
   "cell_type": "code",
   "execution_count": null,
   "metadata": {
    "collapsed": false,
    "jupyter": {
     "outputs_hidden": false
    },
    "tags": []
   },
   "outputs": [],
   "source": [
    "from math import cos, pi\n",
    "\n",
    "x = cos(2 * pi)\n",
    "\n",
    "print(x)"
   ]
  },
  {
   "cell_type": "markdown",
   "metadata": {},
   "source": [
    "###   Analizzare il contenuto di un modulo e la sua documentazione"
   ]
  },
  {
   "cell_type": "markdown",
   "metadata": {},
   "source": [
    "Una volta importato un modulo, possiamo elencare i simboli che fornisce usando la funzione `dir`:"
   ]
  },
  {
   "cell_type": "code",
   "execution_count": null,
   "metadata": {
    "collapsed": false,
    "jupyter": {
     "outputs_hidden": false
    },
    "tags": []
   },
   "outputs": [],
   "source": [
    "import math\n",
    "\n",
    "print(dir(math))"
   ]
  },
  {
   "cell_type": "markdown",
   "metadata": {},
   "source": [
    "E usando la funzione `help` possiamo ottenere una descrizione di quasi ogni funzione."
   ]
  },
  {
   "cell_type": "code",
   "execution_count": null,
   "metadata": {
    "collapsed": false,
    "jupyter": {
     "outputs_hidden": false
    },
    "tags": []
   },
   "outputs": [],
   "source": [
    "help(math.log)"
   ]
  },
  {
   "cell_type": "code",
   "execution_count": null,
   "metadata": {
    "collapsed": false,
    "jupyter": {
     "outputs_hidden": false
    },
    "tags": []
   },
   "outputs": [],
   "source": [
    "math.log(10)"
   ]
  },
  {
   "cell_type": "code",
   "execution_count": null,
   "metadata": {
    "collapsed": false,
    "jupyter": {
     "outputs_hidden": false
    },
    "tags": []
   },
   "outputs": [],
   "source": [
    "math.log(10, 10)"
   ]
  },
  {
   "cell_type": "markdown",
   "metadata": {},
   "source": [
    "Alcuni moduli molto utili della libreria standard di Python sono `os`, `sys`, `math`"
   ]
  },
  {
   "cell_type": "markdown",
   "metadata": {},
   "source": [
    "<img src=\"var_tipi.png\" width=\"600\">"
   ]
  },
  {
   "cell_type": "markdown",
   "metadata": {},
   "source": [
    "## Variabili e tipi\n",
    "Python dispone di due tipologie di dato:\n",
    "- dati semplici\n",
    "    - int\n",
    "    - float\n",
    "    - complex\n",
    "    - booleani\n",
    "    - string\n",
    "- contenitori\n",
    "    - tuple ()\n",
    "    - list  []\n",
    "    - dict {} \n",
    "    - set {}"
   ]
  },
  {
   "cell_type": "markdown",
   "metadata": {},
   "source": [
    "I numeri, le stringhe, le liste, i dizionari, le funzioni e ed i moduli sono oggetti.\n",
    "\n"
   ]
  },
  {
   "cell_type": "markdown",
   "metadata": {},
   "source": [
    "<img src=\"oggetti.png\" width=\"600\">"
   ]
  },
  {
   "cell_type": "markdown",
   "metadata": {},
   "source": [
    "Ognuna di queste entità in Python ha:\n",
    "\n",
    "**Un'identità:** Un identificatore univoco che la distingue da qualsiasi altro oggetto. Per ottenere l'identità di un oggetto si usa la funzione id().\n",
    "\n",
    "**Un tipo:** Un tipo che definisce quali operazioni possono essere eseguite sull'oggetto e quali valori può contenere. Per ottenere il tipo di un oggetto usa la  la funzione type().\n",
    "\n",
    "**Un valore:** Il valore effettivo contenuto nell'oggetto."
   ]
  },
  {
   "cell_type": "markdown",
   "metadata": {},
   "source": [
    "<img src=\"oggetti1.png\" width=\"600\">"
   ]
  },
  {
   "cell_type": "markdown",
   "metadata": {},
   "source": [
    "Python rappresenta i numeri in *base binaria* utilizzando la *doppia precisione* .\n",
    "Ciascun numero è memorizzato in un campo da 64 bit di cui:\n",
    "- 1 bit identifica il segno (+ o -);\n",
    "- 52 bit sono dedicati alla memorizzazione della mantissa. ( Ciò corrisponde, in base 10, a circa 16 cifre\n",
    "  significative)\n",
    "- 11 bit sono dedicati alla memorizzazione dell’esponente.\n",
    "\n",
    "<img src=\"RappresentazioneNumeri.png\" width=\"500\">"
   ]
  },
  {
   "cell_type": "code",
   "execution_count": null,
   "metadata": {
    "tags": []
   },
   "outputs": [],
   "source": [
    "import sys\n",
    "sys.float_info   #Informazioni sul sistema floating Point di Python\n"
   ]
  },
  {
   "cell_type": "markdown",
   "metadata": {},
   "source": [
    "## Integer\n",
    "In Python 3 , il valore di un intero non è limitato dal numero di bit e può espandersi fino al limite della memoria disponibile . "
   ]
  },
  {
   "cell_type": "markdown",
   "metadata": {},
   "source": [
    "## Float\n",
    "Il tipo float rappresenta numeri reali in doppia precisione.\n"
   ]
  },
  {
   "cell_type": "markdown",
   "metadata": {},
   "source": [
    "### Booleani\n",
    "In Python i valori *vero* e *falso* sono rispettivamente **True** e **False**, obbligatoriamente con la prima lettera maiuscola."
   ]
  },
  {
   "cell_type": "code",
   "execution_count": null,
   "metadata": {},
   "outputs": [],
   "source": []
  },
  {
   "cell_type": "markdown",
   "metadata": {},
   "source": [
    "# Complex\n",
    "il tipo complex rappresenta un tipo numerico complesso in doppia precisione.  Si accede alla parte reale ed alla parte immaginaria di un numero complesso mediante *.real* e *.imag*"
   ]
  },
  {
   "cell_type": "code",
   "execution_count": null,
   "metadata": {
    "tags": []
   },
   "outputs": [],
   "source": [
    "a= 5+2j   #con j si indica l'unità immaginaria"
   ]
  },
  {
   "cell_type": "code",
   "execution_count": null,
   "metadata": {
    "tags": []
   },
   "outputs": [],
   "source": [
    "print(a)"
   ]
  },
  {
   "cell_type": "code",
   "execution_count": null,
   "metadata": {
    "tags": []
   },
   "outputs": [],
   "source": [
    "a.real  #accede alla parte reale\n",
    "print(a.real)\n",
    "a.imag  #accede al coefficiente dell' immaginario\n",
    "print(a.imag)\n",
    "\n"
   ]
  },
  {
   "cell_type": "markdown",
   "metadata": {},
   "source": [
    "## Conversione di tipo\n",
    "Se un'operazione aritmetica (+,-,*) coinvolge numeri di tipi misti, i numeri vengono convertiti automaticamente in un tipo comune prima che l'operazione venga eseguita,  secondo la seguente regola di conversione implicita: int -> float -> complex"
   ]
  },
  {
   "cell_type": "code",
   "execution_count": null,
   "metadata": {
    "tags": []
   },
   "outputs": [],
   "source": [
    "a=1\n",
    "b=2.0\n",
    "c=4+5j\n",
    "d=a+b\n",
    "print(d)\n",
    "e=a+b+c\n",
    "print(e)"
   ]
  },
  {
   "cell_type": "markdown",
   "metadata": {},
   "source": [
    "Conversioni di tipo possono anche essere ottenute attraverso le seguenti funzioni:\n",
    "- ``int(a)``\t\tconverte _a_ in intero\n",
    "- ``float(a)``  \t\tconverte _a_ in floating point\n",
    "- ``complex(a)``               converte _a: nel complesso a + 0j\n",
    "- ``complex(a,b)``             converte nel  complesso  a + bj"
   ]
  },
  {
   "cell_type": "markdown",
   "metadata": {},
   "source": [
    "Conversione da float ad intero mediante la funzione int  viene fatta per troncamento e non per arrotondamento\n"
   ]
  },
  {
   "cell_type": "code",
   "execution_count": null,
   "metadata": {
    "tags": []
   },
   "outputs": [],
   "source": [
    "a=18.657\n",
    "c=int(a)\n",
    "print(c)"
   ]
  },
  {
   "cell_type": "markdown",
   "metadata": {},
   "source": [
    "### La conversione tra tipi nativi viene eseguita attraverso specifiche funzioni.\n",
    "\n",
    "Conversione da tipo stringa   a tipo numerico :  int(), float(), complex() \n",
    "\n",
    "Conversione da tipo numerico   a stringa: str()"
   ]
  },
  {
   "cell_type": "code",
   "execution_count": null,
   "metadata": {
    "tags": []
   },
   "outputs": [],
   "source": [
    "a='4.4'\n",
    "valore=float(a)\n",
    "print(valore)\n"
   ]
  },
  {
   "cell_type": "markdown",
   "metadata": {},
   "source": [
    "La funzione type() in Python restituisce il tipo di un oggetto, cioè a quale classe appartiene un determinato valore o variabile."
   ]
  },
  {
   "cell_type": "code",
   "execution_count": null,
   "metadata": {
    "tags": []
   },
   "outputs": [],
   "source": [
    "print(type(valore))"
   ]
  },
  {
   "cell_type": "code",
   "execution_count": null,
   "metadata": {
    "tags": []
   },
   "outputs": [],
   "source": [
    "a=4\n",
    "s=str(a)\n",
    "print(s)\n",
    "print(type(s))\n"
   ]
  },
  {
   "cell_type": "markdown",
   "metadata": {},
   "source": [
    "\n",
    "### Il Core Python supporta solo le seguenti funzioni matematiche:\n",
    "\n",
    "<img src=\"funzioni_mat_Python.png\" width=\"500\">"
   ]
  },
  {
   "cell_type": "code",
   "execution_count": null,
   "metadata": {},
   "outputs": [],
   "source": []
  },
  {
   "cell_type": "markdown",
   "metadata": {},
   "source": [
    "Per usare le funzioni contenute nel modulo math  è necessario importare il modulo. \n",
    "\n",
    "import math\n",
    "\n",
    "Oppure\n",
    "\n",
    " from math import *\t(importa tutte le funzioni)\n",
    "\n",
    " from math import sin, cos\t(importa le funzioni specifiche sin e  cos)"
   ]
  },
  {
   "cell_type": "markdown",
   "metadata": {},
   "source": [
    "### Assignment"
   ]
  },
  {
   "cell_type": "markdown",
   "metadata": {},
   "source": [
    "\n",
    "L'operatore di assegnamento  in Python è  `=`. Python è un linguaggio dinamicamente tipizzato, non è necessario specificare il tipo di una variabile quando si crea.\n",
    "\n",
    "Assegnare un valore ad una nuova variabile crea la variabile:"
   ]
  },
  {
   "cell_type": "code",
   "execution_count": null,
   "metadata": {
    "collapsed": false,
    "jupyter": {
     "outputs_hidden": false
    },
    "tags": []
   },
   "outputs": [],
   "source": [
    "x = 1.0\n",
    "my_variable = 12.2"
   ]
  },
  {
   "cell_type": "markdown",
   "metadata": {},
   "source": [
    "Anche se non esplicitamente specificato, una variabile ha un tipo ad essa associato. Il tipo è derivato dal valore che gli è stato assegnato."
   ]
  },
  {
   "cell_type": "code",
   "execution_count": null,
   "metadata": {
    "collapsed": false,
    "jupyter": {
     "outputs_hidden": false
    },
    "tags": []
   },
   "outputs": [],
   "source": [
    "type(x)  #Restituisce il tipo della variabile"
   ]
  },
  {
   "cell_type": "markdown",
   "metadata": {},
   "source": [
    "Se assegniamo un nuovo valore a una variabile, il suo tipo può cambiare."
   ]
  },
  {
   "cell_type": "code",
   "execution_count": null,
   "metadata": {
    "collapsed": false,
    "jupyter": {
     "outputs_hidden": false
    },
    "tags": []
   },
   "outputs": [],
   "source": [
    "x = 1"
   ]
  },
  {
   "cell_type": "code",
   "execution_count": null,
   "metadata": {
    "collapsed": false,
    "jupyter": {
     "outputs_hidden": false
    },
    "tags": []
   },
   "outputs": [],
   "source": [
    "type(x)"
   ]
  },
  {
   "cell_type": "markdown",
   "metadata": {},
   "source": [
    "<img src=\"operatori.png\" width=\"500\">"
   ]
  },
  {
   "cell_type": "markdown",
   "metadata": {},
   "source": [
    "## Operatori aritmetici\n",
    "Python supporta gli usuali operatori aritmetici:\n",
    "-  Addizione  +\n",
    "-  Sottrazione  -\n",
    "-  Moltiplicazione  *\n",
    "-  Divisione  /\n",
    "-  Divisione intera  //\n",
    "-  Elevamento a potenza **\n",
    "-  Resto della divisione %\n",
    "- Per gli operatori +, - \n",
    "\n",
    "    – Se entrambi gli operandi sono int , il risultato è int\n",
    "    \n",
    "    – Se uno degli operandi è float, il risultato è float\n",
    "- Per la divisione /\n",
    "\n",
    "    – Il risultato è sempre float\n",
    "- Per la divisione intera //\n",
    "\n",
    "    Il risultato ( int ) è la parte intera della divisione"
   ]
  },
  {
   "cell_type": "code",
   "execution_count": null,
   "metadata": {
    "collapsed": false,
    "jupyter": {
     "outputs_hidden": false
    },
    "tags": []
   },
   "outputs": [],
   "source": [
    "1 + 2, 1 - 2, 1 * 2, 1/2"
   ]
  },
  {
   "cell_type": "code",
   "execution_count": null,
   "metadata": {
    "collapsed": false,
    "jupyter": {
     "outputs_hidden": false
    },
    "tags": []
   },
   "outputs": [],
   "source": [
    "1.0 + 2.0, 1.0 - 2.0, 1.0 * 2.0, 1.0 / 2.0"
   ]
  },
  {
   "cell_type": "code",
   "execution_count": null,
   "metadata": {
    "collapsed": false,
    "jupyter": {
     "outputs_hidden": false
    },
    "tags": []
   },
   "outputs": [],
   "source": [
    "# Divisione intera tra due numeri float\n",
    "3.0 // 2.0"
   ]
  },
  {
   "cell_type": "code",
   "execution_count": null,
   "metadata": {
    "collapsed": false,
    "jupyter": {
     "outputs_hidden": false
    },
    "tags": []
   },
   "outputs": [],
   "source": [
    "# Elevamento a potenza\n",
    "2 ** 2"
   ]
  },
  {
   "cell_type": "markdown",
   "metadata": {},
   "source": [
    "* Operatori booleani  `and`, `not`, `or`. "
   ]
  },
  {
   "cell_type": "code",
   "execution_count": null,
   "metadata": {
    "collapsed": false,
    "jupyter": {
     "outputs_hidden": false
    },
    "tags": []
   },
   "outputs": [],
   "source": [
    "True and False"
   ]
  },
  {
   "cell_type": "code",
   "execution_count": null,
   "metadata": {
    "collapsed": false,
    "jupyter": {
     "outputs_hidden": false
    },
    "tags": []
   },
   "outputs": [],
   "source": [
    "not False"
   ]
  },
  {
   "cell_type": "code",
   "execution_count": null,
   "metadata": {
    "collapsed": false,
    "jupyter": {
     "outputs_hidden": false
    },
    "tags": []
   },
   "outputs": [],
   "source": [
    "True or False"
   ]
  },
  {
   "cell_type": "markdown",
   "metadata": {},
   "source": [
    "* Operatori di confronto `>`, `<`, `>=` (maggiore o uguale), `<=` (minore o uguale), `==` ugualianza logica, `!=` diverso"
   ]
  },
  {
   "cell_type": "code",
   "execution_count": null,
   "metadata": {
    "collapsed": false,
    "jupyter": {
     "outputs_hidden": false
    },
    "tags": []
   },
   "outputs": [],
   "source": [
    "2 > 1"
   ]
  },
  {
   "cell_type": "code",
   "execution_count": null,
   "metadata": {
    "tags": []
   },
   "outputs": [],
   "source": [
    "2 < 1"
   ]
  },
  {
   "cell_type": "code",
   "execution_count": null,
   "metadata": {
    "collapsed": false,
    "jupyter": {
     "outputs_hidden": false
    },
    "tags": []
   },
   "outputs": [],
   "source": [
    "2 > 2"
   ]
  },
  {
   "cell_type": "code",
   "execution_count": null,
   "metadata": {
    "collapsed": false,
    "jupyter": {
     "outputs_hidden": false
    },
    "tags": []
   },
   "outputs": [],
   "source": [
    "2 >= 2"
   ]
  },
  {
   "cell_type": "code",
   "execution_count": null,
   "metadata": {
    "collapsed": false,
    "jupyter": {
     "outputs_hidden": false
    },
    "tags": []
   },
   "outputs": [],
   "source": [
    "# Uguaglianza logica\n",
    "a=2\n",
    "b=2\n",
    "a==b"
   ]
  },
  {
   "cell_type": "code",
   "execution_count": null,
   "metadata": {
    "collapsed": false,
    "jupyter": {
     "outputs_hidden": false
    },
    "tags": []
   },
   "outputs": [],
   "source": [
    "c=4\n",
    "d=6\n",
    "c!=d"
   ]
  },
  {
   "cell_type": "markdown",
   "metadata": {},
   "source": []
  },
  {
   "cell_type": "markdown",
   "metadata": {},
   "source": []
  },
  {
   "cell_type": "markdown",
   "metadata": {},
   "source": []
  },
  {
   "cell_type": "markdown",
   "metadata": {},
   "source": [
    "\n",
    "<img src=\"Mutabili_immut.png\" width=\"500\">"
   ]
  },
  {
   "cell_type": "markdown",
   "metadata": {},
   "source": [
    "In Python, le strutture dati si dividono in due categorie principali: **mutabili e immutabili**. \n",
    "\n",
    "**Mutabilità**\n",
    "\n",
    "Un oggetto mutabile può essere modificato dopo la sua creazione, è possibile, infatti,  cambiare il suo valore, aggiungere o rimuovere elementi, senza dover creare un nuovo oggetto.\n",
    "\n",
    "**Strutture dati mutabili in Python:** liste, dizionari, set.\n",
    "\n",
    "\n",
    "**Immutabilità**\n",
    "\n",
    "Un oggetto immutabile non può essere modificato dopo la sua creazione. Qualsiasi operazione che sembra modificare un oggetto immutabile in realtà crea un nuovo oggetto con le modifiche.\n",
    "**Strutture dati immutabili in Python:** numeri, tuple, stringhe.\n",
    "\n",
    "    Attenzione:  Se un oggetto mutabile viene passato a una funzione e la funzione lo modifica, queste modifiche saranno visibili anche al di fuori della funzione.\n"
   ]
  },
  {
   "cell_type": "markdown",
   "metadata": {},
   "source": [
    "In Python, le modifiche **\"in-place\"** si riferiscono alla capacità di alcune operazioni di modificare direttamente un oggetto esistente in memoria, anziché crearne uno nuovo con le modifiche.\n"
   ]
  },
  {
   "cell_type": "markdown",
   "metadata": {},
   "source": [
    "<img src=\"Mod_place1.png\" width=\"500\">"
   ]
  },
  {
   "cell_type": "markdown",
   "metadata": {},
   "source": [
    "<img src=\"Mod_place2.png\" width=\"500\">"
   ]
  },
  {
   "cell_type": "markdown",
   "metadata": {},
   "source": [
    "\n",
    "\n"
   ]
  },
  {
   "cell_type": "markdown",
   "metadata": {},
   "source": [
    "### Stringhe"
   ]
  },
  {
   "cell_type": "markdown",
   "metadata": {},
   "source": [
    "Le stringhe sono il tipo di variabile utilizzato per memorizzare i messaggi di testo. "
   ]
  },
  {
   "cell_type": "markdown",
   "metadata": {},
   "source": [
    "Le stringhe sono **immutabili**. Qualsiasi operazione su una stringa (come la concatenazione o la sostituzione) crea una nuova stringa.\n",
    " \n"
   ]
  },
  {
   "cell_type": "code",
   "execution_count": null,
   "metadata": {
    "collapsed": false,
    "jupyter": {
     "outputs_hidden": false
    },
    "tags": []
   },
   "outputs": [],
   "source": [
    "s = \"Hello world\"\n",
    "type(s)"
   ]
  },
  {
   "cell_type": "code",
   "execution_count": null,
   "metadata": {
    "collapsed": false,
    "jupyter": {
     "outputs_hidden": false
    },
    "tags": []
   },
   "outputs": [],
   "source": [
    "# Lunghezza di una stringa: il numero di caratteri che la compongono\n",
    "len(s)"
   ]
  },
  {
   "cell_type": "markdown",
   "metadata": {},
   "source": [
    "Per accedere ad un elemento di una stringa si usa la notazione []"
   ]
  },
  {
   "cell_type": "code",
   "execution_count": null,
   "metadata": {
    "tags": []
   },
   "outputs": [],
   "source": [
    "s[0]"
   ]
  },
  {
   "cell_type": "markdown",
   "metadata": {},
   "source": [
    "I singoli caratteri di una stringa **non possono essere modificati** in-place con una dichiarazione di assegnazione\n"
   ]
  },
  {
   "cell_type": "code",
   "execution_count": null,
   "metadata": {
    "tags": []
   },
   "outputs": [],
   "source": [
    "# s[0]='a'  da errore"
   ]
  },
  {
   "cell_type": "markdown",
   "metadata": {},
   "source": [
    "Attenzione: quando si usano i metodi che alterano le  stringhe(ad es. capitalize,upper,center, etc) , viene creata un’altra stringa a cui vengono applicati gli effetti del metodo invocato, in quanto le stringhe non possono essere modificate in-place.\n"
   ]
  },
  {
   "cell_type": "code",
   "execution_count": null,
   "metadata": {
    "tags": []
   },
   "outputs": [],
   "source": [
    "s = 'hello'\n",
    "print('Capitalize',s.capitalize()) # Rende il primo carattere maiuscolo e il resto minuscolo; \n",
    "                      # stampa \"Hello\"\n",
    "print(\"stringa s\",s) #s rimane inalterata\n",
    "print(\"Maiuscolo\",s.upper())      # Converte una stringa in maiuscolo;\n",
    "                      # stampa \"HELLO\"\n",
    "print('Giustificato',s.rjust(7))     # Giustifica a destra, aggiungendo spazi;\n",
    "                      # stampa \"  hello\"\n",
    "print(\"Centrata\",s.center(7))    # Centra una stringa, aggiungendo spazi;\n",
    "                      # stampa \" hello \"\n",
    "print(s.replace('l', '(ell)')) # Sostituisce le istanze di una sottostringa; \n",
    "                               # stampa \"he(ell)(ell)o\"\n",
    "print(' world '.strip())       # Elimina gli spazi a inizio e fine stringa;\n",
    "                               # stampa \"world\""
   ]
  },
  {
   "cell_type": "code",
   "execution_count": null,
   "metadata": {
    "collapsed": false,
    "jupyter": {
     "outputs_hidden": false
    },
    "tags": []
   },
   "outputs": [],
   "source": [
    "s=\"world\"\n",
    "# Sostituire una sottostringa con un'altra sottostringa\n",
    "print(s.replace(\"world\", \"test\"))\n",
    "print(s)\n",
    "s1='ciao'\n",
    "s1.capitalize()"
   ]
  },
  {
   "cell_type": "markdown",
   "metadata": {},
   "source": [
    "Lo **slicing** in Python è una tecnica potente che consente di estrarre porzioni di sequenze (come stringhe, liste, tuple) in modo conciso e flessibile.  È uno strumento fondamentale per la manipolazione dei dati in Python.\n",
    "\n",
    "\n",
    "Lo slicing utilizza la notazione a parentesi quadre [] con uno o due indici separati da due punti (:). La sintassi generale è la seguente:\n",
    "Python\n",
    "\n",
    "sequenza[start:stop:step]\n",
    "\n",
    "    start: L'indice di inizio della porzione (incluso). Se omesso, il valore predefinito è 0 (l'inizio della sequenza).\n",
    "    stop: L'indice di fine della porzione (escluso). Se omesso, il valore predefinito è la lunghezza della sequenza (fino alla fine).\n",
    "    step: Il passo (incremento) tra gli indici. Se omesso, il valore predefinito è 1 (ogni elemento).):"
   ]
  },
  {
   "cell_type": "code",
   "execution_count": null,
   "metadata": {
    "collapsed": false,
    "jupyter": {
     "outputs_hidden": false
    },
    "tags": []
   },
   "outputs": [],
   "source": [
    "s[0:5]"
   ]
  },
  {
   "cell_type": "code",
   "execution_count": null,
   "metadata": {
    "collapsed": false,
    "jupyter": {
     "outputs_hidden": false
    },
    "tags": []
   },
   "outputs": [],
   "source": [
    "s[4:5]"
   ]
  },
  {
   "cell_type": "markdown",
   "metadata": {},
   "source": [
    "Se omettiamo uno (o entrambi) di `start` o `stop` da `[start:stop]`, l'impostazione predefinita è rispettivamente l'inizio e la fine della stringa:"
   ]
  },
  {
   "cell_type": "code",
   "execution_count": null,
   "metadata": {
    "collapsed": false,
    "jupyter": {
     "outputs_hidden": false
    },
    "tags": []
   },
   "outputs": [],
   "source": [
    "s[:5]\n"
   ]
  },
  {
   "cell_type": "code",
   "execution_count": null,
   "metadata": {
    "collapsed": false,
    "jupyter": {
     "outputs_hidden": false
    },
    "tags": []
   },
   "outputs": [],
   "source": [
    "s[6:]"
   ]
  },
  {
   "cell_type": "code",
   "execution_count": null,
   "metadata": {
    "collapsed": false,
    "jupyter": {
     "outputs_hidden": false
    },
    "tags": []
   },
   "outputs": [],
   "source": [
    "s[:]"
   ]
  },
  {
   "cell_type": "markdown",
   "metadata": {},
   "source": [
    "Possiamo anche definire la dimensione del passo usando la sintassi [start:end:step] (il valore predefinito per step è 1, come abbiamo visto sopra): "
   ]
  },
  {
   "cell_type": "code",
   "execution_count": null,
   "metadata": {
    "collapsed": false,
    "jupyter": {
     "outputs_hidden": false
    },
    "tags": []
   },
   "outputs": [],
   "source": [
    "s[::1]"
   ]
  },
  {
   "cell_type": "code",
   "execution_count": null,
   "metadata": {
    "collapsed": false,
    "jupyter": {
     "outputs_hidden": false
    },
    "tags": []
   },
   "outputs": [],
   "source": [
    "s[::2]"
   ]
  },
  {
   "cell_type": "code",
   "execution_count": null,
   "metadata": {
    "tags": []
   },
   "outputs": [],
   "source": [
    "s[-1]  #Restituisce l'ultimo valore della stringa"
   ]
  },
  {
   "cell_type": "code",
   "execution_count": null,
   "metadata": {
    "tags": []
   },
   "outputs": [],
   "source": [
    "s[-2]  #Restituisce  il penultimo valore della stringa"
   ]
  },
  {
   "cell_type": "markdown",
   "metadata": {},
   "source": [
    "#### Concatenazione di stringhe"
   ]
  },
  {
   "cell_type": "code",
   "execution_count": null,
   "metadata": {
    "tags": []
   },
   "outputs": [],
   "source": [
    "str1=\"ciao \"\n",
    "str2=\" come stai\"\n",
    "str2=str1+str2"
   ]
  },
  {
   "cell_type": "code",
   "execution_count": null,
   "metadata": {
    "collapsed": false,
    "jupyter": {
     "outputs_hidden": false
    },
    "tags": []
   },
   "outputs": [],
   "source": [
    "print(str2) "
   ]
  },
  {
   "cell_type": "markdown",
   "metadata": {
    "jupyter": {
     "outputs_hidden": false
    }
   },
   "source": [
    " ### Ripetizione di stringhe"
   ]
  },
  {
   "cell_type": "code",
   "execution_count": null,
   "metadata": {
    "tags": []
   },
   "outputs": [],
   "source": [
    "str1*2"
   ]
  },
  {
   "cell_type": "markdown",
   "metadata": {},
   "source": [
    "### List"
   ]
  },
  {
   "cell_type": "markdown",
   "metadata": {},
   "source": [
    "Le liste sono sequenze ordinate **mutabili**, che possono essere formate da elementi di qualunque tipo\n",
    "\n",
    "La sintassi per creare liste  in Python è `[...]`:"
   ]
  },
  {
   "cell_type": "code",
   "execution_count": null,
   "metadata": {
    "collapsed": false,
    "jupyter": {
     "outputs_hidden": false
    },
    "tags": []
   },
   "outputs": [],
   "source": [
    "l = [1,2,3,4]\n",
    "\n",
    "print(type(l))\n",
    "print(l)"
   ]
  },
  {
   "cell_type": "markdown",
   "metadata": {},
   "source": [
    "E' possibile usare tecniche di slicing per  manipolare le liste come abbiamo fatto con le stringhe"
   ]
  },
  {
   "cell_type": "code",
   "execution_count": null,
   "metadata": {
    "collapsed": false,
    "jupyter": {
     "outputs_hidden": false
    },
    "tags": []
   },
   "outputs": [],
   "source": [
    "print(l)\n",
    "\n",
    "print(l[1:3])\n",
    "\n",
    "print(l[::2])"
   ]
  },
  {
   "cell_type": "code",
   "execution_count": null,
   "metadata": {
    "collapsed": false,
    "jupyter": {
     "outputs_hidden": false
    },
    "tags": []
   },
   "outputs": [],
   "source": [
    "l[0]"
   ]
  },
  {
   "cell_type": "markdown",
   "metadata": {},
   "source": [
    "Se si esegue un'operazione \"in-place\" sulla lista originale , come ad esempio ordinare gli elementi con il metodo sort(), la lista originale verrà modificata direttamente:\n"
   ]
  },
  {
   "cell_type": "code",
   "execution_count": null,
   "metadata": {
    "tags": []
   },
   "outputs": [],
   "source": [
    "numeri=[7,-6,4,-2,0,8]\n",
    "numeri.sort()\n",
    "print(numeri)"
   ]
  },
  {
   "cell_type": "markdown",
   "metadata": {},
   "source": [
    "Gli elementi di una lista possono non essere tutti dello stesso tipo"
   ]
  },
  {
   "cell_type": "code",
   "execution_count": null,
   "metadata": {
    "collapsed": false,
    "jupyter": {
     "outputs_hidden": false
    },
    "tags": []
   },
   "outputs": [],
   "source": [
    "l = [1, 'a', 1.0, 1-1j]\n",
    "\n",
    "print(l)"
   ]
  },
  {
   "cell_type": "markdown",
   "metadata": {},
   "source": [
    "Le liste in Python possono essere annidate. Esempio di una lista in cui ogni elemento è un'altra lista"
   ]
  },
  {
   "cell_type": "code",
   "execution_count": null,
   "metadata": {
    "collapsed": false,
    "jupyter": {
     "outputs_hidden": false
    },
    "tags": []
   },
   "outputs": [],
   "source": [
    "matrice = [[1,2,3],[4,5,6],[7,8,9]]\n",
    "\n",
    "matrice"
   ]
  },
  {
   "cell_type": "code",
   "execution_count": null,
   "metadata": {
    "tags": []
   },
   "outputs": [],
   "source": [
    "matrice[0]  #seleziona la lista 0-esima\n",
    "\n"
   ]
  },
  {
   "cell_type": "code",
   "execution_count": null,
   "metadata": {
    "tags": []
   },
   "outputs": [],
   "source": [
    "matrice[1]  #seleziona la lista 1-esima"
   ]
  },
  {
   "cell_type": "code",
   "execution_count": null,
   "metadata": {
    "tags": []
   },
   "outputs": [],
   "source": [
    "matrice[1][1]  #seleziona l'elemento 1 della lista 1"
   ]
  },
  {
   "cell_type": "markdown",
   "metadata": {},
   "source": [
    "Le liste giocano un ruolo molto importante in Python. Ad esempio, vengono utilizzati nei loop e in altre strutture di controllo del flusso (discusse di seguito). Esistono numerose funzioni utili per generare elenchi di vari tipi, ad esempio la funzione `range`:"
   ]
  },
  {
   "cell_type": "markdown",
   "metadata": {
    "jupyter": {
     "outputs_hidden": false
    }
   },
   "source": [
    "La funzione range() accetta fino a tre argomenti:\n",
    "\n",
    "    start (opzionale): il valore iniziale della sequenza. Se omesso, il valore predefinito è 0.\n",
    "    stop: il valore finale della sequenza (escluso). È obbligatorio.\n",
    "    step (opzionale): l'incremento tra i numeri della sequenza. Se omesso, il valore predefinito è 1."
   ]
  },
  {
   "cell_type": "code",
   "execution_count": null,
   "metadata": {
    "tags": []
   },
   "outputs": [],
   "source": [
    "start = 10\n",
    "stop = 30\n",
    "step = 2\n",
    "range(start, stop, step)"
   ]
  },
  {
   "cell_type": "code",
   "execution_count": null,
   "metadata": {
    "collapsed": false,
    "jupyter": {
     "outputs_hidden": false
    },
    "tags": []
   },
   "outputs": [],
   "source": [
    "# in python 3 range genera un iteratore, che può essere convertito in una lista usando 'list(...)'.\n",
    " \n",
    "list(range(start, stop, step))"
   ]
  },
  {
   "cell_type": "code",
   "execution_count": null,
   "metadata": {
    "collapsed": false,
    "jupyter": {
     "outputs_hidden": false
    },
    "tags": []
   },
   "outputs": [],
   "source": [
    "list(range(-10, 10))"
   ]
  },
  {
   "cell_type": "code",
   "execution_count": null,
   "metadata": {
    "collapsed": false,
    "jupyter": {
     "outputs_hidden": false
    },
    "tags": []
   },
   "outputs": [],
   "source": [
    "s='ciao'"
   ]
  },
  {
   "cell_type": "code",
   "execution_count": null,
   "metadata": {
    "collapsed": false,
    "jupyter": {
     "outputs_hidden": false
    },
    "tags": []
   },
   "outputs": [],
   "source": [
    "# converte una stringa in una lista\n",
    "s2 = list(s)\n",
    "\n",
    "s2"
   ]
  },
  {
   "cell_type": "code",
   "execution_count": null,
   "metadata": {
    "collapsed": false,
    "jupyter": {
     "outputs_hidden": false
    },
    "tags": []
   },
   "outputs": [],
   "source": [
    "# ordinare lists\n",
    "s2.sort()\n",
    "\n",
    "print(s2)"
   ]
  },
  {
   "cell_type": "markdown",
   "metadata": {},
   "source": [
    "#### Aggiungere, inserire, modificare, e rimuovere elementi da liste"
   ]
  },
  {
   "cell_type": "code",
   "execution_count": null,
   "metadata": {
    "collapsed": false,
    "jupyter": {
     "outputs_hidden": false
    },
    "tags": []
   },
   "outputs": [],
   "source": [
    "# Crea una lista vuota\n",
    "l = []\n",
    "\n",
    "# aaggiunge un elemento usando `append`\n",
    "l.append(1)\n",
    "l.append(2)\n",
    "l.append(3)\n",
    "\n",
    "print(l)"
   ]
  },
  {
   "cell_type": "markdown",
   "metadata": {},
   "source": [
    "Possiamo modificare le liste assegnado nuovi valori ad elementi nella lista. Le liste sono **mutabili** "
   ]
  },
  {
   "cell_type": "code",
   "execution_count": null,
   "metadata": {
    "collapsed": false,
    "jupyter": {
     "outputs_hidden": false
    },
    "tags": []
   },
   "outputs": [],
   "source": [
    "l[1] =5\n",
    "l[2] = 5\n",
    "\n",
    "print(l)"
   ]
  },
  {
   "cell_type": "code",
   "execution_count": null,
   "metadata": {
    "collapsed": false,
    "jupyter": {
     "outputs_hidden": false
    },
    "tags": []
   },
   "outputs": [],
   "source": [
    "l[1:3] = [2,4]\n",
    "\n",
    "print(l)"
   ]
  },
  {
   "cell_type": "markdown",
   "metadata": {},
   "source": [
    "Inserire un elemento in una posizione specificata da un indice usando `insert`"
   ]
  },
  {
   "cell_type": "code",
   "execution_count": null,
   "metadata": {
    "collapsed": false,
    "jupyter": {
     "outputs_hidden": false
    },
    "tags": []
   },
   "outputs": [],
   "source": [
    "l.insert(0, 5)\n",
    "l.insert(1, 6)\n",
    "l.insert(2, 7)\n",
    "l.insert(3, 8)\n",
    "l.insert(4, 9)\n",
    "l.insert(5, 10)\n",
    "\n",
    "print(l)"
   ]
  },
  {
   "cell_type": "markdown",
   "metadata": {},
   "source": [
    "Rimuovere il primo elemento che ha uno specifico valore usando 'remove'"
   ]
  },
  {
   "cell_type": "code",
   "execution_count": null,
   "metadata": {
    "collapsed": false,
    "jupyter": {
     "outputs_hidden": false
    },
    "tags": []
   },
   "outputs": [],
   "source": [
    "l.remove(1)\n",
    "\n",
    "print(l)"
   ]
  },
  {
   "cell_type": "markdown",
   "metadata": {},
   "source": [
    "Rimuovere un elemento in una specifica posizione usando  `del`:"
   ]
  },
  {
   "cell_type": "code",
   "execution_count": null,
   "metadata": {
    "collapsed": false,
    "jupyter": {
     "outputs_hidden": false
    },
    "tags": []
   },
   "outputs": [],
   "source": [
    "del l[7]\n",
    "del l[6]\n",
    "\n",
    "print(l)"
   ]
  },
  {
   "cell_type": "markdown",
   "metadata": {},
   "source": []
  },
  {
   "cell_type": "markdown",
   "metadata": {},
   "source": [
    "L'operatore + è il metodo più semplice per **concatenare** due liste. Crea una nuova lista che contiene tutti gli elementi della prima lista seguiti da tutti gli elementi della seconda lista, creando un nuovo oggetto"
   ]
  },
  {
   "cell_type": "code",
   "execution_count": null,
   "metadata": {
    "tags": []
   },
   "outputs": [],
   "source": [
    "p1=[2,3,4,5]\n",
    "p2=[6,7,8,9]\n",
    "lista_concatenata=p1+p2\n",
    "print(lista_concatenata)"
   ]
  },
  {
   "cell_type": "markdown",
   "metadata": {},
   "source": [
    "L'operatore * è il metodo più semplice per creare una nuova lista che contiene gli elementi della lista originale **ripetuti k volte**, creando un altro oggetto."
   ]
  },
  {
   "cell_type": "code",
   "execution_count": null,
   "metadata": {
    "tags": []
   },
   "outputs": [],
   "source": [
    "p_replicata=p1*3\n",
    "print(p_replicata)"
   ]
  },
  {
   "cell_type": "markdown",
   "metadata": {},
   "source": [
    "Consultare `help(list)` per maggiori dettagli"
   ]
  },
  {
   "cell_type": "markdown",
   "metadata": {},
   "source": [
    "### Nota sull' assegnazione di una lista ad una nuova variabile\n",
    "\n",
    "In Python, l'assegnazione di una lista a una nuova variabile non crea una copia indipendente, ma piuttosto un nuovo riferimento alla stessa lista in memoria. Questo significa che le modifiche apportate alla \"copia\" si rifletteranno anche sulla lista originale, e viceversa."
   ]
  },
  {
   "cell_type": "code",
   "execution_count": null,
   "metadata": {
    "tags": []
   },
   "outputs": [],
   "source": [
    "p = [3, '4','ciao']\n",
    "p.append(34)\n",
    "print('p =', p)\n",
    "d = p\n",
    "print('d =', d)\n",
    "d[3]= 90\n",
    "print('d =', d)\n",
    "print('p =', p)\n"
   ]
  },
  {
   "cell_type": "markdown",
   "metadata": {},
   "source": [
    "d ed p fanno riferimento allo stesso oggetto, quindi se modifico l’oggetto a cui si riferiscono entrambe, d e p subiscono la stessa modifica, anche se noi avremmo voluto che la modifica fosse apportata solo alla componente 3 di d.\n",
    "\n",
    "Per ovviare a questo inconveniente per fare una copia di una lista non usare l'assegnazione =, ma il metodo.copy()"
   ]
  },
  {
   "cell_type": "code",
   "execution_count": null,
   "metadata": {
    "tags": []
   },
   "outputs": [],
   "source": [
    "p = [3, '4','ciao']\n",
    "p.append(34)\n",
    "print('p =', p)\n",
    "d = p.copy()\n",
    "print('d =', d)\n",
    "d[3]= 90\n",
    "print('d =', d)\n",
    "print('p =', p)"
   ]
  },
  {
   "cell_type": "markdown",
   "metadata": {},
   "source": [
    "### Copy di liste annidate"
   ]
  },
  {
   "cell_type": "code",
   "execution_count": null,
   "metadata": {
    "tags": []
   },
   "outputs": [],
   "source": [
    "a=[[2,3],[4,5]];\n",
    "b=a.copy()\n",
    "b[0][1]=6\n",
    "print(\"b=\",b)\n",
    "print(\"a=\",a)\n"
   ]
  },
  {
   "cell_type": "code",
   "execution_count": null,
   "metadata": {
    "tags": []
   },
   "outputs": [],
   "source": [
    "import copy\n",
    "a=[[2,3],[4,5]];\n",
    "b=copy.deepcopy(a)\n",
    "b[0][1]=6\n",
    "print(\"b=\",b)\n",
    "print(\"a=\",a)"
   ]
  },
  {
   "cell_type": "markdown",
   "metadata": {},
   "source": [
    "### Tuple"
   ]
  },
  {
   "cell_type": "markdown",
   "metadata": {},
   "source": [
    "Le Tuple sono come le liste, eccetto che esse non possono essere modificate una volta create, sono **immutabili**. \n",
    "\n",
    "In Python, le tuple sono creando usando la sintassi  `(..., ..., ...)`, o anche  `..., ...`:"
   ]
  },
  {
   "cell_type": "code",
   "execution_count": null,
   "metadata": {
    "collapsed": false,
    "jupyter": {
     "outputs_hidden": false
    },
    "tags": []
   },
   "outputs": [],
   "source": [
    "point = (10, 20)\n",
    "\n",
    "print(point, type(point))"
   ]
  },
  {
   "cell_type": "code",
   "execution_count": null,
   "metadata": {
    "collapsed": false,
    "jupyter": {
     "outputs_hidden": false
    },
    "tags": []
   },
   "outputs": [],
   "source": [
    "point = 10, 20\n",
    "\n",
    "print(point, type(point))"
   ]
  },
  {
   "cell_type": "markdown",
   "metadata": {},
   "source": [
    "Possiamo spacchettare una tupla assegnandola a una lista di variabili separate da virgole"
   ]
  },
  {
   "cell_type": "code",
   "execution_count": null,
   "metadata": {
    "collapsed": false,
    "jupyter": {
     "outputs_hidden": false
    },
    "tags": []
   },
   "outputs": [],
   "source": [
    "x, y = point\n",
    "\n",
    "print(\"x =\", x)\n",
    "print(\"y =\", y)"
   ]
  },
  {
   "cell_type": "markdown",
   "metadata": {},
   "source": [
    "Se cerchiamo di assegnare un nuovo valore ad un elemento di una tupla avremo un errore:"
   ]
  },
  {
   "cell_type": "markdown",
   "metadata": {},
   "source": [
    "### Dizionari"
   ]
  },
  {
   "cell_type": "markdown",
   "metadata": {},
   "source": [
    "I dizionari sono oggetti mutabili, al contrario di tuple e stringhe che sono immutabili. Sono come le liste, eccetto che ogni elemento è una coppia chiave-valore. La sintassi per i dizionari è `{key1 : value1, ...}`:"
   ]
  },
  {
   "cell_type": "code",
   "execution_count": null,
   "metadata": {
    "tags": []
   },
   "outputs": [],
   "source": [
    "rubrica={}  #Inizializzo un dizionario vuoto\n",
    "rubrica={'Mario':23213,'Francesca':3423, 'Antonio':123131, 'Giada':32131}\n",
    "rubrica\n"
   ]
  },
  {
   "cell_type": "code",
   "execution_count": null,
   "metadata": {
    "tags": []
   },
   "outputs": [],
   "source": [
    "rubrica.keys()\n"
   ]
  },
  {
   "cell_type": "code",
   "execution_count": null,
   "metadata": {
    "tags": []
   },
   "outputs": [],
   "source": [
    "rubrica.values()"
   ]
  },
  {
   "cell_type": "code",
   "execution_count": null,
   "metadata": {
    "tags": []
   },
   "outputs": [],
   "source": [
    "rubrica.get ('Francesca')   #Restituisce il value corrispondente alla parola key Francesca\n"
   ]
  },
  {
   "cell_type": "code",
   "execution_count": null,
   "metadata": {
    "tags": []
   },
   "outputs": [],
   "source": [
    "rubrica['Antonio']\n"
   ]
  },
  {
   "cell_type": "markdown",
   "metadata": {},
   "source": [
    "### Set"
   ]
  },
  {
   "cell_type": "markdown",
   "metadata": {},
   "source": [
    "Un set in Python è una collezione **non ordinata di elementi univoci**. È una struttura dati mutabile, il che significa che è possibile aggiungere o rimuovere elementi dopo la sua creazione. Ecco alcune caratteristiche e usi chiave dei set:\n",
    "\n",
    "**Unicità**: i set contengono solo elementi univoci. Ciò significa che ogni elemento appare solo una volta nel set, anche se si aggiunge lo stesso elemento più volte.\n",
    "\n",
    "**Mutabilità:** I set sono mutabili, il che significa che è possibile modificarlo dopo la creazione usando metodi come add(), remove() e discard().\n",
    "\n",
    "**Non ordinati**: I set sono non ordinati. Ciò significa che gli elementi in un set non hanno un ordine specifico o un indice specifico per accedervi.\n"
   ]
  },
  {
   "cell_type": "markdown",
   "metadata": {},
   "source": [
    "Esempio:"
   ]
  },
  {
   "cell_type": "code",
   "execution_count": null,
   "metadata": {
    "tags": []
   },
   "outputs": [],
   "source": [
    "# Crea un set\n",
    "my_set = {1, 2, 3,4,4,6,6}  # I duplicati di 4 e 6 saranno rimossi\n",
    "print(my_set)"
   ]
  },
  {
   "cell_type": "code",
   "execution_count": null,
   "metadata": {
    "tags": []
   },
   "outputs": [],
   "source": [
    "# Aggiungi un elemento\n",
    "my_set.add(12)\n",
    "print(\"dopo l'aggiunta di 12\",my_set)   \n",
    "\n",
    "# Rimuovi un elemento\n",
    "my_set.remove(6)  # Genera un errore se l'elemento non viene trovato\n",
    "print(\"dopo la rimozione di 6 \", my_set)   \n",
    "\n",
    "# Elimina un elemento (non genera errori se non viene trovato)\n",
    "my_set.discard(8)\n",
    "print(my_set)   "
   ]
  },
  {
   "cell_type": "code",
   "execution_count": null,
   "metadata": {
    "tags": []
   },
   "outputs": [],
   "source": [
    "# Unione di due insiemi\n",
    "set1 = {1, 2, 3}\n",
    "set2 = {3, 4, 5}\n",
    "unione = set1 | set2\n",
    "print(unione)  # Output: {1, 2, 3, 4, 5}\n",
    "\n"
   ]
  },
  {
   "cell_type": "code",
   "execution_count": null,
   "metadata": {
    "tags": []
   },
   "outputs": [],
   "source": [
    "# Intersezione di due insiemi\n",
    "intersezione = set1 & set2\n",
    "print(intersezione)  # Output: {3}\n"
   ]
  },
  {
   "cell_type": "code",
   "execution_count": null,
   "metadata": {
    "tags": []
   },
   "outputs": [],
   "source": [
    "# Differenza tra due insiemi\n",
    "differenza = set1 - set2\n",
    "print(differenza)  # Output: {1, 2}\n"
   ]
  },
  {
   "cell_type": "code",
   "execution_count": null,
   "metadata": {
    "tags": []
   },
   "outputs": [],
   "source": [
    "\n",
    "# Controlla se un elemento è presente in un set\n",
    "if \"3\" in set1:\n",
    "    print(\"3 è presente nel set1\")\n",
    "\n"
   ]
  },
  {
   "cell_type": "code",
   "execution_count": null,
   "metadata": {
    "tags": []
   },
   "outputs": [],
   "source": [
    "# Aggiungi un elemento all'insieme\n",
    "set1.add(6)\n",
    "print(set1)  # Output: {1, 2, 3, 6}\n"
   ]
  },
  {
   "cell_type": "code",
   "execution_count": null,
   "metadata": {
    "tags": []
   },
   "outputs": [],
   "source": [
    "\n",
    "# Rimuovi un elemento dall'insieme\n",
    "set1.remove(2)\n",
    "print(set1)  # Output: {1, 3, 6}"
   ]
  },
  {
   "cell_type": "markdown",
   "metadata": {},
   "source": [
    "**Convertire un insieme in una lista**"
   ]
  },
  {
   "cell_type": "code",
   "execution_count": null,
   "metadata": {
    "tags": []
   },
   "outputs": [],
   "source": [
    "lista1=list(set1)\n",
    "print(lista1)"
   ]
  },
  {
   "cell_type": "markdown",
   "metadata": {},
   "source": [
    "## Gestione input ed output"
   ]
  },
  {
   "cell_type": "markdown",
   "metadata": {},
   "source": [
    "<img src=\"io.png\" width=\"500\">"
   ]
  },
  {
   "cell_type": "markdown",
   "metadata": {},
   "source": [
    "La funzione intrinseca per accettare l’input dell’utente è:  `input`\n",
    "La funzione input() legge l'input dell'utente dalla tastiera e lo interpreta come una sequenza di caratteri, che per Python è una stringa. Anche se l'utente dovesse inserire un numero, input() lo tratterà comunque come una stringa."
   ]
  },
  {
   "cell_type": "code",
   "execution_count": null,
   "metadata": {
    "tags": []
   },
   "outputs": [],
   "source": [
    "x=input('Inserisci un valore intero')\n"
   ]
  },
  {
   "cell_type": "code",
   "execution_count": null,
   "metadata": {
    "tags": []
   },
   "outputs": [],
   "source": [
    "print(x, type(x))\n",
    "\n"
   ]
  },
  {
   "cell_type": "markdown",
   "metadata": {},
   "source": [
    "Se si vuole l'input dell'utente come un numero intero o un numero decimale, bisogna convertirlo esplicitamente utilizzando le funzioni int() o float()."
   ]
  },
  {
   "cell_type": "code",
   "execution_count": null,
   "metadata": {
    "tags": []
   },
   "outputs": [],
   "source": [
    "eta=int(input('Eta'''))"
   ]
  },
  {
   "cell_type": "code",
   "execution_count": null,
   "metadata": {
    "tags": []
   },
   "outputs": [],
   "source": [
    "print(eta,type(eta))"
   ]
  },
  {
   "cell_type": "markdown",
   "metadata": {},
   "source": [
    "## Gestione Output"
   ]
  },
  {
   "cell_type": "code",
   "execution_count": null,
   "metadata": {
    "tags": []
   },
   "outputs": [],
   "source": [
    "a = 1234.56789\n",
    "b = [2, 4, 6, 8]\n",
    "print(a,b)\n"
   ]
  },
  {
   "cell_type": "code",
   "execution_count": null,
   "metadata": {
    "tags": []
   },
   "outputs": [],
   "source": [
    "print('a=',a,'\\n b=',b)"
   ]
  },
  {
   "cell_type": "code",
   "execution_count": null,
   "metadata": {
    "tags": []
   },
   "outputs": [],
   "source": [
    "a = 1234.56789\n",
    "b = [2, 4, 6, 8]\n",
    "c=6\n",
    "print('a=',a, '\\n b=',b)  #Per definizione print() aggiunge un carattere di nuova riga dopo l'output\n",
    "print('c=',c)  # c viene stampata sulla nuova riga"
   ]
  },
  {
   "cell_type": "code",
   "execution_count": null,
   "metadata": {
    "tags": []
   },
   "outputs": [],
   "source": [
    "a = 1234.56789\n",
    "b = [2, 4, 6, 8]\n",
    "c=6\n",
    "print('a=',a, '\\n b=',b, end='')  #end='' dice alla funzione print di non aggiungere un carattere di nuova riga alla fine dell'output.\n",
    "print(' c=',c) \n"
   ]
  },
  {
   "cell_type": "markdown",
   "metadata": {},
   "source": [
    "La forma più semplice per il formato di stampa e':\n",
    "\n",
    "-print('{: fmt1} {: fmt2} ...' .format (arg1, arg2, ...)\n",
    "- dove fmt1, fmt2, ... sono le specifiche di formato per arg1, arg2, ..., rispettivamente.\n",
    "\n",
    "\n",
    "- Le specifiche di formato tipicamente utilizzate sono\n",
    "    - wd     Intero\n",
    "    - w.df   Notazione in virgola mobile\n",
    "     - w.de   Notazione esponenziale\n",
    "-dove w è la larghezza del campo e d è il numero di cifre dopo il punto decimale."
   ]
  },
  {
   "cell_type": "code",
   "execution_count": null,
   "metadata": {
    "tags": []
   },
   "outputs": [],
   "source": [
    "a=100\n",
    "n=100\n",
    "c=12.6\n",
    "print('Valore di a ={:12.4e} Valore di n ={:6d}, Valore di c ={:5.2f}'.format(a,n,c))\n"
   ]
  },
  {
   "cell_type": "markdown",
   "metadata": {},
   "source": [
    "\n"
   ]
  },
  {
   "cell_type": "markdown",
   "metadata": {},
   "source": [
    "## Flussi di controllo"
   ]
  },
  {
   "cell_type": "markdown",
   "metadata": {},
   "source": [
    "### if, elif, else"
   ]
  },
  {
   "cell_type": "markdown",
   "metadata": {},
   "source": [
    "La sintassi di Python per l'esecuzione di codice sotto condizioni usa le  keywords `if`, `elif` (else if), `else`:"
   ]
  },
  {
   "cell_type": "code",
   "execution_count": null,
   "metadata": {
    "collapsed": false,
    "jupyter": {
     "outputs_hidden": false
    },
    "tags": []
   },
   "outputs": [],
   "source": [
    "statement1 = False\n",
    "statement2 = False\n",
    "\n",
    "if statement1:\n",
    "    print(\"statement1  True\")\n",
    "    \n",
    "elif statement2:\n",
    "    print(\"statement2  True\")\n",
    "    \n",
    "else:\n",
    "    print(\"statement1 e statement2   False\")"
   ]
  },
  {
   "cell_type": "markdown",
   "metadata": {},
   "source": [
    "Peculiarità del linguaggo Python: I blocchi di istruzioni da eseguire sono definti dal loro **livello di indentazione**. \n",
    "\n",
    "Confrontiamo con il codice equivalente in C:\n",
    "\n",
    "    if (statement1)\n",
    "    {\n",
    "        printf(\"statement1 is True\\n\");\n",
    "    }\n",
    "    else if (statement2)\n",
    "    {\n",
    "        printf(\"statement2 is True\\n\");\n",
    "    }\n",
    "    else\n",
    "    {\n",
    "        printf(\"statement1 and statement2 are False\\n\");\n",
    "    }\n",
    "\n",
    "In C i blocchi sono definiti dalle parentesi graffe che li racchiudono `{` e `}`. E il livello di indentazione (spazio bianco prima delle istruzioni del codice) non ha importanza (completamente facoltativo).\n",
    "\n",
    "Ma in Python, l'estensione di un blocco di codice è definita dal livello di indentazione (di solito una tabulazione o diciamo quattro spazi bianchi). Ciò significa che dobbiamo stare attenti a indentare correttamente il nostro codice, altrimenti otterremo errori di sintassi. "
   ]
  },
  {
   "cell_type": "markdown",
   "metadata": {},
   "source": [
    "#### Esempi:"
   ]
  },
  {
   "cell_type": "code",
   "execution_count": null,
   "metadata": {
    "collapsed": false,
    "jupyter": {
     "outputs_hidden": false
    },
    "tags": []
   },
   "outputs": [],
   "source": [
    "statement1 = statement2 = True\n",
    "\n",
    "if statement1:\n",
    "    if statement2:\n",
    "        print(\"entrambe statement1 e  statement2 sono True\")"
   ]
  },
  {
   "cell_type": "code",
   "execution_count": null,
   "metadata": {
    "collapsed": false,
    "jupyter": {
     "outputs_hidden": false
    },
    "tags": []
   },
   "outputs": [],
   "source": [
    "statement1 = False \n",
    "\n",
    "if statement1:\n",
    "    print(\"stampo se statement1 è  True\")\n",
    "    \n",
    "    print(\"Ancora dentro il  block if\")"
   ]
  },
  {
   "cell_type": "code",
   "execution_count": null,
   "metadata": {
    "collapsed": false,
    "jupyter": {
     "outputs_hidden": false
    },
    "tags": []
   },
   "outputs": [],
   "source": [
    "if statement1:\n",
    "    print(\"stampo se statement1 è  True\")\n",
    "    \n",
    "print(\"Adesso fuori del  block if\")"
   ]
  },
  {
   "cell_type": "markdown",
   "metadata": {},
   "source": [
    "## Loops"
   ]
  },
  {
   "cell_type": "markdown",
   "metadata": {},
   "source": [
    "<img src=\"loop.png\" width=\"500\">"
   ]
  },
  {
   "cell_type": "markdown",
   "metadata": {},
   "source": [
    "In Python, i loop possono essere programmati in diversi modi. Il più comune è il ciclo `for`, che viene utilizzato insieme a oggetti iterabili, come le liste. La sintassi di base è:"
   ]
  },
  {
   "cell_type": "markdown",
   "metadata": {},
   "source": [
    "### **`for` loops**:"
   ]
  },
  {
   "cell_type": "code",
   "execution_count": null,
   "metadata": {
    "collapsed": false,
    "jupyter": {
     "outputs_hidden": false
    },
    "tags": []
   },
   "outputs": [],
   "source": [
    "for x in [1,2,3]:\n",
    "    print(x)"
   ]
  },
  {
   "cell_type": "markdown",
   "metadata": {},
   "source": [
    "Il ciclo `for` itera sugli elementi della lista  fornita ed esegue il blocco  una volta per ogni elemento. Qualsiasi tipo di elenco può essere utilizzato nel ciclo `for`. Per esempio:"
   ]
  },
  {
   "cell_type": "code",
   "execution_count": null,
   "metadata": {
    "collapsed": false,
    "jupyter": {
     "outputs_hidden": false
    },
    "tags": []
   },
   "outputs": [],
   "source": [
    "for x in range(4): # per default range parte da 0\n",
    "    print(x)"
   ]
  },
  {
   "cell_type": "markdown",
   "metadata": {},
   "source": [
    "Nota: `range(4)` non include il 4"
   ]
  },
  {
   "cell_type": "code",
   "execution_count": null,
   "metadata": {
    "collapsed": false,
    "jupyter": {
     "outputs_hidden": false
    },
    "tags": []
   },
   "outputs": [],
   "source": [
    "for x in range(-3,3):\n",
    "    print(x)"
   ]
  },
  {
   "cell_type": "code",
   "execution_count": null,
   "metadata": {
    "collapsed": false,
    "jupyter": {
     "outputs_hidden": false
    },
    "tags": []
   },
   "outputs": [],
   "source": [
    "for word in [\"scientific\", \"computing\", \"with\", \"python\"]:\n",
    "    print(word)"
   ]
  },
  {
   "cell_type": "markdown",
   "metadata": {},
   "source": [
    "Per iterare sulla coppia chiave-valore di un dizionario:"
   ]
  },
  {
   "cell_type": "code",
   "execution_count": null,
   "metadata": {
    "collapsed": false,
    "jupyter": {
     "outputs_hidden": false
    },
    "tags": []
   },
   "outputs": [],
   "source": [
    "for key, value in rubrica.items():\n",
    "    print(key + \" = \" + str(value))"
   ]
  },
  {
   "cell_type": "markdown",
   "metadata": {},
   "source": [
    "A volte è utile avere accesso agli indici dei valori quando iteriamo su una lista.\n",
    "Per fare ciò si utilizza la funzione  `enumerate`:"
   ]
  },
  {
   "cell_type": "code",
   "execution_count": null,
   "metadata": {
    "collapsed": false,
    "jupyter": {
     "outputs_hidden": false
    },
    "tags": []
   },
   "outputs": [],
   "source": [
    "for idx, x in enumerate(range(-3,3)):\n",
    "    print(idx, x)"
   ]
  },
  {
   "cell_type": "markdown",
   "metadata": {},
   "source": [
    "### List comprehensions: creare liste usando loops  `for` :"
   ]
  },
  {
   "cell_type": "markdown",
   "metadata": {},
   "source": [
    "Un modo compatto e conveniente per inizializzare le liste:"
   ]
  },
  {
   "cell_type": "code",
   "execution_count": null,
   "metadata": {
    "collapsed": false,
    "jupyter": {
     "outputs_hidden": false
    },
    "tags": []
   },
   "outputs": [],
   "source": [
    "l1 = [x**2 for x in range(0,5)]\n",
    "\n",
    "print(l1)"
   ]
  },
  {
   "cell_type": "markdown",
   "metadata": {},
   "source": [
    "### `while` loops:"
   ]
  },
  {
   "cell_type": "code",
   "execution_count": null,
   "metadata": {
    "collapsed": false,
    "jupyter": {
     "outputs_hidden": false
    },
    "tags": []
   },
   "outputs": [],
   "source": [
    "i = 0\n",
    "\n",
    "while i < 5:\n",
    "    print(i)\n",
    "    \n",
    "    i = i + 1\n",
    "    \n",
    "print(\"done\")"
   ]
  },
  {
   "cell_type": "markdown",
   "metadata": {},
   "source": [
    "Notiamo che  the l'istruzione `print(\"fatto \")` non fa parte del corpo del `while` loop a causa dell'indentazione"
   ]
  },
  {
   "cell_type": "markdown",
   "metadata": {},
   "source": [
    "## Come si fa lo switch case in Python:\n",
    "\n",
    "Sebbene Python non abbia un equivalente diretto del classico \"switch case\" presente in altri linguaggi, \n",
    "dalla versione 3.10, è possibile utilizzare l'istruzione match-case per una soluzione più concisa ed elegante, ispirata alla funzionalità switch-case di altri linguaggi"
   ]
  },
  {
   "cell_type": "code",
   "execution_count": null,
   "metadata": {
    "tags": []
   },
   "outputs": [],
   "source": [
    "giorno = \"Giovedì\"\n",
    "\n",
    "match giorno:\n",
    "    case \"Lunedì\":\n",
    "        print(\"Inizio della settimana!\")\n",
    "    case \"Martedì\":\n",
    "        print(\"Secondo giorno della settimana!\")\n",
    "    case \"Mercoledì\":\n",
    "        print(\"Metà della settimana!\")\n",
    "    case other:\n",
    "        print(\"Fine settimana\")"
   ]
  },
  {
   "cell_type": "markdown",
   "metadata": {},
   "source": [
    "## Funzioni"
   ]
  },
  {
   "cell_type": "markdown",
   "metadata": {},
   "source": [
    "Una funzione in Python è definita usando la parola chiave `def`, seguita da un nome di funzione, parentesi `()` e due punti `:`. Il codice seguente, con un ulteriore livello di indentazione, è il corpo della funzione."
   ]
  },
  {
   "cell_type": "code",
   "execution_count": null,
   "metadata": {
    "collapsed": false,
    "jupyter": {
     "outputs_hidden": false
    },
    "tags": []
   },
   "outputs": [],
   "source": [
    "def func0():   \n",
    "    print(\"test\")"
   ]
  },
  {
   "cell_type": "code",
   "execution_count": null,
   "metadata": {
    "collapsed": false,
    "jupyter": {
     "outputs_hidden": false
    },
    "tags": []
   },
   "outputs": [],
   "source": [
    "func0()"
   ]
  },
  {
   "cell_type": "markdown",
   "metadata": {},
   "source": [
    "Facoltativamente, ma altamente raccomandato, è possibile  definire una cosiddetta \"docstring\", che è una descrizione dello scopo e del comportamento delle funzioni. La docstring deve seguire direttamente dopo la definizione della funzione, prima del codice nel corpo della funzione."
   ]
  },
  {
   "cell_type": "code",
   "execution_count": null,
   "metadata": {
    "collapsed": false,
    "jupyter": {
     "outputs_hidden": false
    },
    "tags": []
   },
   "outputs": [],
   "source": [
    "def func1(s):\n",
    "    \"\"\"\n",
    "    Questa funzione stampa una stringa e la sua lunghezza in caratteri \n",
    "    \"\"\"\n",
    "    \n",
    "    print(s + \" ha  \" + str(len(s)) + \" caratteri\")"
   ]
  },
  {
   "cell_type": "code",
   "execution_count": null,
   "metadata": {
    "collapsed": false,
    "jupyter": {
     "outputs_hidden": false
    },
    "tags": []
   },
   "outputs": [],
   "source": [
    "help(func1)"
   ]
  },
  {
   "cell_type": "code",
   "execution_count": null,
   "metadata": {
    "collapsed": false,
    "jupyter": {
     "outputs_hidden": false
    },
    "tags": []
   },
   "outputs": [],
   "source": [
    "func1(\"test\")"
   ]
  },
  {
   "cell_type": "markdown",
   "metadata": {},
   "source": [
    "Le funzioni che restituiscono un valore usano la parola chiave `return`:"
   ]
  },
  {
   "cell_type": "code",
   "execution_count": null,
   "metadata": {
    "collapsed": false,
    "jupyter": {
     "outputs_hidden": false
    },
    "tags": []
   },
   "outputs": [],
   "source": [
    "def square(x):\n",
    "    \"\"\"\n",
    "    Restituisce il quadrato di x.\n",
    "    \"\"\"\n",
    "    return x ** 2"
   ]
  },
  {
   "cell_type": "code",
   "execution_count": null,
   "metadata": {
    "collapsed": false,
    "jupyter": {
     "outputs_hidden": false
    },
    "tags": []
   },
   "outputs": [],
   "source": [
    "square(4)"
   ]
  },
  {
   "cell_type": "markdown",
   "metadata": {},
   "source": [
    "Possiamo far restituire più valori ad una funzione usando le tuple:"
   ]
  },
  {
   "cell_type": "code",
   "execution_count": null,
   "metadata": {
    "collapsed": false,
    "jupyter": {
     "outputs_hidden": false
    },
    "tags": []
   },
   "outputs": [],
   "source": [
    "def powers(x):\n",
    "    \"\"\"\n",
    "    Restituisce qualche potenza di x\n",
    "    \"\"\"\n",
    "    return x ** 2, x ** 3, x ** 4"
   ]
  },
  {
   "cell_type": "code",
   "execution_count": null,
   "metadata": {
    "collapsed": false,
    "jupyter": {
     "outputs_hidden": false
    },
    "tags": []
   },
   "outputs": [],
   "source": [
    "powers(3)"
   ]
  },
  {
   "cell_type": "code",
   "execution_count": null,
   "metadata": {
    "collapsed": false,
    "jupyter": {
     "outputs_hidden": false
    },
    "tags": []
   },
   "outputs": [],
   "source": [
    "x2, x3, x4 = powers(3)\n",
    "\n",
    "print(x3)"
   ]
  },
  {
   "cell_type": "markdown",
   "metadata": {},
   "source": [
    "### Argomenti di default e argomenti keywords"
   ]
  },
  {
   "cell_type": "markdown",
   "metadata": {},
   "source": [
    "Nella definizione di una funzione, possiamo dare valori predefiniti agli argomenti accettati dalla funzione:"
   ]
  },
  {
   "cell_type": "code",
   "execution_count": null,
   "metadata": {
    "collapsed": false,
    "jupyter": {
     "outputs_hidden": false
    },
    "tags": []
   },
   "outputs": [],
   "source": [
    "def myfunc(x, p=2, debug=False):\n",
    "    if debug:\n",
    "        print(\"valutazione di  myfunc per  x = \" + str(x) + \" usando esponente p = \" + str(p))\n",
    "    return x**p"
   ]
  },
  {
   "cell_type": "markdown",
   "metadata": {},
   "source": [
    "Se non forniamo un valore dell'argomento debug quando chiamiamo la funzione myfunc, il valore predefinito è fornito nella definizione della funzione:"
   ]
  },
  {
   "cell_type": "code",
   "execution_count": null,
   "metadata": {
    "collapsed": false,
    "jupyter": {
     "outputs_hidden": false
    },
    "tags": []
   },
   "outputs": [],
   "source": [
    "myfunc(5)"
   ]
  },
  {
   "cell_type": "code",
   "execution_count": null,
   "metadata": {
    "collapsed": false,
    "jupyter": {
     "outputs_hidden": false
    },
    "tags": []
   },
   "outputs": [],
   "source": [
    "myfunc(5, debug=True)"
   ]
  },
  {
   "cell_type": "markdown",
   "metadata": {},
   "source": [
    "Se elenchiamo esplicitamente il nome degli argomenti nella chiamata di funzione, non è necessario che vengano nello stesso ordine della definizione della funzione. Questo è chiamato argomento *keyword* ed è spesso molto utile nelle funzioni che accettano molti argomenti opzionali."
   ]
  },
  {
   "cell_type": "code",
   "execution_count": null,
   "metadata": {
    "collapsed": false,
    "jupyter": {
     "outputs_hidden": false
    },
    "tags": []
   },
   "outputs": [],
   "source": [
    "myfunc(p=3, debug=True, x=7)"
   ]
  },
  {
   "cell_type": "markdown",
   "metadata": {},
   "source": [
    "### Funzioni senza nome (funzione lambda)"
   ]
  },
  {
   "cell_type": "markdown",
   "metadata": {},
   "source": [
    "In Python possiamo anche creare funzioni senza nome, usando la parola chiave `lambda`:"
   ]
  },
  {
   "cell_type": "code",
   "execution_count": null,
   "metadata": {
    "collapsed": false,
    "jupyter": {
     "outputs_hidden": false
    }
   },
   "outputs": [],
   "source": [
    "f1 = lambda x: x**2\n",
    "    \n",
    "# è equivalente a \n",
    "\n",
    "def f2(x):\n",
    "    return x**2"
   ]
  },
  {
   "cell_type": "code",
   "execution_count": null,
   "metadata": {
    "collapsed": false,
    "jupyter": {
     "outputs_hidden": false
    }
   },
   "outputs": [],
   "source": [
    "f1(2), f2(2)"
   ]
  },
  {
   "cell_type": "markdown",
   "metadata": {},
   "source": [
    "Questa tecnica è utile ad esempio quando vogliamo passare una semplice funzione come argomento ad un'altra funzione"
   ]
  },
  {
   "cell_type": "markdown",
   "metadata": {},
   "source": [
    "#### Misurare le prestazioni di un codice in termini di tempo `time.time()`, `time.perf_counter()`,`time.process_time()`"
   ]
  },
  {
   "cell_type": "markdown",
   "metadata": {},
   "source": [
    "La funzione `'time.time()`  È utile per misurare il tempo di esecuzione di un programma o per determinare l'intervallo di tempo trascorso tra due eventi."
   ]
  },
  {
   "cell_type": "markdown",
   "metadata": {},
   "source": [
    "`import time`\n",
    "\n",
    "`start_time = time.time()`\n",
    "\n",
    "#### eseguiamo qui il nostro codice\n",
    "\n",
    "`end_time = time.time()`\n",
    "\n",
    "tempo_trascorso = end_time - start_time\n",
    "\n",
    "print(\"Il tempo trascorso è stato di\", tempo_trascorso, \"secondi.\")\n"
   ]
  },
  {
   "cell_type": "markdown",
   "metadata": {},
   "source": [
    "La funzione `time.perf_counter()` restituisce un valore di tempo ad alta precisione, specifico del sistema, che rappresenta il tempo di clock del processo corrente. Questa funzione è particolarmente utile quando si vuole misurare il tempo impiegato per eseguire un'operazione specifica."
   ]
  },
  {
   "cell_type": "markdown",
   "metadata": {},
   "source": [
    "La funzione `time.process_time()` restituisce il tempo di CPU impiegato dal processo corrente. Questa funzione è particolarmente utile quando si vuole misurare il tempo impiegato per elaborare un'operazione specifica, escludendo eventuali attese del processo (ad esempio, attese per l'I/O)."
   ]
  },
  {
   "cell_type": "code",
   "execution_count": null,
   "metadata": {},
   "outputs": [],
   "source": []
  },
  {
   "cell_type": "code",
   "execution_count": null,
   "metadata": {},
   "outputs": [],
   "source": []
  },
  {
   "cell_type": "code",
   "execution_count": null,
   "metadata": {},
   "outputs": [],
   "source": []
  },
  {
   "cell_type": "code",
   "execution_count": null,
   "metadata": {},
   "outputs": [],
   "source": []
  },
  {
   "cell_type": "code",
   "execution_count": null,
   "metadata": {},
   "outputs": [],
   "source": []
  },
  {
   "cell_type": "code",
   "execution_count": null,
   "metadata": {},
   "outputs": [],
   "source": []
  },
  {
   "cell_type": "code",
   "execution_count": null,
   "metadata": {},
   "outputs": [],
   "source": []
  },
  {
   "cell_type": "code",
   "execution_count": null,
   "metadata": {},
   "outputs": [],
   "source": []
  },
  {
   "cell_type": "code",
   "execution_count": null,
   "metadata": {},
   "outputs": [],
   "source": []
  },
  {
   "cell_type": "code",
   "execution_count": null,
   "metadata": {},
   "outputs": [],
   "source": []
  },
  {
   "cell_type": "code",
   "execution_count": null,
   "metadata": {},
   "outputs": [],
   "source": []
  },
  {
   "cell_type": "code",
   "execution_count": null,
   "metadata": {},
   "outputs": [],
   "source": []
  },
  {
   "cell_type": "code",
   "execution_count": null,
   "metadata": {},
   "outputs": [],
   "source": []
  },
  {
   "cell_type": "code",
   "execution_count": null,
   "metadata": {},
   "outputs": [],
   "source": []
  },
  {
   "cell_type": "code",
   "execution_count": null,
   "metadata": {},
   "outputs": [],
   "source": []
  },
  {
   "cell_type": "code",
   "execution_count": null,
   "metadata": {},
   "outputs": [],
   "source": []
  },
  {
   "cell_type": "code",
   "execution_count": null,
   "metadata": {},
   "outputs": [],
   "source": []
  },
  {
   "cell_type": "code",
   "execution_count": null,
   "metadata": {},
   "outputs": [],
   "source": []
  },
  {
   "cell_type": "code",
   "execution_count": null,
   "metadata": {},
   "outputs": [],
   "source": []
  },
  {
   "cell_type": "code",
   "execution_count": null,
   "metadata": {},
   "outputs": [],
   "source": []
  },
  {
   "cell_type": "code",
   "execution_count": null,
   "metadata": {},
   "outputs": [],
   "source": []
  },
  {
   "cell_type": "code",
   "execution_count": null,
   "metadata": {},
   "outputs": [],
   "source": []
  },
  {
   "cell_type": "code",
   "execution_count": null,
   "metadata": {},
   "outputs": [],
   "source": []
  },
  {
   "cell_type": "code",
   "execution_count": null,
   "metadata": {},
   "outputs": [],
   "source": []
  },
  {
   "cell_type": "code",
   "execution_count": null,
   "metadata": {},
   "outputs": [],
   "source": []
  },
  {
   "cell_type": "code",
   "execution_count": null,
   "metadata": {},
   "outputs": [],
   "source": []
  },
  {
   "cell_type": "code",
   "execution_count": null,
   "metadata": {},
   "outputs": [],
   "source": []
  },
  {
   "cell_type": "code",
   "execution_count": null,
   "metadata": {},
   "outputs": [],
   "source": []
  },
  {
   "cell_type": "code",
   "execution_count": null,
   "metadata": {},
   "outputs": [],
   "source": []
  },
  {
   "cell_type": "code",
   "execution_count": null,
   "metadata": {},
   "outputs": [],
   "source": []
  },
  {
   "cell_type": "code",
   "execution_count": null,
   "metadata": {},
   "outputs": [],
   "source": []
  },
  {
   "cell_type": "code",
   "execution_count": null,
   "metadata": {},
   "outputs": [],
   "source": []
  },
  {
   "cell_type": "code",
   "execution_count": null,
   "metadata": {},
   "outputs": [],
   "source": []
  }
 ],
 "metadata": {
  "kernelspec": {
   "display_name": "Python 3 (ipykernel)",
   "language": "python",
   "name": "python3"
  },
  "language_info": {
   "codemirror_mode": {
    "name": "ipython",
    "version": 3
   },
   "file_extension": ".py",
   "mimetype": "text/x-python",
   "name": "python",
   "nbconvert_exporter": "python",
   "pygments_lexer": "ipython3",
   "version": "3.11.5"
  }
 },
 "nbformat": 4,
 "nbformat_minor": 4
}
