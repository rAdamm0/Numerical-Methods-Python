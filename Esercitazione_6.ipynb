{
 "cells": [
  {
   "cell_type": "markdown",
   "id": "bf169812-94dc-4b34-83ff-c84a3e29571a",
   "metadata": {},
   "source": [
    "## Esercitazione 6 - 25 Marzo 2024"
   ]
  },
  {
   "cell_type": "markdown",
   "id": "6776a84b-7a0a-4001-bb1c-2316249e1bb4",
   "metadata": {},
   "source": [
    "Scrivere le funzioni python `bisezione.py`, `falsi.py`,  che implementino rispettivamente il metodo di bisezione, di falsa posizione, delle corde, delle secanti e di Newton.\n",
    "\n",
    "Le funzioni `bisezione.py`, `falsi.py` devono assumere come input:\n",
    "\n",
    "-  gli estremi dell'intervallo [a,b], dominio di f.\n",
    "-  il nome `fname` della funzione di cui calcolare lo zero\n",
    "-  tolx: tolleranza per il testi di arresto per l'errore relativo tra due iterati successivi\n",
    "-  tolf: tolleranza per il test di arresto sul valore della funzione\n",
    "-  nmax= numero massimo di iterazioni\n",
    "    \n",
    "In output:\n",
    "-      lo zero della funzione\n",
    "-      il numero di iterazioni effettuate\n",
    "-      una lista contenente tutti gli iterati xk\n",
    "\n"
   ]
  },
  {
   "cell_type": "code",
   "execution_count": 10,
   "id": "7917efab",
   "metadata": {},
   "outputs": [],
   "source": [
    "import math\n",
    "def sign(x):\n",
    "    return math.copysign(1,x)"
   ]
  },
  {
   "cell_type": "code",
   "execution_count": 11,
   "id": "9bc0a6a2",
   "metadata": {},
   "outputs": [],
   "source": [
    "def bisection_method(fname,b,a,tolx):\n",
    "    fa = fname(a)\n",
    "    fb = fname(b)\n",
    "    if sign(fa*fb)>=0:\n",
    "        print('Impossibile applicare il metodo di bisezione')\n",
    "        return None,None,None\n",
    "\n",
    "    it = 0 \n",
    "    v_xk = []\n",
    "\n",
    "    while abs(b-a)>tolx:\n",
    "        xk = a +(b-a)/2\n",
    "        v_xk.append(xk)\n",
    "        it += 1\n",
    "        fxk = fname(xk)\n",
    "        if fxk == 0:\n",
    "            return xk,it,v_xk\n",
    "        if sign(fa*fxk)<0:\n",
    "            b = xk\n",
    "            fb = fxk\n",
    "        else: \n",
    "            a=xk \n",
    "            fa = fxk\n",
    "\n",
    "    return xk, it,v_xk"
   ]
  },
  {
   "cell_type": "code",
   "execution_count": 8,
   "id": "ec15470e",
   "metadata": {},
   "outputs": [
    {
     "data": {
      "text/plain": [
       "[<matplotlib.lines.Line2D at 0x78cf60fe7370>,\n",
       " <matplotlib.lines.Line2D at 0x78cf60fe7490>]"
      ]
     },
     "execution_count": 8,
     "metadata": {},
     "output_type": "execute_result"
    },
    {
     "data": {
      "image/png": "[encoded data removed]",
      "text/plain": [
       "<Figure size 432x288 with 1 Axes>"
      ]
     },
     "metadata": {
      "needs_background": "light"
     },
     "output_type": "display_data"
    }
   ],
   "source": [
    "import numpy as np\n",
    "import matplotlib.pyplot as plt\n",
    "f = lambda x: x**3 - 6*x**2 - 4*x +24\n",
    "x = np.linspace(-3.0,8.0,100)\n",
    "plt.plot(x,f(x),'r-',x,np.ones_like(f(x)))"
   ]
  },
  {
   "cell_type": "code",
   "execution_count": 12,
   "id": "b242d69a",
   "metadata": {},
   "outputs": [
    {
     "name": "stdout",
     "output_type": "stream",
     "text": [
      "Soluzione di bisezione: -2.0000000000002274 Numero di iterazioni: 42\n"
     ]
    }
   ],
   "source": [
    "a1 = -3.0\n",
    "b1 = 0.0\n",
    "tolx = 1e-12\n",
    "xk,it,v_xk =bisection_method(f,a1,b1,tolx)\n",
    "print (\"Soluzione di bisezione:\",xk,\"Numero di iterazioni:\",it)"
   ]
  },
  {
   "cell_type": "code",
   "execution_count": 22,
   "id": "3fd18ddc",
   "metadata": {},
   "outputs": [
    {
     "data": {
      "text/plain": [
       "[<matplotlib.lines.Line2D at 0x78cf600b3b20>]"
      ]
     },
     "execution_count": 22,
     "metadata": {},
     "output_type": "execute_result"
    },
    {
     "data": {
      "image/png": "[encoded data removed]",
      "text/plain": [
       "<Figure size 432x288 with 1 Axes>"
      ]
     },
     "metadata": {
      "needs_background": "light"
     },
     "output_type": "display_data"
    }
   ],
   "source": [
    "alpha = -2.0\n",
    "ek = np.abs(np.array(v_xk) - alpha)\n",
    "plt.semilogy(np.arange(it),ek,'r*')"
   ]
  },
  {
   "cell_type": "code",
   "execution_count": 47,
   "id": "9160425f",
   "metadata": {},
   "outputs": [
    {
     "name": "stdout",
     "output_type": "stream",
     "text": [
      "Soluzione di bisezione: 2.0000000000001705 Numero di iterazioni: 43\n"
     ]
    }
   ],
   "source": [
    "a2 = 0.5\n",
    "b2 = 5\n",
    "xk, it,v_xk = bisection_method(f,a2,b2,tolx)\n",
    "print (\"Soluzione di bisezione:\",xk,\"Numero di iterazioni:\",it)\n"
   ]
  },
  {
   "cell_type": "code",
   "execution_count": 48,
   "id": "80e5f1fb",
   "metadata": {},
   "outputs": [
    {
     "data": {
      "text/plain": [
       "[<matplotlib.lines.Line2D at 0x78cf55918f40>]"
      ]
     },
     "execution_count": 48,
     "metadata": {},
     "output_type": "execute_result"
    },
    {
     "data": {
      "image/png": "[encoded data removed]",
      "text/plain": [
       "<Figure size 432x288 with 1 Axes>"
      ]
     },
     "metadata": {
      "needs_background": "light"
     },
     "output_type": "display_data"
    }
   ],
   "source": [
    "alpha = 2.0\n",
    "ek = np.abs(np.array(v_xk)-alpha)\n",
    "plt.semilogy(np.arange(it),ek,'r*')"
   ]
  },
  {
   "cell_type": "code",
   "execution_count": 55,
   "id": "72cbf1ac",
   "metadata": {},
   "outputs": [
    {
     "name": "stdout",
     "output_type": "stream",
     "text": [
      "Soluzione di bisezione: 5.999999999999659 Numero di iterazioni: 44\n"
     ]
    }
   ],
   "source": [
    "a3 = 5\n",
    "b3 = 15\n",
    "xk, it,v_xk = bisection_method(f,a3,b3,tolx)\n",
    "print (\"Soluzione di bisezione:\",xk,\"Numero di iterazioni:\",it)\n"
   ]
  },
  {
   "cell_type": "code",
   "execution_count": 56,
   "id": "e3437a8a",
   "metadata": {},
   "outputs": [
    {
     "data": {
      "text/plain": [
       "[<matplotlib.lines.Line2D at 0x78cf5587beb0>]"
      ]
     },
     "execution_count": 56,
     "metadata": {},
     "output_type": "execute_result"
    },
    {
     "data": {
      "image/png": "[encoded data removed]",
      "text/plain": [
       "<Figure size 432x288 with 1 Axes>"
      ]
     },
     "metadata": {
      "needs_background": "light"
     },
     "output_type": "display_data"
    }
   ],
   "source": [
    "alpha = 6.0\n",
    "ek = np.abs(np.array(v_xk)-alpha)\n",
    "plt.semilogy(np.arange(it),ek,'r*')"
   ]
  },
  {
   "cell_type": "markdown",
   "id": "20bbe42c-264f-40aa-887c-1505be3c0d50",
   "metadata": {},
   "source": [
    "**Sperimentazione numerica**"
   ]
  },
  {
   "cell_type": "markdown",
   "id": "22339d84-a5cc-4950-a537-104611a315f8",
   "metadata": {},
   "source": [
    "## Esercizio 1 \n",
    "\n",
    " Confrontare i metodi sopra implementati nei casi seguenti:\n",
    "- f(x) = $x^3-6x^2-4x+24$ in [-3,8], tolx = 1.e − 12, tolf = 1.e − 12, (soluzione esatta alfa=-2,2,6);\n",
    "- f(x) = exp(−x) − (x + 1) in [−1, 2]  tolx = 1.e − 12, tolf = 1.e − 12, (soluzione esatta alfa=0);\n",
    "- f(x) = log2(x + 3) − 2 in [−1, 2]  tolx = 1.e − 12, tolf = 1.e − 12, (soluzione esatta alfa=1);\n",
    "- f(x) =sqrt(x)-(x^2)/4 in [1, 3]  tolx = 1.e − 12, tolf =1.e − 12, (soluzione esatta alfa=2**(4/3))\n",
    "\n",
    "Mostrare in un grafico in scala semilogaritmica sulle ordinate (comando semilogy) l’andamento di ek = |xk − α|, k = 1, ..., nit, sapendo che α = 0, 1, 2**(4/3) nei casi 2-4.\n"
   ]
  },
  {
   "cell_type": "markdown",
   "id": "d9787fdd-725e-4803-b148-8a137e4335c8",
   "metadata": {},
   "source": [
    "## Esercizio 2\n",
    "\n",
    "- Utilizzare il metodo di bisezione per calcolare la radice quadrata di 2. Analizzate i risultati."
   ]
  },
  {
   "cell_type": "markdown",
   "id": "b83adaa1-7bed-4e12-9c11-4b0cd149a541",
   "metadata": {},
   "source": [
    "## Esercizio 3\n",
    "Scrivere una funzione numpy che calcola la norma infinito e la norma 1 di un vettore ed una matrice  e testarla su vettori e matrici  a propria scelta. Confrontarne i risultati con quelli ottenuti utilizzando la funzione norm di numpy.linalg\n",
    "\n",
    "(Ricorda la formula della norma infinito e della norma 1 di una matrice\n",
    "$||A||_\\infty= \\max_{j=1,n} \\sum_{i} |a_{ij}| $\n",
    "$\\quad ||A||_1= \\max_{i=1,n} \\sum_{j} |a_{ij}| $)"
   ]
  },
  {
   "cell_type": "markdown",
   "id": "1529f44f-dd62-4109-b9da-edd840811f55",
   "metadata": {},
   "source": [
    "## Esercizio 4\n",
    "Implementare una funzione che calcola la norma 2 di una  matrice facendo uso della funzione eigvals del pacchetto numpy.linalg, (np.linalg.eigvals(A)). Testarla sulla matrice A=np.array([[4,-1,6],[2,3,-3],[1,-2,9/2]])   e confrontarne i risultati con quelli ottenuti utilizzando la funzione norm di numpy.linalg"
   ]
  },
  {
   "cell_type": "code",
   "execution_count": null,
   "id": "51cd63ee-fe65-415f-811c-90646a08b5a4",
   "metadata": {},
   "outputs": [],
   "source": []
  }
 ],
 "metadata": {
  "kernelspec": {
   "display_name": "Python 3",
   "language": "python",
   "name": "python3"
  },
  "language_info": {
   "codemirror_mode": {
    "name": "ipython",
    "version": 3
   },
   "file_extension": ".py",
   "mimetype": "text/x-python",
   "name": "python",
   "nbconvert_exporter": "python",
   "pygments_lexer": "ipython3",
   "version": "3.10.12"
  }
 },
 "nbformat": 4,
 "nbformat_minor": 5
}
