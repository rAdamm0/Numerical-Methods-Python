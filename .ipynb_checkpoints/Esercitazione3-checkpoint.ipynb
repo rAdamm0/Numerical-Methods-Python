{
 "cells": [
  {
   "cell_type": "markdown",
   "id": "2f16cd51-b728-47c0-b39e-f22777b738f3",
   "metadata": {},
   "source": [
    "# Esercitazione 4 Marzo 2025"
   ]
  },
  {
   "cell_type": "markdown",
   "id": "cea7be83-908f-4132-b3df-6eb9633855a9",
   "metadata": {},
   "source": [
    "## Esercizio 1\n",
    "- Costruire due array numpy-array 2d di dimensione 5000x5000 i cui valori sono campionati da una distribuzione gaussiana con media 0 e varianza 1.\n",
    "- Effetuare la somma tra le due matrici con due metodi:\n",
    "\n",
    "        -  utilizzando le operazioni vettoriali \n",
    "        -  considerando due cicli espliciti annidati, su righe e colonne\n",
    "- Confrontare le prestazioni in termini di tempo di esecuzione.\n",
    "        \n"
   ]
  },
  {
   "cell_type": "markdown",
   "id": "2cc104af-5376-4b18-9945-9316885a30ed",
   "metadata": {},
   "source": [
    "## Esercizio 2\n",
    "-      Costruire il numpy array  s  formato da 40 valori equidistanti in  [0,20],\n",
    "-      considerarne il reshape in un array 2d che ha 4 righe con un numero opportuno di colonne e dire se il reshape crea una vista o una copia"
   ]
  },
  {
   "cell_type": "markdown",
   "id": "8984c411-28fa-4590-9942-3d6d5bc5c665",
   "metadata": {},
   "source": [
    "## Esercizio 3\n",
    "-     Costruire il numpy array t formato da 100 valori equidistanti in  [0,4]\n",
    "-     considerarne il reshape in un array 2d che ha 4 colonne con un numero opportuno di righe"
   ]
  },
  {
   "cell_type": "markdown",
   "id": "497ccc48-1ab8-4247-8e36-0c61e43c643c",
   "metadata": {},
   "source": [
    "## Esercizio 4\n",
    "Costruire il numpy array 1d C  di valori che variano tra 15 e 41 con step 2\n",
    "\n",
    "-     Trasformarlo in un numpy array 2d con shape(7,2) usando il metodo . resize(7,2)  che lavora in-place,  (cioè  modifica l'array esistente).  "
   ]
  },
  {
   "cell_type": "markdown",
   "id": "222a582d-184b-47b9-804b-72673a42102e",
   "metadata": {},
   "source": [
    " ## Esercizio 5\n",
    " Creare un array NumPy di 10 numeri interi casuali tra 1 e 100.\n",
    " "
   ]
  },
  {
   "cell_type": "markdown",
   "id": "26b0aef0-fa88-4ec5-923f-8fa9d0664044",
   "metadata": {},
   "source": [
    " ## Esercizio 6\n",
    " Eseguire uno shuffle degli elementi di un numpy-array di 30 numeri interi casuali tra 100 e 200.\n"
   ]
  },
  {
   "cell_type": "markdown",
   "id": "9e1c800f-6ae8-41cc-94c0-c36445e2ea55",
   "metadata": {},
   "source": [
    "  ## Esercizio 7\n",
    " Creare una permutazione casuale degli elementi di un numpy-array di 20 valori campionati da una distribuzione  gaussiana con media zero e varianza 1, senza modificarlo."
   ]
  },
  {
   "cell_type": "markdown",
   "id": "14fa94ab-ffd5-425a-8a18-f1b6d53bc87b",
   "metadata": {},
   "source": [
    " ## Esercizio 8\n",
    "-     Scrivere il numpy  array 2d, A, [[10,11,12],[13,14,15],[16,17,18]] \n",
    "-     trasformarlo in un numpy array 1d usando il metodo .ravel()  \n",
    "-     Si tratta di una copia o di una vista?"
   ]
  },
  {
   "cell_type": "markdown",
   "id": "8cef420c-3ee7-487a-b872-83c1460e11fe",
   "metadata": {},
   "source": [
    "## Esercizio 9\n",
    "-     Scrivere il numpy  array 2d, A, [[10,11,12],[13,14,15],[16,17,18]] \n",
    "-     trasformarlo in un numpy array 1d usando il metodo  .flatten().\n",
    "-     Si tratta di una copia o di una vista?"
   ]
  },
  {
   "cell_type": "markdown",
   "id": "a0b881a4-1836-4e2a-83aa-e03f4398feb5",
   "metadata": {},
   "source": [
    " ## Esercizio 10\n",
    "-     creare i due  numpy array 1d\n",
    "        f1= [ 0  1  2  3  4  5  6  7  8  9 10 11 12 13 14 15]  \n",
    "        f2= [16 17 18 19 20 21 22 23 24 25 26 27 28 29 30 31]\n",
    "-     \"vederli\" come matrici  4x4 ed effettuarne il prodotto scalare, memorizzando in f3 la matrice che nasce dal loro prodotto."
   ]
  },
  {
   "cell_type": "markdown",
   "id": "681aca16-584c-451f-b9da-cba4b11faa5e",
   "metadata": {},
   "source": [
    "## Esercizio 11\n",
    "Costruire:\n",
    " -     Numpy Array A di shape (2,10) : array di valori random campionati da una distribuzione gaussiana con media 0 e varianza 1.\n",
    " -     Numpy array 1D B di shape (20,) formato dagli interi da 0 a 19.\n",
    " \n",
    " \"Vedere\" A come un array 1D di 20 elementi ed effettuare la somma di A+B\n"
   ]
  },
  {
   "cell_type": "markdown",
   "id": "020920a7-7554-4815-b6a6-c9579d0b566c",
   "metadata": {},
   "source": [
    "## Esercizio 12\n",
    "-     Costruire f, un numpy array 1D , di shape (10,) costituito da 10 valori equidistanti nell'intervallo [0,1]\n",
    "-     aumentarne la dimensionalità, in maniera tale che abbia shape (10,1)"
   ]
  },
  {
   "cell_type": "markdown",
   "id": "610f98b2-3f2b-46e0-8a51-ac682a7b46a3",
   "metadata": {},
   "source": [
    "## Esercizio 13\n",
    "-     Costruire i seguenti numpy array\n",
    "      a= np.array([14,13,12,11])\n",
    "      b=np.array([[4,3,2,1],[9,10,11,12]])\n",
    "\n",
    "  Costruire il numpy array che si ottiene concatenando a e b per righe"
   ]
  },
  {
   "cell_type": "markdown",
   "id": "51740675-7696-4803-9506-e593431e8a27",
   "metadata": {},
   "source": [
    "## Esercizio 14\n",
    "-     Costruire i seguenti numpy array\n",
    "      a= np.array([14,13,12,11])\n",
    "      b=np.array([[4,3,2,1],[9,10,11,12],[4,3,2,1],[9,10,11,12]])\n",
    "\n",
    "-\n",
    "- Costruire il numpy array che si ottiene concatenando a e b per colonne"
   ]
  },
  {
   "cell_type": "markdown",
   "id": "0cd10bd7-8d9e-4e99-827e-83cf83393782",
   "metadata": {},
   "source": [
    "## Esercizio 15\n",
    "Costruire, facendo uso di una sola riga di codice, la matrice A di ordine 10, che ha gli unici elementi diversi da zero, sulla diagonale principale, sulla codiagonale inferiore e sulla codiagonale superiore:\n",
    "\n",
    "elementi diagonali $A_{i,i}=10 \\quad$, i=1,20\n",
    "\n",
    "elementi nella codiagonale inferiore $A_{i-1,i}=-12, \\quad$ i=2,..,20, \n",
    "\n",
    "elementi nella codiagonale superiore $A_{i,i+1}=-2 \\quad$ i=1,..,19"
   ]
  },
  {
   "cell_type": "markdown",
   "id": "53d3ad23-63ab-4719-b2d2-f2b1cb942063",
   "metadata": {},
   "source": [
    "## Esercizio 16\n",
    "Costruire la matrice identità, denominata *I*,  della stessa dimensione di *A*"
   ]
  },
  {
   "cell_type": "markdown",
   "id": "b5257ffc-b9c9-4d22-a3b4-427b03f2e8dc",
   "metadata": {},
   "source": [
    "## Esercizio 17\n",
    "Facendo uso dell'operatore slicing *:* ,costruire la matrice AA selezionando dalla matrice A le righe che vanno dalla 2 alla 9 con step 2 e le colonne che vanno dalla 3 alla 6 con step 2.\n",
    "La matrice AA è una vista o una copia?"
   ]
  },
  {
   "cell_type": "markdown",
   "id": "090aeaa9-fb12-44bc-9560-5b11a0e6f503",
   "metadata": {},
   "source": [
    "## Esercizio 18\n",
    "Facendo uso dell'operatore slicing *:*, costruire la matrice A1 selezionando dalla matrice A le colonne che vanno dalla 1 alla 5 con step 2.  Trasforma la matrice A1 in una copia."
   ]
  },
  {
   "cell_type": "markdown",
   "id": "a5449d1f-1232-4ba0-a2d6-4d2e2d9c7a36",
   "metadata": {},
   "source": [
    "## Esercizio 19\n",
    "\n",
    "Costruisci due numpy array A e B di shape (5,5) \n",
    "   - A formata da numeri interi casuali  nell'intervallo [1,20]\n",
    "   - B formata da numeri interi casuali  nell'intervallo [1,6]\n",
    " \n",
    "  Costruisci con una sola riga di codice le seguenti matrici\n",
    "  \n",
    "  C=A+B   dove  $\\quad c_{ij}=a_{ij}+b_{ij} \\quad i=0,..,n, \\quad j=0,...,n$\n",
    "  \n",
    "  D=A-B   dove  $\\quad d_{ij}=a_{ij}-b_{ij} \\quad i=0,..,n, \\quad j=0,...,n$\n",
    "  \n",
    "  E=A*B   dove  $\\quad e_{ij}=a_{ij}*b_{ij} \\quad i=0,..,n, \\quad j=0,...,n$\n",
    "  \n",
    "  F=A/B   dove  $\\quad f_{ij}=a_{ij}/b_{ij} \\quad i=0,..,n, \\quad j=0,...,n$"
   ]
  },
  {
   "cell_type": "markdown",
   "id": "5a4ad10c-ccfa-45ce-b6ba-b7ddab44db3d",
   "metadata": {},
   "source": [
    "## Esercizio 20\n",
    "Dato array NumPy che rappresenta le vendite giornaliere di un negozio per un mese,\n",
    "vendite = np.random.randint(50, 200, 30) \n",
    "\n",
    "        Trova tutti i giorni in cui le vendite sono state superiori a 150.\n",
    "\n",
    "        Calcola la media delle vendite solo per i giorni in cui sono state superiori a 150.\n",
    "\n",
    "        Imposta le vendite a 0 per tutti i giorni in cui sono state inferiori a 100.\n"
   ]
  },
  {
   "cell_type": "markdown",
   "id": "d90da717-8cd5-425f-937e-588d6ccb045a",
   "metadata": {
    "tags": []
   },
   "source": [
    "## Esercizio 21\n",
    "Costruisci A, un numpy array 2d di shape (3,3) e b,  un numpy array 2d di shape (3,1)\n",
    "e somma b ad ogni colonna di A b\n"
   ]
  },
  {
   "cell_type": "markdown",
   "id": "ece2f514-aea7-4883-9b5f-8671d698c761",
   "metadata": {},
   "source": [
    "# Esercizio 22\n",
    "dato il numpy array 2d G=np.linspace(0,10,20).reshape(-1,4), scambia in G la seconda riga con la quarta riga"
   ]
  },
  {
   "cell_type": "markdown",
   "id": "a2c733be-fc9f-4a0a-80e0-fa1570468da3",
   "metadata": {},
   "source": [
    "## Esercizio 23\n",
    "Visualizzare il grafico della funzione $f(x)=sin^2(x)/x$ in 200 punti equidistanti nell'intervallo $[0.1,2\\pi]$"
   ]
  },
  {
   "cell_type": "markdown",
   "id": "32f6ae8b-ccce-47f1-b196-820a96c325fd",
   "metadata": {},
   "source": [
    "## Esercizio 24\n",
    "\n",
    "Data il numpy arra2d ottenuto facendo un reshape a (4,4) di un numpy array 1d di 16 valori equidistanti nell'intervallo [0,4]\n",
    "ed un numpy array 1d di 4 valori  interi casuali nell'intervallo [10,60], costruire il prodotto scalare A per b,\n",
    "usando A@b, e vettorizzando solo il ciclo interno.\n"
   ]
  },
  {
   "cell_type": "markdown",
   "id": "fb626777-c3f2-423b-a01b-c9e80032e308",
   "metadata": {},
   "source": [
    "## Esercizio 25\n",
    "Dato g un numpy array 2d, estendilo di una riga in alto ed di una riga in basso, di una colonna a sinistra ed di una colonna a destra, usa la funzione g_est= np.pad(g,(1,1),mode='reflect'). Visualizza 'g_est' e commenta cosa vedi."
   ]
  },
  {
   "cell_type": "markdown",
   "id": "958c2100-787e-438b-a162-0aa08465f476",
   "metadata": {},
   "source": [
    "## Esercizio 26\n",
    "Scrivi un programma Python che esegua l'elaborazione di un'immagine utilizzando un filtro di media. \n",
    "\n",
    "Utilizza il padding per gestire i pixel del bordo durante l'applicazione del filtro.\n",
    "\n",
    "Il programma deve seguire questi passaggi:\n",
    "\n",
    "- Carica l'immagine: Carica l'immagine 'cameraman.png' utilizzando la libreria Matplotlib.**image=plt.imread('cameraman.png')**\n",
    "- Visualizza l'immagine originale **plt.imshow(image,cmap='gray')**\n",
    "- definisce la dimensione del filtro, dim_filtro\n",
    "- Applica il padding: Applica un padding costante di dim_filtro//2 pixel a tutti i bordi dell'immagine (utilizzando il metodo di numpy **image_bordered=np.pad(image,(dim_filtro//2,dim_filtro//2),, mode='reflect')**\n",
    "- Crea il filtro di media: Crea un filtro di media di dimensioni *dim_filtroxdim_filtro*, dove tutti gli elementi sono pari a 1/(dim_filtroxdim_filtro)\n",
    "- Applica il filtro: Scorri ogni pixel dell'immagine con padding (escludendo i bordi aggiunti) e applica il filtro di media.\n",
    "\n",
    "   *Per ogni pixel, calcola la somma dei prodotti tra i pixel della sottomatrice dim_filtroxdim_filtro centrata sul pixel corrente e il filtro.*\n",
    "   \n",
    "- Crea l'immagine filtrata: Crea un nuovo array NumPy che rappresenta l'immagine filtrata, dove ogni pixel contiene il risultato dell'applicazione del filtro.\n",
    "- Visualizza l'immagine filtrata: Visualizza l'immagine filtrata utilizzando Matplotlib con la mappa di colori 'gray'.\n",
    "- Aggiungi una colorbar per visualizzare la scala dei valori dell'immagine filtrata.\n",
    "- Mostra l'immagine filtrata con Matplotlib.\n",
    "\n",
    "\n",
    "Requisiti:\n",
    "\n",
    "-  Utilizzare la libreria Matplotlib per caricare e visualizzare l'immagine.\n",
    "-  Utilizzare la libreria NumPy per la manipolazione degli array e per il padding."
   ]
  }
 ],
 "metadata": {
  "kernelspec": {
   "display_name": "Python 3 (ipykernel)",
   "language": "python",
   "name": "python3"
  },
  "language_info": {
   "codemirror_mode": {
    "name": "ipython",
    "version": 3
   },
   "file_extension": ".py",
   "mimetype": "text/x-python",
   "name": "python",
   "nbconvert_exporter": "python",
   "pygments_lexer": "ipython3",
   "version": "3.11.5"
  }
 },
 "nbformat": 4,
 "nbformat_minor": 5
}
